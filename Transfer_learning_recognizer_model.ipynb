{
  "nbformat": 4,
  "nbformat_minor": 0,
  "metadata": {
    "colab": {
      "name": "Fine_tuning_recognizer_model.ipynb",
      "provenance": [],
      "collapsed_sections": []
    },
    "kernelspec": {
      "name": "python3",
      "display_name": "Python 3"
    },
    "language_info": {
      "name": "python"
    },
    "accelerator": "GPU"
  },
  "cells": [
    {
      "cell_type": "code",
      "execution_count": 1,
      "metadata": {
        "colab": {
          "base_uri": "https://localhost:8080/"
        },
        "id": "TLbAMutZsy9_",
        "outputId": "1162f758-f816-45ae-ae43-cb8ada0fed39"
      },
      "outputs": [
        {
          "output_type": "stream",
          "name": "stdout",
          "text": [
            "Looking in indexes: https://pypi.org/simple, https://us-python.pkg.dev/colab-wheels/public/simple/\n",
            "Collecting git+https://github.com/faustomorales/keras-ocr.git\n",
            "  Cloning https://github.com/faustomorales/keras-ocr.git to /tmp/pip-req-build-g8t75ruh\n",
            "  Running command git clone -q https://github.com/faustomorales/keras-ocr.git /tmp/pip-req-build-g8t75ruh\n",
            "  Installing build dependencies ... \u001b[?25l\u001b[?25hdone\n",
            "  Getting requirements to build wheel ... \u001b[?25l\u001b[?25hdone\n",
            "    Preparing wheel metadata ... \u001b[?25l\u001b[?25hdone\n",
            "Collecting fonttools\n",
            "  Downloading fonttools-4.33.3-py3-none-any.whl (930 kB)\n",
            "\u001b[K     |████████████████████████████████| 930 kB 12.5 MB/s \n",
            "\u001b[?25hCollecting validators\n",
            "  Downloading validators-0.19.0.tar.gz (30 kB)\n",
            "Collecting essential_generators\n",
            "  Downloading essential_generators-1.0-py3-none-any.whl (9.5 MB)\n",
            "\u001b[K     |████████████████████████████████| 9.5 MB 53.1 MB/s \n",
            "\u001b[?25hRequirement already satisfied: tqdm in /usr/local/lib/python3.7/dist-packages (from keras-ocr==0.9.0.post2+40bb9bd) (4.64.0)\n",
            "Collecting efficientnet==1.0.0\n",
            "  Downloading efficientnet-1.0.0-py3-none-any.whl (17 kB)\n",
            "Requirement already satisfied: shapely in /usr/local/lib/python3.7/dist-packages (from keras-ocr==0.9.0.post2+40bb9bd) (1.8.2)\n",
            "Requirement already satisfied: imgaug in /usr/local/lib/python3.7/dist-packages (from keras-ocr==0.9.0.post2+40bb9bd) (0.2.9)\n",
            "Requirement already satisfied: editdistance in /usr/local/lib/python3.7/dist-packages (from keras-ocr==0.9.0.post2+40bb9bd) (0.5.3)\n",
            "Collecting pyclipper\n",
            "  Downloading pyclipper-1.3.0.post2-cp37-cp37m-manylinux_2_5_x86_64.manylinux1_x86_64.whl (603 kB)\n",
            "\u001b[K     |████████████████████████████████| 603 kB 63.3 MB/s \n",
            "\u001b[?25hCollecting keras-applications<=1.0.8,>=1.0.7\n",
            "  Downloading Keras_Applications-1.0.8-py3-none-any.whl (50 kB)\n",
            "\u001b[K     |████████████████████████████████| 50 kB 7.5 MB/s \n",
            "\u001b[?25hRequirement already satisfied: scikit-image in /usr/local/lib/python3.7/dist-packages (from efficientnet==1.0.0->keras-ocr==0.9.0.post2+40bb9bd) (0.18.3)\n",
            "Requirement already satisfied: numpy>=1.9.1 in /usr/local/lib/python3.7/dist-packages (from keras-applications<=1.0.8,>=1.0.7->efficientnet==1.0.0->keras-ocr==0.9.0.post2+40bb9bd) (1.21.6)\n",
            "Requirement already satisfied: h5py in /usr/local/lib/python3.7/dist-packages (from keras-applications<=1.0.8,>=1.0.7->efficientnet==1.0.0->keras-ocr==0.9.0.post2+40bb9bd) (3.1.0)\n",
            "Requirement already satisfied: cached-property in /usr/local/lib/python3.7/dist-packages (from h5py->keras-applications<=1.0.8,>=1.0.7->efficientnet==1.0.0->keras-ocr==0.9.0.post2+40bb9bd) (1.5.2)\n",
            "Requirement already satisfied: imageio in /usr/local/lib/python3.7/dist-packages (from imgaug->keras-ocr==0.9.0.post2+40bb9bd) (2.4.1)\n",
            "Requirement already satisfied: opencv-python in /usr/local/lib/python3.7/dist-packages (from imgaug->keras-ocr==0.9.0.post2+40bb9bd) (4.1.2.30)\n",
            "Requirement already satisfied: scipy in /usr/local/lib/python3.7/dist-packages (from imgaug->keras-ocr==0.9.0.post2+40bb9bd) (1.4.1)\n",
            "Requirement already satisfied: Pillow in /usr/local/lib/python3.7/dist-packages (from imgaug->keras-ocr==0.9.0.post2+40bb9bd) (7.1.2)\n",
            "Requirement already satisfied: matplotlib in /usr/local/lib/python3.7/dist-packages (from imgaug->keras-ocr==0.9.0.post2+40bb9bd) (3.2.2)\n",
            "Requirement already satisfied: six in /usr/local/lib/python3.7/dist-packages (from imgaug->keras-ocr==0.9.0.post2+40bb9bd) (1.15.0)\n",
            "Requirement already satisfied: tifffile>=2019.7.26 in /usr/local/lib/python3.7/dist-packages (from scikit-image->efficientnet==1.0.0->keras-ocr==0.9.0.post2+40bb9bd) (2021.11.2)\n",
            "Requirement already satisfied: PyWavelets>=1.1.1 in /usr/local/lib/python3.7/dist-packages (from scikit-image->efficientnet==1.0.0->keras-ocr==0.9.0.post2+40bb9bd) (1.3.0)\n",
            "Requirement already satisfied: networkx>=2.0 in /usr/local/lib/python3.7/dist-packages (from scikit-image->efficientnet==1.0.0->keras-ocr==0.9.0.post2+40bb9bd) (2.6.3)\n",
            "Requirement already satisfied: kiwisolver>=1.0.1 in /usr/local/lib/python3.7/dist-packages (from matplotlib->imgaug->keras-ocr==0.9.0.post2+40bb9bd) (1.4.2)\n",
            "Requirement already satisfied: cycler>=0.10 in /usr/local/lib/python3.7/dist-packages (from matplotlib->imgaug->keras-ocr==0.9.0.post2+40bb9bd) (0.11.0)\n",
            "Requirement already satisfied: pyparsing!=2.0.4,!=2.1.2,!=2.1.6,>=2.0.1 in /usr/local/lib/python3.7/dist-packages (from matplotlib->imgaug->keras-ocr==0.9.0.post2+40bb9bd) (3.0.9)\n",
            "Requirement already satisfied: python-dateutil>=2.1 in /usr/local/lib/python3.7/dist-packages (from matplotlib->imgaug->keras-ocr==0.9.0.post2+40bb9bd) (2.8.2)\n",
            "Requirement already satisfied: typing-extensions in /usr/local/lib/python3.7/dist-packages (from kiwisolver>=1.0.1->matplotlib->imgaug->keras-ocr==0.9.0.post2+40bb9bd) (4.2.0)\n",
            "Requirement already satisfied: decorator>=3.4.0 in /usr/local/lib/python3.7/dist-packages (from validators->keras-ocr==0.9.0.post2+40bb9bd) (4.4.2)\n",
            "Building wheels for collected packages: keras-ocr, validators\n",
            "  Building wheel for keras-ocr (PEP 517) ... \u001b[?25l\u001b[?25hdone\n",
            "  Created wheel for keras-ocr: filename=keras_ocr-0.9.0.post2+40bb9bd-py3-none-any.whl size=42441 sha256=395ed38f34cb967c37e2cf7ce5f322a5231d7070ae68addf74cc2ca4a5851340\n",
            "  Stored in directory: /tmp/pip-ephem-wheel-cache-ifuhp4pf/wheels/20/d0/06/ed290995144ec8dde71d3a91d0d590145445c01be60ea70c9b\n",
            "  Building wheel for validators (setup.py) ... \u001b[?25l\u001b[?25hdone\n",
            "  Created wheel for validators: filename=validators-0.19.0-py3-none-any.whl size=19553 sha256=998d71485a88d5fefe45fac5d04f184a41d1becbd1c85fec9d3331cd3e943ca6\n",
            "  Stored in directory: /root/.cache/pip/wheels/fe/5d/69/ff53a908b9f14fb7730a58fdede0fac4cdc99ef3624ec76d05\n",
            "Successfully built keras-ocr validators\n",
            "Installing collected packages: keras-applications, validators, pyclipper, fonttools, essential-generators, efficientnet, keras-ocr\n",
            "Successfully installed efficientnet-1.0.0 essential-generators-1.0 fonttools-4.33.3 keras-applications-1.0.8 keras-ocr-0.9.0.post2+40bb9bd pyclipper-1.3.0.post2 validators-0.19.0\n",
            "Looking in indexes: https://pypi.org/simple, https://us-python.pkg.dev/colab-wheels/public/simple/\n",
            "Requirement already satisfied: imgaug in /usr/local/lib/python3.7/dist-packages (0.2.9)\n",
            "Requirement already satisfied: scipy in /usr/local/lib/python3.7/dist-packages (from imgaug) (1.4.1)\n",
            "Requirement already satisfied: scikit-image>=0.11.0 in /usr/local/lib/python3.7/dist-packages (from imgaug) (0.18.3)\n",
            "Requirement already satisfied: opencv-python in /usr/local/lib/python3.7/dist-packages (from imgaug) (4.1.2.30)\n",
            "Requirement already satisfied: numpy>=1.15.0 in /usr/local/lib/python3.7/dist-packages (from imgaug) (1.21.6)\n",
            "Requirement already satisfied: imageio in /usr/local/lib/python3.7/dist-packages (from imgaug) (2.4.1)\n",
            "Requirement already satisfied: Shapely in /usr/local/lib/python3.7/dist-packages (from imgaug) (1.8.2)\n",
            "Requirement already satisfied: six in /usr/local/lib/python3.7/dist-packages (from imgaug) (1.15.0)\n",
            "Requirement already satisfied: Pillow in /usr/local/lib/python3.7/dist-packages (from imgaug) (7.1.2)\n",
            "Requirement already satisfied: matplotlib in /usr/local/lib/python3.7/dist-packages (from imgaug) (3.2.2)\n",
            "Requirement already satisfied: networkx>=2.0 in /usr/local/lib/python3.7/dist-packages (from scikit-image>=0.11.0->imgaug) (2.6.3)\n",
            "Requirement already satisfied: PyWavelets>=1.1.1 in /usr/local/lib/python3.7/dist-packages (from scikit-image>=0.11.0->imgaug) (1.3.0)\n",
            "Requirement already satisfied: tifffile>=2019.7.26 in /usr/local/lib/python3.7/dist-packages (from scikit-image>=0.11.0->imgaug) (2021.11.2)\n",
            "Requirement already satisfied: python-dateutil>=2.1 in /usr/local/lib/python3.7/dist-packages (from matplotlib->imgaug) (2.8.2)\n",
            "Requirement already satisfied: pyparsing!=2.0.4,!=2.1.2,!=2.1.6,>=2.0.1 in /usr/local/lib/python3.7/dist-packages (from matplotlib->imgaug) (3.0.9)\n",
            "Requirement already satisfied: cycler>=0.10 in /usr/local/lib/python3.7/dist-packages (from matplotlib->imgaug) (0.11.0)\n",
            "Requirement already satisfied: kiwisolver>=1.0.1 in /usr/local/lib/python3.7/dist-packages (from matplotlib->imgaug) (1.4.2)\n",
            "Requirement already satisfied: typing-extensions in /usr/local/lib/python3.7/dist-packages (from kiwisolver>=1.0.1->matplotlib->imgaug) (4.2.0)\n",
            "Looking in indexes: https://pypi.org/simple, https://us-python.pkg.dev/colab-wheels/public/simple/\n",
            "Requirement already satisfied: opencv-python in /usr/local/lib/python3.7/dist-packages (4.1.2.30)\n",
            "Collecting opencv-python\n",
            "  Downloading opencv_python-4.5.5.64-cp36-abi3-manylinux_2_17_x86_64.manylinux2014_x86_64.whl (60.5 MB)\n",
            "\u001b[K     |████████████████████████████████| 60.5 MB 1.2 MB/s \n",
            "\u001b[?25hRequirement already satisfied: numpy>=1.14.5 in /usr/local/lib/python3.7/dist-packages (from opencv-python) (1.21.6)\n",
            "Installing collected packages: opencv-python\n",
            "  Attempting uninstall: opencv-python\n",
            "    Found existing installation: opencv-python 4.1.2.30\n",
            "    Uninstalling opencv-python-4.1.2.30:\n",
            "      Successfully uninstalled opencv-python-4.1.2.30\n",
            "\u001b[31mERROR: pip's dependency resolver does not currently take into account all the packages that are installed. This behaviour is the source of the following dependency conflicts.\n",
            "albumentations 0.1.12 requires imgaug<0.2.7,>=0.2.5, but you have imgaug 0.2.9 which is incompatible.\u001b[0m\n",
            "Successfully installed opencv-python-4.5.5.64\n",
            "/usr/local/lib/python3.7/dist-packages/gdown/cli.py:131: FutureWarning: Option `--id` was deprecated in version 4.3.1 and will be removed in 5.0. You don't need to pass it anymore to use a file ID.\n",
            "  category=FutureWarning,\n",
            "Downloading...\n",
            "From: https://drive.google.com/uc?id=12WOvX4IDbmJUTDOdWbV3wWAc4lr5GGmO\n",
            "To: /content/Challenge2_Training_Task3_Images_GT.zip\n",
            "100% 83.9M/83.9M [00:00<00:00, 102MB/s]\n",
            "/usr/local/lib/python3.7/dist-packages/gdown/cli.py:131: FutureWarning: Option `--id` was deprecated in version 4.3.1 and will be removed in 5.0. You don't need to pass it anymore to use a file ID.\n",
            "  category=FutureWarning,\n",
            "Downloading...\n",
            "From: https://drive.google.com/uc?id=1xCeveu2CyYLNyTeXfsRRTABPwGRYpI82\n",
            "To: /content/Challenge2_Test_Task3_Images_GT.zip\n",
            "100% 82.8M/82.8M [00:00<00:00, 141MB/s]\n"
          ]
        }
      ],
      "source": [
        "!pip install -U git+https://github.com/faustomorales/keras-ocr.git\n",
        "!pip install imgaug\n",
        "!pip install -U opencv-python\n",
        "%tensorflow_version 2.x\n",
        "\n",
        "!gdown --id 12WOvX4IDbmJUTDOdWbV3wWAc4lr5GGmO\n",
        "!gdown --id 1xCeveu2CyYLNyTeXfsRRTABPwGRYpI82"
      ]
    },
    {
      "cell_type": "code",
      "source": [
        "import random\n",
        "import string\n",
        "import math\n",
        "import itertools\n",
        "import os\n",
        "import zipfile\n",
        "import typing\n",
        "\n",
        "import numpy as np\n",
        "\n",
        "import imgaug\n",
        "import matplotlib.pyplot as plt\n",
        "import tensorflow as tf\n",
        "import sklearn.model_selection\n",
        "\n",
        "import keras_ocr\n",
        "\n",
        "dir = \".\""
      ],
      "metadata": {
        "id": "qNRucnyf_UGq"
      },
      "execution_count": 2,
      "outputs": []
    },
    {
      "cell_type": "code",
      "source": [
        "def extract_train_dataset(main_dir=\".\"):\n",
        "  if not os.path.isdir(main_dir):\n",
        "    os.mkdir(main_dir)\n",
        "  train_image_dir = os.path.join(main_dir, \"train_images\")\n",
        "  if not os.path.isdir(train_image_dir):\n",
        "    os.mkdir(train_image_dir)\n",
        "  training_zip_images_path = os.path.join(\".\", \"Challenge2_Training_Task3_Images_GT.zip\")\n",
        "  if len(os.listdir(train_image_dir)) != 849:\n",
        "    with zipfile.ZipFile(training_zip_images_path, 'r') as zip_ref:\n",
        "      zip_ref.extractall(train_image_dir)"
      ],
      "metadata": {
        "id": "4C4XvrTP_Qy3"
      },
      "execution_count": 3,
      "outputs": []
    },
    {
      "cell_type": "code",
      "source": [
        "def extract_test_dataset(main_dir=\".\"):\n",
        "  if not os.path.isdir(main_dir):\n",
        "    os.mkdir(main_dir)\n",
        "  test_image_dir = os.path.join(main_dir, \"test_images\")\n",
        "  if not os.path.isdir(test_image_dir):\n",
        "    os.mkdir(test_image_dir)\n",
        "  training_zip_images_path = os.path.join(\".\", \"Challenge2_Test_Task3_Images_GT.zip\")\n",
        "  if len(os.listdir(test_image_dir)) != 1095:\n",
        "    with zipfile.ZipFile(training_zip_images_path, 'r') as zip_ref:\n",
        "      zip_ref.extractall(test_image_dir)"
      ],
      "metadata": {
        "id": "D7UDz7LKyxOr"
      },
      "execution_count": 4,
      "outputs": []
    },
    {
      "cell_type": "code",
      "source": [
        "def preprocess_train_dataset(dir=\".\"):\n",
        "  main_dir = os.path.join(dir, \"icdar2013\")\n",
        "  extract_train_dataset(main_dir)\n",
        "  dataset = []\n",
        "\n",
        "  train_image_dir = os.path.join(main_dir, \"train_images\")\n",
        "  train_gt_path = os.path.join(train_image_dir, \"gt.txt\")\n",
        "\n",
        "  dataset = []\n",
        "\n",
        "  with open(train_gt_path, \"r\", encoding=\"utf8\") as f:\n",
        "    for line in f:\n",
        "      image_id, text = line.split(\".png,\")\n",
        "      text = text.strip(\"\\\"\\n \").lower()\n",
        "      image_path = os.path.join(train_image_dir, image_id + \".png\")\n",
        "      dataset.append((image_path, None, text))\n",
        "      \n",
        "  return dataset"
      ],
      "metadata": {
        "id": "GQnVhf2DSlKn"
      },
      "execution_count": 5,
      "outputs": []
    },
    {
      "cell_type": "code",
      "source": [
        "def preprocess_test_dataset(dir=\".\"):\n",
        "  main_dir = os.path.join(dir, \"icdar2013\")\n",
        "  extract_test_dataset(main_dir)\n",
        "  dataset = []\n",
        "\n",
        "  test_image_dir = os.path.join(main_dir, \"test_images\")\n",
        "  test_gt_path = os.path.join(test_image_dir, \"gt.txt\")\n",
        "\n",
        "  dataset = []\n",
        "\n",
        "  with open(test_gt_path, \"r\", encoding=\"utf8\") as f:\n",
        "    for line in f:\n",
        "      image_id, text = line.split(\".png,\")\n",
        "      text = text.strip(\"\\\"\\n \").lower()\n",
        "      image_path = os.path.join(test_image_dir, image_id + \".png\")\n",
        "      dataset.append((image_path, None, text))\n",
        "      \n",
        "  return dataset"
      ],
      "metadata": {
        "id": "isX0szEL0xHO"
      },
      "execution_count": 6,
      "outputs": []
    },
    {
      "cell_type": "code",
      "source": [
        "main_dir = os.path.join(dir, \"icdar2013\")\n",
        "test_image_dir = os.path.join(main_dir, \"test_images\")\n",
        "for filename in os.listdir(test_image_dir):\n",
        "  if filename == \"gt.txt\":\n",
        "    print(filename)"
      ],
      "metadata": {
        "id": "47BattblAuSj",
        "colab": {
          "base_uri": "https://localhost:8080/"
        },
        "outputId": "74d4cf69-d311-47e4-c7ae-c86f26df3d20"
      },
      "execution_count": 9,
      "outputs": [
        {
          "output_type": "stream",
          "name": "stdout",
          "text": [
            "gt.txt\n"
          ]
        }
      ]
    },
    {
      "cell_type": "code",
      "source": [
        "train_dataset = preprocess_train_dataset(dir)\n",
        "test_dataset = preprocess_test_dataset(dir)\n",
        "train_labels = [(filepath, box, word.lower()) for filepath, box, word in train_dataset]\n",
        "test = [(filepath, box, word.lower()) for filepath, box, word in test_dataset]\n",
        "\n",
        "train_labels_extend, test = sklearn.model_selection.train_test_split(test, test_size=0.5, random_state=42)\n",
        "validation_labels, test_labels = sklearn.model_selection.train_test_split(test, test_size=0.5, random_state=42)\n",
        "\n",
        "train_labels.extend(train_labels_extend)"
      ],
      "metadata": {
        "id": "eG7XxiiyaFI7"
      },
      "execution_count": 17,
      "outputs": []
    },
    {
      "cell_type": "code",
      "source": [
        "print(len(train_labels))\n",
        "print(len(validation_labels))\n",
        "print(len(test_labels))"
      ],
      "metadata": {
        "colab": {
          "base_uri": "https://localhost:8080/"
        },
        "id": "koBI-zoi40J3",
        "outputId": "2be0e9d9-38f2-419c-d3f5-0548310bdf3a"
      },
      "execution_count": 18,
      "outputs": [
        {
          "output_type": "stream",
          "name": "stdout",
          "text": [
            "1395\n",
            "274\n",
            "274\n"
          ]
        }
      ]
    },
    {
      "cell_type": "code",
      "source": [
        "alphabet = string.digits + string.ascii_letters + '!?., '\n",
        "recognizer_alphabet = ''.join(sorted(set(alphabet.lower())))"
      ],
      "metadata": {
        "id": "v4aowCkR29ol"
      },
      "execution_count": 19,
      "outputs": []
    },
    {
      "cell_type": "code",
      "source": [
        "print(recognizer_alphabet)"
      ],
      "metadata": {
        "colab": {
          "base_uri": "https://localhost:8080/"
        },
        "id": "Fi96vIRTtvG9",
        "outputId": "93ad1e88-78f7-45e8-b754-4078bd9890c4"
      },
      "execution_count": 20,
      "outputs": [
        {
          "output_type": "stream",
          "name": "stdout",
          "text": [
            " !,.0123456789?abcdefghijklmnopqrstuvwxyz\n"
          ]
        }
      ]
    },
    {
      "cell_type": "code",
      "source": [
        "BUILD_PARAMS = {\n",
        "    \"height\": 31,\n",
        "    \"width\": 200,\n",
        "    \"color\": False,\n",
        "    \"filters\": (64, 128, 256, 256, 512, 512, 512),\n",
        "    \"rnn_units\": (128, 128),\n",
        "    \"dropout\": 0.2,\n",
        "    \"rnn_steps_to_discard\": 2,\n",
        "    \"pool_size\": 2,\n",
        "    \"stn\": True,\n",
        "}"
      ],
      "metadata": {
        "id": "-pulboqyo68O"
      },
      "execution_count": 27,
      "outputs": []
    },
    {
      "cell_type": "code",
      "source": [
        "detector = keras_ocr.detection.Detector(weights='clovaai_general')\n",
        "recognizer = keras_ocr.recognition.Recognizer(\n",
        "    alphabet=recognizer_alphabet,\n",
        "    weights='kurapan',\n",
        "    build_params=BUILD_PARAMS\n",
        ")\n",
        "recognizer.compile(metrics=[\"acc\"])\n",
        "for layer in recognizer.backbone.layers:\n",
        "    layer.trainable = False"
      ],
      "metadata": {
        "colab": {
          "base_uri": "https://localhost:8080/"
        },
        "id": "5WwUSuJVEG5V",
        "outputId": "057af1c1-aabe-4989-8942-0da7f55744b8"
      },
      "execution_count": 28,
      "outputs": [
        {
          "output_type": "stream",
          "name": "stdout",
          "text": [
            "Looking for /root/.keras-ocr/craft_mlt_25k.h5\n",
            "Provided alphabet does not match pretrained alphabet. Using backbone weights only.\n",
            "Looking for /root/.keras-ocr/crnn_kurapan_notop.h5\n"
          ]
        }
      ]
    },
    {
      "cell_type": "code",
      "source": [
        "batch_size = 8\n",
        "augmenter = imgaug.augmenters.Sequential([\n",
        "    imgaug.augmenters.GammaContrast(gamma=(0.25, 3.0)),\n",
        "])\n",
        "\n",
        "(training_image_gen, training_steps), (validation_image_gen, validation_steps) = [\n",
        "    (\n",
        "        keras_ocr.datasets.get_recognizer_image_generator(\n",
        "            labels=labels,\n",
        "            height=recognizer.model.input_shape[1],\n",
        "            width=recognizer.model.input_shape[2],\n",
        "            alphabet=recognizer.alphabet,\n",
        "            augmenter=augmenter\n",
        "        ),\n",
        "        len(labels) // batch_size\n",
        "    ) for labels, augmenter in [(train_labels, augmenter), (validation_labels, None)]     \n",
        "]\n",
        "training_gen, validation_gen = [\n",
        "    recognizer.get_batch_generator(\n",
        "        image_generator=image_generator,\n",
        "        batch_size=batch_size\n",
        "    )\n",
        "    for image_generator in [training_image_gen, validation_image_gen]\n",
        "]"
      ],
      "metadata": {
        "id": "zq5v6ZYvHdOa"
      },
      "execution_count": 29,
      "outputs": []
    },
    {
      "cell_type": "code",
      "source": [
        "callbacks = [\n",
        "    tf.keras.callbacks.EarlyStopping(monitor='val_loss', patience=30, restore_best_weights=False),\n",
        "    tf.keras.callbacks.ModelCheckpoint('recognizer_icdar2013.h5', monitor='val_loss', save_best_only=True),\n",
        "]\n",
        "recognizer.training_model.fit(\n",
        "    x=training_gen,\n",
        "    steps_per_epoch=training_steps,\n",
        "    validation_steps=validation_steps,\n",
        "    validation_data=validation_gen,\n",
        "    callbacks=callbacks,\n",
        "    epochs=50,\n",
        "    verbose=1\n",
        ")"
      ],
      "metadata": {
        "colab": {
          "base_uri": "https://localhost:8080/"
        },
        "id": "DO1Gi09DIFOj",
        "outputId": "acb83a9a-49d8-482b-ae54-165f0ef27e22"
      },
      "execution_count": 30,
      "outputs": [
        {
          "output_type": "stream",
          "name": "stdout",
          "text": [
            "67 / 1395 instances have illegal characters.\n",
            "Epoch 1/50\n",
            "174/174 [==============================] - ETA: 0s - loss: 13.2725 - acc: 0.005716 / 274 instances have illegal characters.\n",
            "174/174 [==============================] - 27s 110ms/step - loss: 13.2725 - acc: 0.0057 - val_loss: 5.0784 - val_acc: 0.0809\n",
            "Epoch 2/50\n",
            "174/174 [==============================] - 17s 98ms/step - loss: 3.4950 - acc: 0.2773 - val_loss: 3.6560 - val_acc: 0.3676\n",
            "Epoch 3/50\n",
            "174/174 [==============================] - 17s 99ms/step - loss: 2.5933 - acc: 0.4799 - val_loss: 4.3938 - val_acc: 0.3676\n",
            "Epoch 4/50\n",
            "174/174 [==============================] - 17s 99ms/step - loss: 1.9046 - acc: 0.5963 - val_loss: 3.2881 - val_acc: 0.3824\n",
            "Epoch 5/50\n",
            "174/174 [==============================] - 17s 98ms/step - loss: 1.4031 - acc: 0.6767 - val_loss: 3.1797 - val_acc: 0.4816\n",
            "Epoch 6/50\n",
            "174/174 [==============================] - 17s 97ms/step - loss: 1.1273 - acc: 0.7170 - val_loss: 4.1948 - val_acc: 0.3676\n",
            "Epoch 7/50\n",
            "174/174 [==============================] - 17s 99ms/step - loss: 0.9698 - acc: 0.7313 - val_loss: 2.9764 - val_acc: 0.5699\n",
            "Epoch 8/50\n",
            "174/174 [==============================] - 17s 97ms/step - loss: 0.8127 - acc: 0.7902 - val_loss: 3.1697 - val_acc: 0.5441\n",
            "Epoch 9/50\n",
            "174/174 [==============================] - 17s 96ms/step - loss: 0.6848 - acc: 0.7909 - val_loss: 3.5601 - val_acc: 0.5257\n",
            "Epoch 10/50\n",
            "174/174 [==============================] - 17s 97ms/step - loss: 0.6594 - acc: 0.8082 - val_loss: 3.1184 - val_acc: 0.5699\n",
            "Epoch 11/50\n",
            "174/174 [==============================] - 17s 98ms/step - loss: 0.6522 - acc: 0.8226 - val_loss: 2.8000 - val_acc: 0.5919\n",
            "Epoch 12/50\n",
            "174/174 [==============================] - 17s 98ms/step - loss: 0.4757 - acc: 0.8434 - val_loss: 2.2073 - val_acc: 0.6544\n",
            "Epoch 13/50\n",
            "174/174 [==============================] - 17s 97ms/step - loss: 0.5210 - acc: 0.8513 - val_loss: 3.3857 - val_acc: 0.6287\n",
            "Epoch 14/50\n",
            "174/174 [==============================] - 17s 97ms/step - loss: 0.4563 - acc: 0.8707 - val_loss: 3.0014 - val_acc: 0.6287\n",
            "Epoch 15/50\n",
            "174/174 [==============================] - 17s 97ms/step - loss: 0.4146 - acc: 0.8815 - val_loss: 3.0702 - val_acc: 0.6471\n",
            "Epoch 16/50\n",
            "174/174 [==============================] - 17s 98ms/step - loss: 0.3361 - acc: 0.8879 - val_loss: 3.3704 - val_acc: 0.6875\n",
            "Epoch 17/50\n",
            "174/174 [==============================] - 17s 97ms/step - loss: 0.3840 - acc: 0.8750 - val_loss: 3.8258 - val_acc: 0.6140\n",
            "Epoch 18/50\n",
            "174/174 [==============================] - 17s 96ms/step - loss: 0.3454 - acc: 0.8901 - val_loss: 4.3065 - val_acc: 0.5110\n",
            "Epoch 19/50\n",
            "174/174 [==============================] - 17s 96ms/step - loss: 0.3634 - acc: 0.9016 - val_loss: 3.6099 - val_acc: 0.5956\n",
            "Epoch 20/50\n",
            "174/174 [==============================] - 17s 96ms/step - loss: 0.3066 - acc: 0.8973 - val_loss: 3.1662 - val_acc: 0.6287\n",
            "Epoch 21/50\n",
            "174/174 [==============================] - 17s 96ms/step - loss: 0.2797 - acc: 0.9023 - val_loss: 3.5580 - val_acc: 0.5404\n",
            "Epoch 22/50\n",
            "174/174 [==============================] - 17s 97ms/step - loss: 0.2894 - acc: 0.8987 - val_loss: 3.3666 - val_acc: 0.6397\n",
            "Epoch 23/50\n",
            "174/174 [==============================] - 17s 97ms/step - loss: 0.2868 - acc: 0.9080 - val_loss: 4.0583 - val_acc: 0.6324\n",
            "Epoch 24/50\n",
            "174/174 [==============================] - 17s 98ms/step - loss: 0.2926 - acc: 0.9224 - val_loss: 4.3961 - val_acc: 0.5993\n",
            "Epoch 25/50\n",
            "174/174 [==============================] - 17s 97ms/step - loss: 0.2786 - acc: 0.9109 - val_loss: 3.7955 - val_acc: 0.6140\n",
            "Epoch 26/50\n",
            "174/174 [==============================] - 17s 97ms/step - loss: 0.2309 - acc: 0.9253 - val_loss: 3.8377 - val_acc: 0.5993\n",
            "Epoch 27/50\n",
            "174/174 [==============================] - 17s 96ms/step - loss: 0.1515 - acc: 0.9361 - val_loss: 3.3434 - val_acc: 0.6618\n",
            "Epoch 28/50\n",
            "174/174 [==============================] - 17s 97ms/step - loss: 0.2082 - acc: 0.9368 - val_loss: 3.5796 - val_acc: 0.6397\n",
            "Epoch 29/50\n",
            "174/174 [==============================] - 17s 97ms/step - loss: 0.2091 - acc: 0.9318 - val_loss: 3.1152 - val_acc: 0.6912\n",
            "Epoch 30/50\n",
            "174/174 [==============================] - 17s 97ms/step - loss: 0.2149 - acc: 0.9274 - val_loss: 3.9789 - val_acc: 0.6103\n",
            "Epoch 31/50\n",
            "174/174 [==============================] - 17s 97ms/step - loss: 0.1490 - acc: 0.9461 - val_loss: 3.8549 - val_acc: 0.6434\n",
            "Epoch 32/50\n",
            "174/174 [==============================] - 17s 96ms/step - loss: 0.1818 - acc: 0.9425 - val_loss: 3.3935 - val_acc: 0.6728\n",
            "Epoch 33/50\n",
            "174/174 [==============================] - 17s 97ms/step - loss: 0.1904 - acc: 0.9310 - val_loss: 4.4710 - val_acc: 0.5772\n",
            "Epoch 34/50\n",
            "174/174 [==============================] - 17s 97ms/step - loss: 0.3203 - acc: 0.9260 - val_loss: 5.6373 - val_acc: 0.5441\n",
            "Epoch 35/50\n",
            "174/174 [==============================] - 17s 97ms/step - loss: 0.8280 - acc: 0.8484 - val_loss: 4.4342 - val_acc: 0.6029\n",
            "Epoch 36/50\n",
            "174/174 [==============================] - 17s 98ms/step - loss: 0.2606 - acc: 0.9131 - val_loss: 4.5879 - val_acc: 0.6103\n",
            "Epoch 37/50\n",
            "174/174 [==============================] - 17s 96ms/step - loss: 0.7934 - acc: 0.8240 - val_loss: 3.4710 - val_acc: 0.5735\n",
            "Epoch 38/50\n",
            "174/174 [==============================] - 17s 96ms/step - loss: 0.6210 - acc: 0.8125 - val_loss: 4.3657 - val_acc: 0.5699\n",
            "Epoch 39/50\n",
            "174/174 [==============================] - 17s 96ms/step - loss: 7.1843 - acc: 0.3994 - val_loss: 7.6750 - val_acc: 0.1875\n",
            "Epoch 40/50\n",
            "174/174 [==============================] - 17s 97ms/step - loss: 4.0295 - acc: 0.3944 - val_loss: 4.3210 - val_acc: 0.4963\n",
            "Epoch 41/50\n",
            "174/174 [==============================] - 17s 96ms/step - loss: 1.4422 - acc: 0.7076 - val_loss: 4.9585 - val_acc: 0.4816\n",
            "Epoch 42/50\n",
            "174/174 [==============================] - 17s 96ms/step - loss: 1.4736 - acc: 0.6803 - val_loss: 5.4216 - val_acc: 0.4154\n"
          ]
        },
        {
          "output_type": "execute_result",
          "data": {
            "text/plain": [
              "<keras.callbacks.History at 0x7fa84c3af110>"
            ]
          },
          "metadata": {},
          "execution_count": 30
        }
      ]
    },
    {
      "cell_type": "code",
      "source": [
        "from google.colab import files\n",
        "files.download('/content/recognizer_icdar2013.h5') "
      ],
      "metadata": {
        "id": "4OM4w-5IIvPF"
      },
      "execution_count": null,
      "outputs": []
    },
    {
      "cell_type": "code",
      "source": [
        ""
      ],
      "metadata": {
        "id": "L8337P68b0mq"
      },
      "execution_count": null,
      "outputs": []
    }
  ]
}