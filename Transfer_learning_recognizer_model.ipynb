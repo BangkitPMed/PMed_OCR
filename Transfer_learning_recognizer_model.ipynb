{
  "nbformat": 4,
  "nbformat_minor": 0,
  "metadata": {
    "colab": {
      "name": "Fine_tuning_recognizer_model (1).ipynb",
      "provenance": [],
      "collapsed_sections": []
    },
    "kernelspec": {
      "name": "python3",
      "display_name": "Python 3"
    },
    "language_info": {
      "name": "python"
    },
    "accelerator": "GPU"
  },
  "cells": [
    {
      "cell_type": "code",
      "execution_count": 1,
      "metadata": {
        "colab": {
          "base_uri": "https://localhost:8080/"
        },
        "id": "TLbAMutZsy9_",
        "outputId": "753846d6-87b4-41af-9d72-c4936635f625"
      },
      "outputs": [
        {
          "output_type": "stream",
          "name": "stdout",
          "text": [
            "Looking in indexes: https://pypi.org/simple, https://us-python.pkg.dev/colab-wheels/public/simple/\n",
            "Collecting git+https://github.com/faustomorales/keras-ocr.git\n",
            "  Cloning https://github.com/faustomorales/keras-ocr.git to /tmp/pip-req-build-942k6k0i\n",
            "  Running command git clone -q https://github.com/faustomorales/keras-ocr.git /tmp/pip-req-build-942k6k0i\n",
            "  Installing build dependencies ... \u001b[?25l\u001b[?25hdone\n",
            "  Getting requirements to build wheel ... \u001b[?25l\u001b[?25hdone\n",
            "    Preparing wheel metadata ... \u001b[?25l\u001b[?25hdone\n",
            "Requirement already satisfied: efficientnet==1.0.0 in /usr/local/lib/python3.7/dist-packages (from keras-ocr==0.9.0.post2+40bb9bd) (1.0.0)\n",
            "Requirement already satisfied: essential_generators in /usr/local/lib/python3.7/dist-packages (from keras-ocr==0.9.0.post2+40bb9bd) (1.0)\n",
            "Requirement already satisfied: tqdm in /usr/local/lib/python3.7/dist-packages (from keras-ocr==0.9.0.post2+40bb9bd) (4.64.0)\n",
            "Requirement already satisfied: validators in /usr/local/lib/python3.7/dist-packages (from keras-ocr==0.9.0.post2+40bb9bd) (0.19.0)\n",
            "Requirement already satisfied: editdistance in /usr/local/lib/python3.7/dist-packages (from keras-ocr==0.9.0.post2+40bb9bd) (0.5.3)\n",
            "Requirement already satisfied: shapely in /usr/local/lib/python3.7/dist-packages (from keras-ocr==0.9.0.post2+40bb9bd) (1.8.2)\n",
            "Requirement already satisfied: pyclipper in /usr/local/lib/python3.7/dist-packages (from keras-ocr==0.9.0.post2+40bb9bd) (1.3.0.post2)\n",
            "Requirement already satisfied: imgaug in /usr/local/lib/python3.7/dist-packages (from keras-ocr==0.9.0.post2+40bb9bd) (0.2.9)\n",
            "Requirement already satisfied: fonttools in /usr/local/lib/python3.7/dist-packages (from keras-ocr==0.9.0.post2+40bb9bd) (4.33.3)\n",
            "Requirement already satisfied: keras-applications<=1.0.8,>=1.0.7 in /usr/local/lib/python3.7/dist-packages (from efficientnet==1.0.0->keras-ocr==0.9.0.post2+40bb9bd) (1.0.8)\n",
            "Requirement already satisfied: scikit-image in /usr/local/lib/python3.7/dist-packages (from efficientnet==1.0.0->keras-ocr==0.9.0.post2+40bb9bd) (0.18.3)\n",
            "Requirement already satisfied: h5py in /usr/local/lib/python3.7/dist-packages (from keras-applications<=1.0.8,>=1.0.7->efficientnet==1.0.0->keras-ocr==0.9.0.post2+40bb9bd) (3.1.0)\n",
            "Requirement already satisfied: numpy>=1.9.1 in /usr/local/lib/python3.7/dist-packages (from keras-applications<=1.0.8,>=1.0.7->efficientnet==1.0.0->keras-ocr==0.9.0.post2+40bb9bd) (1.21.6)\n",
            "Requirement already satisfied: cached-property in /usr/local/lib/python3.7/dist-packages (from h5py->keras-applications<=1.0.8,>=1.0.7->efficientnet==1.0.0->keras-ocr==0.9.0.post2+40bb9bd) (1.5.2)\n",
            "Requirement already satisfied: opencv-python in /usr/local/lib/python3.7/dist-packages (from imgaug->keras-ocr==0.9.0.post2+40bb9bd) (4.5.5.64)\n",
            "Requirement already satisfied: six in /usr/local/lib/python3.7/dist-packages (from imgaug->keras-ocr==0.9.0.post2+40bb9bd) (1.15.0)\n",
            "Requirement already satisfied: scipy in /usr/local/lib/python3.7/dist-packages (from imgaug->keras-ocr==0.9.0.post2+40bb9bd) (1.4.1)\n",
            "Requirement already satisfied: matplotlib in /usr/local/lib/python3.7/dist-packages (from imgaug->keras-ocr==0.9.0.post2+40bb9bd) (3.2.2)\n",
            "Requirement already satisfied: imageio in /usr/local/lib/python3.7/dist-packages (from imgaug->keras-ocr==0.9.0.post2+40bb9bd) (2.4.1)\n",
            "Requirement already satisfied: Pillow in /usr/local/lib/python3.7/dist-packages (from imgaug->keras-ocr==0.9.0.post2+40bb9bd) (7.1.2)\n",
            "Requirement already satisfied: PyWavelets>=1.1.1 in /usr/local/lib/python3.7/dist-packages (from scikit-image->efficientnet==1.0.0->keras-ocr==0.9.0.post2+40bb9bd) (1.3.0)\n",
            "Requirement already satisfied: networkx>=2.0 in /usr/local/lib/python3.7/dist-packages (from scikit-image->efficientnet==1.0.0->keras-ocr==0.9.0.post2+40bb9bd) (2.6.3)\n",
            "Requirement already satisfied: tifffile>=2019.7.26 in /usr/local/lib/python3.7/dist-packages (from scikit-image->efficientnet==1.0.0->keras-ocr==0.9.0.post2+40bb9bd) (2021.11.2)\n",
            "Requirement already satisfied: kiwisolver>=1.0.1 in /usr/local/lib/python3.7/dist-packages (from matplotlib->imgaug->keras-ocr==0.9.0.post2+40bb9bd) (1.4.2)\n",
            "Requirement already satisfied: cycler>=0.10 in /usr/local/lib/python3.7/dist-packages (from matplotlib->imgaug->keras-ocr==0.9.0.post2+40bb9bd) (0.11.0)\n",
            "Requirement already satisfied: pyparsing!=2.0.4,!=2.1.2,!=2.1.6,>=2.0.1 in /usr/local/lib/python3.7/dist-packages (from matplotlib->imgaug->keras-ocr==0.9.0.post2+40bb9bd) (3.0.9)\n",
            "Requirement already satisfied: python-dateutil>=2.1 in /usr/local/lib/python3.7/dist-packages (from matplotlib->imgaug->keras-ocr==0.9.0.post2+40bb9bd) (2.8.2)\n",
            "Requirement already satisfied: typing-extensions in /usr/local/lib/python3.7/dist-packages (from kiwisolver>=1.0.1->matplotlib->imgaug->keras-ocr==0.9.0.post2+40bb9bd) (4.2.0)\n",
            "Requirement already satisfied: decorator>=3.4.0 in /usr/local/lib/python3.7/dist-packages (from validators->keras-ocr==0.9.0.post2+40bb9bd) (4.4.2)\n",
            "Looking in indexes: https://pypi.org/simple, https://us-python.pkg.dev/colab-wheels/public/simple/\n",
            "Requirement already satisfied: imgaug in /usr/local/lib/python3.7/dist-packages (0.2.9)\n",
            "Requirement already satisfied: Pillow in /usr/local/lib/python3.7/dist-packages (from imgaug) (7.1.2)\n",
            "Requirement already satisfied: imageio in /usr/local/lib/python3.7/dist-packages (from imgaug) (2.4.1)\n",
            "Requirement already satisfied: scikit-image>=0.11.0 in /usr/local/lib/python3.7/dist-packages (from imgaug) (0.18.3)\n",
            "Requirement already satisfied: opencv-python in /usr/local/lib/python3.7/dist-packages (from imgaug) (4.5.5.64)\n",
            "Requirement already satisfied: Shapely in /usr/local/lib/python3.7/dist-packages (from imgaug) (1.8.2)\n",
            "Requirement already satisfied: scipy in /usr/local/lib/python3.7/dist-packages (from imgaug) (1.4.1)\n",
            "Requirement already satisfied: six in /usr/local/lib/python3.7/dist-packages (from imgaug) (1.15.0)\n",
            "Requirement already satisfied: numpy>=1.15.0 in /usr/local/lib/python3.7/dist-packages (from imgaug) (1.21.6)\n",
            "Requirement already satisfied: matplotlib in /usr/local/lib/python3.7/dist-packages (from imgaug) (3.2.2)\n",
            "Requirement already satisfied: networkx>=2.0 in /usr/local/lib/python3.7/dist-packages (from scikit-image>=0.11.0->imgaug) (2.6.3)\n",
            "Requirement already satisfied: PyWavelets>=1.1.1 in /usr/local/lib/python3.7/dist-packages (from scikit-image>=0.11.0->imgaug) (1.3.0)\n",
            "Requirement already satisfied: tifffile>=2019.7.26 in /usr/local/lib/python3.7/dist-packages (from scikit-image>=0.11.0->imgaug) (2021.11.2)\n",
            "Requirement already satisfied: kiwisolver>=1.0.1 in /usr/local/lib/python3.7/dist-packages (from matplotlib->imgaug) (1.4.2)\n",
            "Requirement already satisfied: cycler>=0.10 in /usr/local/lib/python3.7/dist-packages (from matplotlib->imgaug) (0.11.0)\n",
            "Requirement already satisfied: pyparsing!=2.0.4,!=2.1.2,!=2.1.6,>=2.0.1 in /usr/local/lib/python3.7/dist-packages (from matplotlib->imgaug) (3.0.9)\n",
            "Requirement already satisfied: python-dateutil>=2.1 in /usr/local/lib/python3.7/dist-packages (from matplotlib->imgaug) (2.8.2)\n",
            "Requirement already satisfied: typing-extensions in /usr/local/lib/python3.7/dist-packages (from kiwisolver>=1.0.1->matplotlib->imgaug) (4.2.0)\n",
            "Looking in indexes: https://pypi.org/simple, https://us-python.pkg.dev/colab-wheels/public/simple/\n",
            "Requirement already satisfied: opencv-python in /usr/local/lib/python3.7/dist-packages (4.5.5.64)\n",
            "Requirement already satisfied: numpy>=1.14.5 in /usr/local/lib/python3.7/dist-packages (from opencv-python) (1.21.6)\n",
            "/usr/local/lib/python3.7/dist-packages/gdown/cli.py:131: FutureWarning: Option `--id` was deprecated in version 4.3.1 and will be removed in 5.0. You don't need to pass it anymore to use a file ID.\n",
            "  category=FutureWarning,\n",
            "Downloading...\n",
            "From: https://drive.google.com/uc?id=12WOvX4IDbmJUTDOdWbV3wWAc4lr5GGmO\n",
            "To: /content/Challenge2_Training_Task3_Images_GT.zip\n",
            "100% 83.9M/83.9M [00:00<00:00, 258MB/s]\n",
            "/usr/local/lib/python3.7/dist-packages/gdown/cli.py:131: FutureWarning: Option `--id` was deprecated in version 4.3.1 and will be removed in 5.0. You don't need to pass it anymore to use a file ID.\n",
            "  category=FutureWarning,\n",
            "Downloading...\n",
            "From: https://drive.google.com/uc?id=1xCeveu2CyYLNyTeXfsRRTABPwGRYpI82\n",
            "To: /content/Challenge2_Test_Task3_Images_GT.zip\n",
            "100% 82.8M/82.8M [00:00<00:00, 188MB/s]\n"
          ]
        }
      ],
      "source": [
        "!pip install -U git+https://github.com/faustomorales/keras-ocr.git\n",
        "!pip install imgaug\n",
        "!pip install -U opencv-python\n",
        "%tensorflow_version 2.x\n",
        "\n",
        "!gdown --id 12WOvX4IDbmJUTDOdWbV3wWAc4lr5GGmO\n",
        "!gdown --id 1xCeveu2CyYLNyTeXfsRRTABPwGRYpI82"
      ]
    },
    {
      "cell_type": "code",
      "source": [
        "import random\n",
        "import string\n",
        "import math\n",
        "import itertools\n",
        "import os\n",
        "import zipfile\n",
        "import typing\n",
        "\n",
        "import numpy as np\n",
        "\n",
        "import imgaug\n",
        "import matplotlib.pyplot as plt\n",
        "import tensorflow as tf\n",
        "import sklearn.model_selection\n",
        "\n",
        "import keras_ocr\n",
        "\n",
        "dir = \".\""
      ],
      "metadata": {
        "id": "qNRucnyf_UGq"
      },
      "execution_count": 2,
      "outputs": []
    },
    {
      "cell_type": "code",
      "source": [
        "def extract_train_dataset(main_dir=\".\"):\n",
        "  if not os.path.isdir(main_dir):\n",
        "    os.mkdir(main_dir)\n",
        "  train_image_dir = os.path.join(main_dir, \"train_images\")\n",
        "  if not os.path.isdir(train_image_dir):\n",
        "    os.mkdir(train_image_dir)\n",
        "  training_zip_images_path = os.path.join(\".\", \"Challenge2_Training_Task3_Images_GT.zip\")\n",
        "  if len(os.listdir(train_image_dir)) != 849:\n",
        "    with zipfile.ZipFile(training_zip_images_path, 'r') as zip_ref:\n",
        "      zip_ref.extractall(train_image_dir)"
      ],
      "metadata": {
        "id": "4C4XvrTP_Qy3"
      },
      "execution_count": 3,
      "outputs": []
    },
    {
      "cell_type": "code",
      "source": [
        "def extract_test_dataset(main_dir=\".\"):\n",
        "  if not os.path.isdir(main_dir):\n",
        "    os.mkdir(main_dir)\n",
        "  test_image_dir = os.path.join(main_dir, \"test_images\")\n",
        "  if not os.path.isdir(test_image_dir):\n",
        "    os.mkdir(test_image_dir)\n",
        "  training_zip_images_path = os.path.join(\".\", \"Challenge2_Test_Task3_Images_GT.zip\")\n",
        "  if len(os.listdir(test_image_dir)) != 1095:\n",
        "    with zipfile.ZipFile(training_zip_images_path, 'r') as zip_ref:\n",
        "      zip_ref.extractall(test_image_dir)"
      ],
      "metadata": {
        "id": "D7UDz7LKyxOr"
      },
      "execution_count": 4,
      "outputs": []
    },
    {
      "cell_type": "code",
      "source": [
        "def preprocess_train_dataset(dir=\".\"):\n",
        "  main_dir = os.path.join(dir, \"icdar2013\")\n",
        "  extract_train_dataset(main_dir)\n",
        "  dataset = []\n",
        "\n",
        "  train_image_dir = os.path.join(main_dir, \"train_images\")\n",
        "  train_gt_path = os.path.join(train_image_dir, \"gt.txt\")\n",
        "\n",
        "  dataset = []\n",
        "\n",
        "  with open(train_gt_path, \"r\", encoding=\"utf8\") as f:\n",
        "    for line in f:\n",
        "      image_id, text = line.split(\".png,\")\n",
        "      text = text.strip(\"\\\"\\n \").lower()\n",
        "      image_path = os.path.join(train_image_dir, image_id + \".png\")\n",
        "      dataset.append((image_path, None, text))\n",
        "      \n",
        "  return dataset"
      ],
      "metadata": {
        "id": "GQnVhf2DSlKn"
      },
      "execution_count": 5,
      "outputs": []
    },
    {
      "cell_type": "code",
      "source": [
        "def preprocess_test_dataset(dir=\".\"):\n",
        "  main_dir = os.path.join(dir, \"icdar2013\")\n",
        "  extract_test_dataset(main_dir)\n",
        "  dataset = []\n",
        "\n",
        "  test_image_dir = os.path.join(main_dir, \"test_images\")\n",
        "  test_gt_path = os.path.join(test_image_dir, \"gt.txt\")\n",
        "\n",
        "  dataset = []\n",
        "\n",
        "  with open(test_gt_path, \"r\", encoding=\"utf8\") as f:\n",
        "    for line in f:\n",
        "      image_id, text = line.split(\".png,\")\n",
        "      text = text.strip(\"\\\"\\n \").lower()\n",
        "      image_path = os.path.join(test_image_dir, image_id + \".png\")\n",
        "      dataset.append((image_path, None, text))\n",
        "      \n",
        "  return dataset"
      ],
      "metadata": {
        "id": "isX0szEL0xHO"
      },
      "execution_count": 6,
      "outputs": []
    },
    {
      "cell_type": "code",
      "source": [
        "train_dataset = preprocess_train_dataset(dir)\n",
        "test_dataset = preprocess_test_dataset(dir)\n",
        "train_labels = [(filepath, box, word.lower()) for filepath, box, word in train_dataset]\n",
        "test = [(filepath, box, word.lower()) for filepath, box, word in test_dataset]\n",
        "\n",
        "train_labels_extend, test_labels = sklearn.model_selection.train_test_split(test, test_size=0.2, random_state=42)\n",
        "train_labels.extend(train_labels_extend)"
      ],
      "metadata": {
        "id": "eG7XxiiyaFI7"
      },
      "execution_count": 7,
      "outputs": []
    },
    {
      "cell_type": "code",
      "source": [
        "print(len(train_labels))\n",
        "print(len(test_labels))"
      ],
      "metadata": {
        "colab": {
          "base_uri": "https://localhost:8080/"
        },
        "id": "koBI-zoi40J3",
        "outputId": "77c2aff2-32be-4211-fb4f-a66c88f458bc"
      },
      "execution_count": 8,
      "outputs": [
        {
          "output_type": "stream",
          "name": "stdout",
          "text": [
            "1724\n",
            "219\n"
          ]
        }
      ]
    },
    {
      "cell_type": "code",
      "source": [
        "alphabet = string.digits + string.ascii_letters + '!?., /\\\\\"\\'@()<>-'\n",
        "recognizer_alphabet = ''.join(sorted(set(alphabet.lower())))"
      ],
      "metadata": {
        "id": "v4aowCkR29ol"
      },
      "execution_count": 9,
      "outputs": []
    },
    {
      "cell_type": "code",
      "source": [
        "BUILD_PARAMS = {\n",
        "    \"height\": 31,\n",
        "    \"width\": 200,\n",
        "    \"color\": False,\n",
        "    \"filters\": (64, 128, 256, 256, 512, 512, 512),\n",
        "    \"rnn_units\": (128, 128),\n",
        "    \"dropout\": 0.25,\n",
        "    \"rnn_steps_to_discard\": 2,\n",
        "    \"pool_size\": 2,\n",
        "    \"stn\": True,\n",
        "}"
      ],
      "metadata": {
        "id": "-pulboqyo68O"
      },
      "execution_count": 10,
      "outputs": []
    },
    {
      "cell_type": "code",
      "source": [
        "detector = keras_ocr.detection.Detector(weights='clovaai_general')\n",
        "recognizer = keras_ocr.recognition.Recognizer(\n",
        "    alphabet=recognizer_alphabet,\n",
        "    weights='kurapan',\n",
        "    build_params=BUILD_PARAMS\n",
        ")\n",
        "recognizer.compile(metrics=[\"acc\"])\n",
        "for layer in recognizer.backbone.layers:\n",
        "    layer.trainable = False"
      ],
      "metadata": {
        "colab": {
          "base_uri": "https://localhost:8080/"
        },
        "id": "5WwUSuJVEG5V",
        "outputId": "e44fd5d3-2733-4a4b-846d-5001f76417c0"
      },
      "execution_count": 11,
      "outputs": [
        {
          "output_type": "stream",
          "name": "stdout",
          "text": [
            "Looking for /root/.keras-ocr/craft_mlt_25k.h5\n",
            "Provided alphabet does not match pretrained alphabet. Using backbone weights only.\n",
            "Looking for /root/.keras-ocr/crnn_kurapan_notop.h5\n"
          ]
        }
      ]
    },
    {
      "cell_type": "code",
      "source": [
        "def make_generators(train_labels, validation_labels, augmenter, batch_size):\n",
        "  (training_image_gen, training_steps), (validation_image_gen, validation_steps) = [\n",
        "      (\n",
        "          keras_ocr.datasets.get_recognizer_image_generator(\n",
        "              labels=labels,\n",
        "              height=recognizer.model.input_shape[1],\n",
        "              width=recognizer.model.input_shape[2],\n",
        "              alphabet=recognizer.alphabet,\n",
        "              augmenter=augmenter\n",
        "          ),\n",
        "          len(labels) // batch_size\n",
        "      ) for labels, augmenter in [(train_labels, augmenter), (validation_labels, None)]     \n",
        "  ]\n",
        "  training_gen, validation_gen = [\n",
        "      recognizer.get_batch_generator(\n",
        "          image_generator=image_generator,\n",
        "          batch_size=batch_size\n",
        "      )\n",
        "      for image_generator in [training_image_gen, validation_image_gen]\n",
        "  ]\n",
        "  return training_gen, validation_gen, training_steps, validation_steps"
      ],
      "metadata": {
        "id": "nsexSFnvW3AG"
      },
      "execution_count": 12,
      "outputs": []
    },
    {
      "cell_type": "code",
      "source": [
        "def train_recognizer_kfold(training_labels, augmenter, batch_size, callbacks=None, k=10, epochs=100):\n",
        "  all_scores = []\n",
        "  num_val_samples = len(training_labels) // k\n",
        "  for i in range(k):\n",
        "    print(\"Processing fold #\", i+1)\n",
        "    val = training_labels[i * num_val_samples: (i + 1) * num_val_samples]\n",
        "    train = training_labels[:i * num_val_samples]\n",
        "    train.extend(\n",
        "        training_labels[(i + 1) * num_val_samples:]\n",
        "    )\n",
        "    training_gen, validation_gen, training_steps, validation_steps = make_generators(\n",
        "        train, val, augmenter, batch_size\n",
        "    )\n",
        "    history = recognizer.training_model.fit(\n",
        "          x=training_gen,\n",
        "          steps_per_epoch=training_steps,\n",
        "          callbacks=callbacks,\n",
        "          epochs=epochs,\n",
        "          verbose=1\n",
        "    )\n",
        "    val_loss, val_acc = recognizer.training_model.evaluate(\n",
        "        x=validation_gen,\n",
        "        steps=validation_steps,\n",
        "        verbose=1\n",
        "    )\n",
        "    all_scores.append(val_loss)\n",
        "  val_loss_mean = np.mean(all_scores)\n",
        "  return val_loss_mean"
      ],
      "metadata": {
        "id": "DO1Gi09DIFOj"
      },
      "execution_count": 13,
      "outputs": []
    },
    {
      "cell_type": "code",
      "source": [
        "batch_size = 8\n",
        "augmenter = imgaug.augmenters.Sequential([\n",
        "    imgaug.augmenters.GammaContrast(gamma=(0.25, 3.0)),\n",
        "])\n",
        "val_loss = train_recognizer_kfold(\n",
        "    train_labels,\n",
        "    augmenter,\n",
        "    batch_size,\n",
        "    k=10,\n",
        "    epochs=10\n",
        ")"
      ],
      "metadata": {
        "id": "zq5v6ZYvHdOa",
        "colab": {
          "base_uri": "https://localhost:8080/"
        },
        "outputId": "8870db01-8ee4-49ac-8a2d-dad26e26ac0b"
      },
      "execution_count": 14,
      "outputs": [
        {
          "output_type": "stream",
          "name": "stdout",
          "text": [
            "Processing fold # 1\n",
            "17 / 1552 instances have illegal characters.\n",
            "Epoch 1/10\n",
            "194/194 [==============================] - 30s 91ms/step - loss: 10.8477 - acc: 0.0387\n",
            "Epoch 2/10\n",
            "194/194 [==============================] - 18s 92ms/step - loss: 3.5676 - acc: 0.3028\n",
            "Epoch 3/10\n",
            "194/194 [==============================] - 18s 94ms/step - loss: 2.6605 - acc: 0.4974\n",
            "Epoch 4/10\n",
            "194/194 [==============================] - 18s 94ms/step - loss: 2.0778 - acc: 0.5818\n",
            "Epoch 5/10\n",
            "194/194 [==============================] - 18s 92ms/step - loss: 1.4349 - acc: 0.6765\n",
            "Epoch 6/10\n",
            "194/194 [==============================] - 18s 94ms/step - loss: 1.2579 - acc: 0.7088\n",
            "Epoch 7/10\n",
            "194/194 [==============================] - 18s 93ms/step - loss: 1.1018 - acc: 0.7326\n",
            "Epoch 8/10\n",
            "194/194 [==============================] - 18s 94ms/step - loss: 0.9185 - acc: 0.7635\n",
            "Epoch 9/10\n",
            "194/194 [==============================] - 18s 95ms/step - loss: 0.7358 - acc: 0.8112\n",
            "Epoch 10/10\n",
            "194/194 [==============================] - 18s 94ms/step - loss: 0.6757 - acc: 0.8157\n",
            "21/21 [==============================] - 4s 41ms/step - loss: 3.6633 - acc: 0.4762\n",
            "Processing fold # 2\n",
            "15 / 1552 instances have illegal characters.\n",
            "Epoch 1/10\n",
            "194/194 [==============================] - 19s 99ms/step - loss: 0.7958 - acc: 0.7977\n",
            "Epoch 2/10\n",
            "194/194 [==============================] - 19s 99ms/step - loss: 0.7106 - acc: 0.8093\n",
            "Epoch 3/10\n",
            "194/194 [==============================] - 19s 96ms/step - loss: 0.5638 - acc: 0.8441\n",
            "Epoch 4/10\n",
            "194/194 [==============================] - 18s 94ms/step - loss: 0.5051 - acc: 0.8428\n",
            "Epoch 5/10\n",
            "194/194 [==============================] - 18s 95ms/step - loss: 0.4069 - acc: 0.8827\n",
            "Epoch 6/10\n",
            "194/194 [==============================] - 18s 95ms/step - loss: 0.3760 - acc: 0.8905\n",
            "Epoch 7/10\n",
            "194/194 [==============================] - 19s 97ms/step - loss: 0.3730 - acc: 0.8840\n",
            "Epoch 8/10\n",
            "194/194 [==============================] - 18s 95ms/step - loss: 0.3732 - acc: 0.8814\n",
            "Epoch 9/10\n",
            "194/194 [==============================] - 18s 95ms/step - loss: 0.2867 - acc: 0.9014\n",
            "Epoch 10/10\n",
            "194/194 [==============================] - 18s 94ms/step - loss: 0.2813 - acc: 0.9130\n",
            "2 / 172 instances have illegal characters.\n",
            "21/21 [==============================] - 1s 39ms/step - loss: 1.2856 - acc: 0.8393\n",
            "Processing fold # 3\n",
            "17 / 1552 instances have illegal characters.\n",
            "Epoch 1/10\n",
            "194/194 [==============================] - 18s 95ms/step - loss: 0.3758 - acc: 0.8995\n",
            "Epoch 2/10\n",
            "194/194 [==============================] - 18s 94ms/step - loss: 0.3741 - acc: 0.8892\n",
            "Epoch 3/10\n",
            "194/194 [==============================] - 18s 95ms/step - loss: 0.5486 - acc: 0.8570\n",
            "Epoch 4/10\n",
            "194/194 [==============================] - 18s 95ms/step - loss: 0.2421 - acc: 0.9117\n",
            "Epoch 5/10\n",
            "194/194 [==============================] - 18s 94ms/step - loss: 3.4380 - acc: 0.7249\n",
            "Epoch 6/10\n",
            "194/194 [==============================] - 18s 95ms/step - loss: 3.0954 - acc: 0.6836\n",
            "Epoch 7/10\n",
            "194/194 [==============================] - 18s 95ms/step - loss: 1.2842 - acc: 0.8009\n",
            "Epoch 8/10\n",
            "194/194 [==============================] - 18s 94ms/step - loss: 0.3096 - acc: 0.9085\n",
            "Epoch 9/10\n",
            "194/194 [==============================] - 18s 95ms/step - loss: 0.3123 - acc: 0.9201\n",
            "Epoch 10/10\n",
            "194/194 [==============================] - 18s 95ms/step - loss: 0.2277 - acc: 0.9195\n",
            "21/21 [==============================] - 1s 37ms/step - loss: 0.5670 - acc: 0.8750\n",
            "Processing fold # 4\n",
            "14 / 1552 instances have illegal characters.\n",
            "Epoch 1/10\n",
            "194/194 [==============================] - 18s 94ms/step - loss: 0.2694 - acc: 0.9169\n",
            "Epoch 2/10\n",
            "194/194 [==============================] - 18s 95ms/step - loss: 0.1988 - acc: 0.9291\n",
            "Epoch 3/10\n",
            "194/194 [==============================] - 18s 95ms/step - loss: 0.1748 - acc: 0.9452\n",
            "Epoch 4/10\n",
            "194/194 [==============================] - 18s 95ms/step - loss: 0.1373 - acc: 0.9459\n",
            "Epoch 5/10\n",
            "194/194 [==============================] - 18s 95ms/step - loss: 0.2118 - acc: 0.9369\n",
            "Epoch 6/10\n",
            "194/194 [==============================] - 19s 97ms/step - loss: 0.1805 - acc: 0.9497\n",
            "Epoch 7/10\n",
            "194/194 [==============================] - 18s 95ms/step - loss: 0.2335 - acc: 0.9465\n",
            "Epoch 8/10\n",
            "194/194 [==============================] - 18s 95ms/step - loss: 0.1299 - acc: 0.9549\n",
            "Epoch 9/10\n",
            "194/194 [==============================] - 18s 95ms/step - loss: 0.1663 - acc: 0.9497\n",
            "Epoch 10/10\n",
            "194/194 [==============================] - 18s 95ms/step - loss: 0.1855 - acc: 0.9439\n",
            "3 / 172 instances have illegal characters.\n",
            "21/21 [==============================] - 1s 40ms/step - loss: 0.6228 - acc: 0.8512\n",
            "Processing fold # 5\n",
            "14 / 1552 instances have illegal characters.\n",
            "Epoch 1/10\n",
            "194/194 [==============================] - 18s 95ms/step - loss: 0.2262 - acc: 0.9414\n",
            "Epoch 2/10\n",
            "194/194 [==============================] - 18s 94ms/step - loss: 0.1675 - acc: 0.9407\n",
            "Epoch 3/10\n",
            "194/194 [==============================] - 18s 95ms/step - loss: 0.2269 - acc: 0.9433\n",
            "Epoch 4/10\n",
            "194/194 [==============================] - 18s 95ms/step - loss: 0.1640 - acc: 0.9401\n",
            "Epoch 5/10\n",
            "194/194 [==============================] - 19s 97ms/step - loss: 0.1372 - acc: 0.9594\n",
            "Epoch 6/10\n",
            "194/194 [==============================] - 19s 99ms/step - loss: 0.1971 - acc: 0.9530\n",
            "Epoch 7/10\n",
            "194/194 [==============================] - 19s 98ms/step - loss: 0.1312 - acc: 0.9497\n",
            "Epoch 8/10\n",
            "194/194 [==============================] - 19s 96ms/step - loss: 0.1555 - acc: 0.9523\n",
            "Epoch 9/10\n",
            "194/194 [==============================] - 18s 95ms/step - loss: 0.1214 - acc: 0.9665\n",
            "Epoch 10/10\n",
            "194/194 [==============================] - 18s 94ms/step - loss: 0.1850 - acc: 0.9452\n",
            "3 / 172 instances have illegal characters.\n",
            "21/21 [==============================] - 1s 47ms/step - loss: 0.6354 - acc: 0.8929\n",
            "Processing fold # 6\n",
            "15 / 1552 instances have illegal characters.\n",
            "Epoch 1/10\n",
            "194/194 [==============================] - 18s 95ms/step - loss: 0.1679 - acc: 0.9459\n",
            "Epoch 2/10\n",
            "194/194 [==============================] - 18s 95ms/step - loss: 0.1212 - acc: 0.9633\n",
            "Epoch 3/10\n",
            "194/194 [==============================] - 18s 94ms/step - loss: 0.0958 - acc: 0.9588\n",
            "Epoch 4/10\n",
            "194/194 [==============================] - 19s 95ms/step - loss: 0.1105 - acc: 0.9639\n",
            "Epoch 5/10\n",
            "194/194 [==============================] - 18s 95ms/step - loss: 0.0662 - acc: 0.9716\n",
            "Epoch 6/10\n",
            "194/194 [==============================] - 19s 97ms/step - loss: 0.0801 - acc: 0.9742\n",
            "Epoch 7/10\n",
            "194/194 [==============================] - 19s 96ms/step - loss: 0.1437 - acc: 0.9562\n",
            "Epoch 8/10\n",
            "194/194 [==============================] - 18s 95ms/step - loss: 0.1529 - acc: 0.9652\n",
            "Epoch 9/10\n",
            "194/194 [==============================] - 19s 96ms/step - loss: 0.1501 - acc: 0.9684\n",
            "Epoch 10/10\n",
            "194/194 [==============================] - 18s 95ms/step - loss: 0.1242 - acc: 0.9626\n",
            "2 / 172 instances have illegal characters.\n",
            "21/21 [==============================] - 1s 42ms/step - loss: 0.4381 - acc: 0.9048\n",
            "Processing fold # 7\n",
            "17 / 1552 instances have illegal characters.\n",
            "Epoch 1/10\n",
            "194/194 [==============================] - 18s 95ms/step - loss: 0.1800 - acc: 0.9510\n",
            "Epoch 2/10\n",
            "194/194 [==============================] - 19s 96ms/step - loss: 0.1754 - acc: 0.9568\n",
            "Epoch 3/10\n",
            "194/194 [==============================] - 19s 95ms/step - loss: 0.1788 - acc: 0.9517\n",
            "Epoch 4/10\n",
            "194/194 [==============================] - 18s 95ms/step - loss: 0.1544 - acc: 0.9543\n",
            "Epoch 5/10\n",
            "194/194 [==============================] - 19s 95ms/step - loss: 0.1236 - acc: 0.9684\n",
            "Epoch 6/10\n",
            "194/194 [==============================] - 18s 95ms/step - loss: 0.0930 - acc: 0.9659\n",
            "Epoch 7/10\n",
            "194/194 [==============================] - 18s 95ms/step - loss: 0.1133 - acc: 0.9659\n",
            "Epoch 8/10\n",
            "194/194 [==============================] - 18s 95ms/step - loss: 0.0999 - acc: 0.9671\n",
            "Epoch 9/10\n",
            "194/194 [==============================] - 18s 95ms/step - loss: 0.0998 - acc: 0.9710\n",
            "Epoch 10/10\n",
            "194/194 [==============================] - 18s 95ms/step - loss: 0.1447 - acc: 0.9742\n",
            "21/21 [==============================] - 1s 41ms/step - loss: 0.3303 - acc: 0.9167\n",
            "Processing fold # 8\n",
            "15 / 1552 instances have illegal characters.\n",
            "Epoch 1/10\n",
            "194/194 [==============================] - 18s 95ms/step - loss: 0.1625 - acc: 0.9568\n",
            "Epoch 2/10\n",
            "194/194 [==============================] - 19s 96ms/step - loss: 0.1141 - acc: 0.9716\n",
            "Epoch 3/10\n",
            "194/194 [==============================] - 19s 96ms/step - loss: 0.0547 - acc: 0.9781\n",
            "Epoch 4/10\n",
            "194/194 [==============================] - 18s 95ms/step - loss: 0.1087 - acc: 0.9716\n",
            "Epoch 5/10\n",
            "194/194 [==============================] - 19s 97ms/step - loss: 0.0865 - acc: 0.9768\n",
            "Epoch 6/10\n",
            "194/194 [==============================] - 18s 95ms/step - loss: 0.0615 - acc: 0.9800\n",
            "Epoch 7/10\n",
            "194/194 [==============================] - 18s 95ms/step - loss: 0.0943 - acc: 0.9704\n",
            "Epoch 8/10\n",
            "194/194 [==============================] - 19s 99ms/step - loss: 0.1219 - acc: 0.9626\n",
            "Epoch 9/10\n",
            "194/194 [==============================] - 19s 99ms/step - loss: 0.0884 - acc: 0.9768\n",
            "Epoch 10/10\n",
            "194/194 [==============================] - 19s 96ms/step - loss: 0.0850 - acc: 0.9716\n",
            "2 / 172 instances have illegal characters.\n",
            "21/21 [==============================] - 1s 42ms/step - loss: 0.2934 - acc: 0.9107\n",
            "Processing fold # 9\n",
            "15 / 1552 instances have illegal characters.\n",
            "Epoch 1/10\n",
            "194/194 [==============================] - 18s 95ms/step - loss: 0.1459 - acc: 0.9671\n",
            "Epoch 2/10\n",
            "194/194 [==============================] - 19s 97ms/step - loss: 0.1312 - acc: 0.9646\n",
            "Epoch 3/10\n",
            "194/194 [==============================] - 19s 96ms/step - loss: 0.1449 - acc: 0.9659\n",
            "Epoch 4/10\n",
            "194/194 [==============================] - 18s 95ms/step - loss: 0.0977 - acc: 0.9652\n",
            "Epoch 5/10\n",
            "194/194 [==============================] - 19s 95ms/step - loss: 0.1031 - acc: 0.9659\n",
            "Epoch 6/10\n",
            "194/194 [==============================] - 19s 95ms/step - loss: 0.1018 - acc: 0.9646\n",
            "Epoch 7/10\n",
            "194/194 [==============================] - 18s 95ms/step - loss: 0.1042 - acc: 0.9716\n",
            "Epoch 8/10\n",
            "194/194 [==============================] - 19s 96ms/step - loss: 0.1034 - acc: 0.9659\n",
            "Epoch 9/10\n",
            "194/194 [==============================] - 18s 95ms/step - loss: 0.0873 - acc: 0.9762\n",
            "Epoch 10/10\n",
            "194/194 [==============================] - 18s 95ms/step - loss: 0.0821 - acc: 0.9794\n",
            "2 / 172 instances have illegal characters.\n",
            "21/21 [==============================] - 1s 39ms/step - loss: 0.1696 - acc: 0.9405\n",
            "Processing fold # 10\n",
            "14 / 1552 instances have illegal characters.\n",
            "Epoch 1/10\n",
            "194/194 [==============================] - 18s 95ms/step - loss: 0.1306 - acc: 0.9671\n",
            "Epoch 2/10\n",
            "194/194 [==============================] - 18s 94ms/step - loss: 0.1324 - acc: 0.9594\n",
            "Epoch 3/10\n",
            "194/194 [==============================] - 19s 95ms/step - loss: 0.1307 - acc: 0.9704\n",
            "Epoch 4/10\n",
            "194/194 [==============================] - 19s 98ms/step - loss: 0.0814 - acc: 0.9755\n",
            "Epoch 5/10\n",
            "194/194 [==============================] - 18s 94ms/step - loss: 0.1010 - acc: 0.9787\n",
            "Epoch 6/10\n",
            "194/194 [==============================] - 18s 95ms/step - loss: 0.0664 - acc: 0.9762\n",
            "Epoch 7/10\n",
            "194/194 [==============================] - 18s 95ms/step - loss: 0.1015 - acc: 0.9781\n",
            "Epoch 8/10\n",
            "194/194 [==============================] - 18s 94ms/step - loss: 0.0937 - acc: 0.9768\n",
            "Epoch 9/10\n",
            "194/194 [==============================] - 18s 95ms/step - loss: 0.1372 - acc: 0.9762\n",
            "Epoch 10/10\n",
            "194/194 [==============================] - 18s 95ms/step - loss: 0.0801 - acc: 0.9807\n",
            "3 / 172 instances have illegal characters.\n",
            "21/21 [==============================] - 1s 48ms/step - loss: 0.8293 - acc: 0.8571\n"
          ]
        }
      ]
    },
    {
      "cell_type": "code",
      "source": [
        "recognizer.training_model.save(\"recognizer_icdar2013.h5\")"
      ],
      "metadata": {
        "id": "9f9dZo4get33"
      },
      "execution_count": 15,
      "outputs": []
    },
    {
      "cell_type": "code",
      "source": [
        "print(val_loss)"
      ],
      "metadata": {
        "colab": {
          "base_uri": "https://localhost:8080/"
        },
        "id": "p-B-iPWlrgrI",
        "outputId": "cbc57ab3-5541-4f1d-9318-e96a43c671c7"
      },
      "execution_count": 17,
      "outputs": [
        {
          "output_type": "stream",
          "name": "stdout",
          "text": [
            "0.8834629029035568\n"
          ]
        }
      ]
    },
    {
      "cell_type": "code",
      "source": [
        "recognizer.model.load_weights(\"./recognizer_icdar2013.h5\")\n",
        "recognizer.prediction_model.summary()"
      ],
      "metadata": {
        "colab": {
          "base_uri": "https://localhost:8080/"
        },
        "id": "dn3CEmE9rxAc",
        "outputId": "4eed2145-3c8e-4414-f017-e2b242415756"
      },
      "execution_count": 35,
      "outputs": [
        {
          "output_type": "stream",
          "name": "stdout",
          "text": [
            "Model: \"model_5\"\n",
            "__________________________________________________________________________________________________\n",
            " Layer (type)                   Output Shape         Param #     Connected to                     \n",
            "==================================================================================================\n",
            " input_2 (InputLayer)           [(None, 31, 200, 1)  0           []                               \n",
            "                                ]                                                                 \n",
            "                                                                                                  \n",
            " permute (Permute)              (None, 200, 31, 1)   0           ['input_2[0][0]']                \n",
            "                                                                                                  \n",
            " lambda (Lambda)                (None, 200, 31, 1)   0           ['permute[0][0]']                \n",
            "                                                                                                  \n",
            " conv_1 (Conv2D)                (None, 200, 31, 64)  640         ['lambda[0][0]']                 \n",
            "                                                                                                  \n",
            " conv_2 (Conv2D)                (None, 200, 31, 128  73856       ['conv_1[0][0]']                 \n",
            "                                )                                                                 \n",
            "                                                                                                  \n",
            " conv_3 (Conv2D)                (None, 200, 31, 256  295168      ['conv_2[0][0]']                 \n",
            "                                )                                                                 \n",
            "                                                                                                  \n",
            " bn_3 (BatchNormalization)      (None, 200, 31, 256  1024        ['conv_3[0][0]']                 \n",
            "                                )                                                                 \n",
            "                                                                                                  \n",
            " maxpool_3 (MaxPooling2D)       (None, 100, 15, 256  0           ['bn_3[0][0]']                   \n",
            "                                )                                                                 \n",
            "                                                                                                  \n",
            " conv_4 (Conv2D)                (None, 100, 15, 256  590080      ['maxpool_3[0][0]']              \n",
            "                                )                                                                 \n",
            "                                                                                                  \n",
            " conv_5 (Conv2D)                (None, 100, 15, 512  1180160     ['conv_4[0][0]']                 \n",
            "                                )                                                                 \n",
            "                                                                                                  \n",
            " bn_5 (BatchNormalization)      (None, 100, 15, 512  2048        ['conv_5[0][0]']                 \n",
            "                                )                                                                 \n",
            "                                                                                                  \n",
            " maxpool_5 (MaxPooling2D)       (None, 50, 7, 512)   0           ['bn_5[0][0]']                   \n",
            "                                                                                                  \n",
            " conv_6 (Conv2D)                (None, 50, 7, 512)   2359808     ['maxpool_5[0][0]']              \n",
            "                                                                                                  \n",
            " conv_7 (Conv2D)                (None, 50, 7, 512)   2359808     ['conv_6[0][0]']                 \n",
            "                                                                                                  \n",
            " bn_7 (BatchNormalization)      (None, 50, 7, 512)   2048        ['conv_7[0][0]']                 \n",
            "                                                                                                  \n",
            " model_2 (Functional)           (None, 6)            934902      ['bn_7[0][0]']                   \n",
            "                                                                                                  \n",
            " lambda_1 (Lambda)              (None, 50, 7, 512)   0           ['bn_7[0][0]',                   \n",
            "                                                                  'model_2[0][0]']                \n",
            "                                                                                                  \n",
            " reshape (Reshape)              (None, 50, 3584)     0           ['lambda_1[0][0]']               \n",
            "                                                                                                  \n",
            " fc_9 (Dense)                   (None, 50, 128)      458880      ['reshape[0][0]']                \n",
            "                                                                                                  \n",
            " lstm_10 (LSTM)                 (None, 50, 128)      131584      ['fc_9[0][0]']                   \n",
            "                                                                                                  \n",
            " lstm_10_back (LSTM)            (None, 50, 128)      131584      ['fc_9[0][0]']                   \n",
            "                                                                                                  \n",
            " add (Add)                      (None, 50, 128)      0           ['lstm_10[0][0]',                \n",
            "                                                                  'lstm_10_back[0][0]']           \n",
            "                                                                                                  \n",
            " lstm_11 (LSTM)                 (None, 50, 128)      131584      ['add[0][0]']                    \n",
            "                                                                                                  \n",
            " lstm_11_back (LSTM)            (None, 50, 128)      131584      ['add[0][0]']                    \n",
            "                                                                                                  \n",
            " concatenate_4 (Concatenate)    (None, 50, 256)      0           ['lstm_11[0][0]',                \n",
            "                                                                  'lstm_11_back[0][0]']           \n",
            "                                                                                                  \n",
            " dropout (Dropout)              (None, 50, 256)      0           ['concatenate_4[0][0]']          \n",
            "                                                                                                  \n",
            " fc_12 (Dense)                  (None, 50, 52)       13364       ['dropout[0][0]']                \n",
            "                                                                                                  \n",
            " lambda_2 (Lambda)              (None, 48, 52)       0           ['fc_12[0][0]']                  \n",
            "                                                                                                  \n",
            " decode (Lambda)                (None, 48)           0           ['lambda_2[0][0]']               \n",
            "                                                                                                  \n",
            "==================================================================================================\n",
            "Total params: 8,798,122\n",
            "Trainable params: 13,364\n",
            "Non-trainable params: 8,784,758\n",
            "__________________________________________________________________________________________________\n"
          ]
        }
      ]
    },
    {
      "cell_type": "code",
      "source": [
        "from google.colab import files\n",
        "files.download('/content/recognizer_icdar2013.h5') "
      ],
      "metadata": {
        "id": "4OM4w-5IIvPF",
        "colab": {
          "base_uri": "https://localhost:8080/",
          "height": 17
        },
        "outputId": "74b25a62-4826-457a-8a8d-05cce363983a"
      },
      "execution_count": 16,
      "outputs": [
        {
          "output_type": "display_data",
          "data": {
            "text/plain": [
              "<IPython.core.display.Javascript object>"
            ],
            "application/javascript": [
              "\n",
              "    async function download(id, filename, size) {\n",
              "      if (!google.colab.kernel.accessAllowed) {\n",
              "        return;\n",
              "      }\n",
              "      const div = document.createElement('div');\n",
              "      const label = document.createElement('label');\n",
              "      label.textContent = `Downloading \"${filename}\": `;\n",
              "      div.appendChild(label);\n",
              "      const progress = document.createElement('progress');\n",
              "      progress.max = size;\n",
              "      div.appendChild(progress);\n",
              "      document.body.appendChild(div);\n",
              "\n",
              "      const buffers = [];\n",
              "      let downloaded = 0;\n",
              "\n",
              "      const channel = await google.colab.kernel.comms.open(id);\n",
              "      // Send a message to notify the kernel that we're ready.\n",
              "      channel.send({})\n",
              "\n",
              "      for await (const message of channel.messages) {\n",
              "        // Send a message to notify the kernel that we're ready.\n",
              "        channel.send({})\n",
              "        if (message.buffers) {\n",
              "          for (const buffer of message.buffers) {\n",
              "            buffers.push(buffer);\n",
              "            downloaded += buffer.byteLength;\n",
              "            progress.value = downloaded;\n",
              "          }\n",
              "        }\n",
              "      }\n",
              "      const blob = new Blob(buffers, {type: 'application/binary'});\n",
              "      const a = document.createElement('a');\n",
              "      a.href = window.URL.createObjectURL(blob);\n",
              "      a.download = filename;\n",
              "      div.appendChild(a);\n",
              "      a.click();\n",
              "      div.remove();\n",
              "    }\n",
              "  "
            ]
          },
          "metadata": {}
        },
        {
          "output_type": "display_data",
          "data": {
            "text/plain": [
              "<IPython.core.display.Javascript object>"
            ],
            "application/javascript": [
              "download(\"download_ca3955f4-8965-4fd6-8fe0-a03053ad6e93\", \"recognizer_icdar2013.h5\", 70584032)"
            ]
          },
          "metadata": {}
        }
      ]
    }
  ]
}