{
  "nbformat": 4,
  "nbformat_minor": 0,
  "metadata": {
    "colab": {
      "name": "Transfer_learning_recognizer_model.ipynb",
      "provenance": [],
      "collapsed_sections": []
    },
    "kernelspec": {
      "name": "python3",
      "display_name": "Python 3"
    },
    "language_info": {
      "name": "python"
    },
    "accelerator": "GPU"
  },
  "cells": [
    {
      "cell_type": "code",
      "execution_count": null,
      "metadata": {
        "colab": {
          "base_uri": "https://localhost:8080/"
        },
        "id": "TLbAMutZsy9_",
        "outputId": "3c8f8421-7f73-4f63-bcb0-fa9677aa4be5"
      },
      "outputs": [
        {
          "output_type": "stream",
          "name": "stdout",
          "text": [
            "Looking in indexes: https://pypi.org/simple, https://us-python.pkg.dev/colab-wheels/public/simple/\n",
            "Collecting git+https://github.com/suryaanthony2/keras-ocr.git\n",
            "  Cloning https://github.com/suryaanthony2/keras-ocr.git to /tmp/pip-req-build-8xa3rt7r\n",
            "  Running command git clone -q https://github.com/suryaanthony2/keras-ocr.git /tmp/pip-req-build-8xa3rt7r\n",
            "  Installing build dependencies ... \u001b[?25l\u001b[?25hdone\n",
            "  Getting requirements to build wheel ... \u001b[?25l\u001b[?25hdone\n",
            "    Preparing wheel metadata ... \u001b[?25l\u001b[?25hdone\n",
            "Requirement already satisfied: fonttools in /usr/local/lib/python3.7/dist-packages (from keras-ocr==0.9.0.post3+8b9eba7) (4.33.3)\n",
            "Requirement already satisfied: pyclipper in /usr/local/lib/python3.7/dist-packages (from keras-ocr==0.9.0.post3+8b9eba7) (1.3.0.post2)\n",
            "Requirement already satisfied: validators in /usr/local/lib/python3.7/dist-packages (from keras-ocr==0.9.0.post3+8b9eba7) (0.20.0)\n",
            "Requirement already satisfied: tqdm in /usr/local/lib/python3.7/dist-packages (from keras-ocr==0.9.0.post3+8b9eba7) (4.64.0)\n",
            "Requirement already satisfied: efficientnet==1.0.0 in /usr/local/lib/python3.7/dist-packages (from keras-ocr==0.9.0.post3+8b9eba7) (1.0.0)\n",
            "Requirement already satisfied: imgaug in /usr/local/lib/python3.7/dist-packages (from keras-ocr==0.9.0.post3+8b9eba7) (0.2.9)\n",
            "Requirement already satisfied: essential_generators in /usr/local/lib/python3.7/dist-packages (from keras-ocr==0.9.0.post3+8b9eba7) (1.0)\n",
            "Requirement already satisfied: editdistance in /usr/local/lib/python3.7/dist-packages (from keras-ocr==0.9.0.post3+8b9eba7) (0.5.3)\n",
            "Requirement already satisfied: shapely in /usr/local/lib/python3.7/dist-packages (from keras-ocr==0.9.0.post3+8b9eba7) (1.8.2)\n",
            "Requirement already satisfied: keras-applications<=1.0.8,>=1.0.7 in /usr/local/lib/python3.7/dist-packages (from efficientnet==1.0.0->keras-ocr==0.9.0.post3+8b9eba7) (1.0.8)\n",
            "Requirement already satisfied: scikit-image in /usr/local/lib/python3.7/dist-packages (from efficientnet==1.0.0->keras-ocr==0.9.0.post3+8b9eba7) (0.18.3)\n",
            "Requirement already satisfied: h5py in /usr/local/lib/python3.7/dist-packages (from keras-applications<=1.0.8,>=1.0.7->efficientnet==1.0.0->keras-ocr==0.9.0.post3+8b9eba7) (3.1.0)\n",
            "Requirement already satisfied: numpy>=1.9.1 in /usr/local/lib/python3.7/dist-packages (from keras-applications<=1.0.8,>=1.0.7->efficientnet==1.0.0->keras-ocr==0.9.0.post3+8b9eba7) (1.21.6)\n",
            "Requirement already satisfied: cached-property in /usr/local/lib/python3.7/dist-packages (from h5py->keras-applications<=1.0.8,>=1.0.7->efficientnet==1.0.0->keras-ocr==0.9.0.post3+8b9eba7) (1.5.2)\n",
            "Requirement already satisfied: six in /usr/local/lib/python3.7/dist-packages (from imgaug->keras-ocr==0.9.0.post3+8b9eba7) (1.15.0)\n",
            "Requirement already satisfied: scipy in /usr/local/lib/python3.7/dist-packages (from imgaug->keras-ocr==0.9.0.post3+8b9eba7) (1.4.1)\n",
            "Requirement already satisfied: opencv-python in /usr/local/lib/python3.7/dist-packages (from imgaug->keras-ocr==0.9.0.post3+8b9eba7) (4.5.5.64)\n",
            "Requirement already satisfied: matplotlib in /usr/local/lib/python3.7/dist-packages (from imgaug->keras-ocr==0.9.0.post3+8b9eba7) (3.2.2)\n",
            "Requirement already satisfied: Pillow in /usr/local/lib/python3.7/dist-packages (from imgaug->keras-ocr==0.9.0.post3+8b9eba7) (7.1.2)\n",
            "Requirement already satisfied: imageio in /usr/local/lib/python3.7/dist-packages (from imgaug->keras-ocr==0.9.0.post3+8b9eba7) (2.4.1)\n",
            "Requirement already satisfied: tifffile>=2019.7.26 in /usr/local/lib/python3.7/dist-packages (from scikit-image->efficientnet==1.0.0->keras-ocr==0.9.0.post3+8b9eba7) (2021.11.2)\n",
            "Requirement already satisfied: networkx>=2.0 in /usr/local/lib/python3.7/dist-packages (from scikit-image->efficientnet==1.0.0->keras-ocr==0.9.0.post3+8b9eba7) (2.6.3)\n",
            "Requirement already satisfied: PyWavelets>=1.1.1 in /usr/local/lib/python3.7/dist-packages (from scikit-image->efficientnet==1.0.0->keras-ocr==0.9.0.post3+8b9eba7) (1.3.0)\n",
            "Requirement already satisfied: python-dateutil>=2.1 in /usr/local/lib/python3.7/dist-packages (from matplotlib->imgaug->keras-ocr==0.9.0.post3+8b9eba7) (2.8.2)\n",
            "Requirement already satisfied: kiwisolver>=1.0.1 in /usr/local/lib/python3.7/dist-packages (from matplotlib->imgaug->keras-ocr==0.9.0.post3+8b9eba7) (1.4.2)\n",
            "Requirement already satisfied: cycler>=0.10 in /usr/local/lib/python3.7/dist-packages (from matplotlib->imgaug->keras-ocr==0.9.0.post3+8b9eba7) (0.11.0)\n",
            "Requirement already satisfied: pyparsing!=2.0.4,!=2.1.2,!=2.1.6,>=2.0.1 in /usr/local/lib/python3.7/dist-packages (from matplotlib->imgaug->keras-ocr==0.9.0.post3+8b9eba7) (3.0.9)\n",
            "Requirement already satisfied: typing-extensions in /usr/local/lib/python3.7/dist-packages (from kiwisolver>=1.0.1->matplotlib->imgaug->keras-ocr==0.9.0.post3+8b9eba7) (4.2.0)\n",
            "Requirement already satisfied: decorator>=3.4.0 in /usr/local/lib/python3.7/dist-packages (from validators->keras-ocr==0.9.0.post3+8b9eba7) (4.4.2)\n",
            "Building wheels for collected packages: keras-ocr\n",
            "  Building wheel for keras-ocr (PEP 517) ... \u001b[?25l\u001b[?25hdone\n",
            "  Created wheel for keras-ocr: filename=keras_ocr-0.9.0.post3+8b9eba7-py3-none-any.whl size=42373 sha256=0a0537c054362c59cd26d18ecfc903e524c33e373aaf859c73d8c069241272ae\n",
            "  Stored in directory: /tmp/pip-ephem-wheel-cache-ukpedw76/wheels/60/91/5d/7bd6c920551ddc575a6f8f33a7c4c5b0ae64b8e5857ffa9742\n",
            "Successfully built keras-ocr\n",
            "Installing collected packages: keras-ocr\n",
            "  Attempting uninstall: keras-ocr\n",
            "    Found existing installation: keras-ocr 0.9.0.post2+40bb9bd\n",
            "    Uninstalling keras-ocr-0.9.0.post2+40bb9bd:\n",
            "      Successfully uninstalled keras-ocr-0.9.0.post2+40bb9bd\n",
            "Successfully installed keras-ocr-0.9.0.post3+8b9eba7\n",
            "Looking in indexes: https://pypi.org/simple, https://us-python.pkg.dev/colab-wheels/public/simple/\n",
            "Requirement already satisfied: imgaug in /usr/local/lib/python3.7/dist-packages (0.2.9)\n",
            "Requirement already satisfied: Shapely in /usr/local/lib/python3.7/dist-packages (from imgaug) (1.8.2)\n",
            "Requirement already satisfied: scikit-image>=0.11.0 in /usr/local/lib/python3.7/dist-packages (from imgaug) (0.18.3)\n",
            "Requirement already satisfied: numpy>=1.15.0 in /usr/local/lib/python3.7/dist-packages (from imgaug) (1.21.6)\n",
            "Requirement already satisfied: opencv-python in /usr/local/lib/python3.7/dist-packages (from imgaug) (4.5.5.64)\n",
            "Requirement already satisfied: scipy in /usr/local/lib/python3.7/dist-packages (from imgaug) (1.4.1)\n",
            "Requirement already satisfied: Pillow in /usr/local/lib/python3.7/dist-packages (from imgaug) (7.1.2)\n",
            "Requirement already satisfied: matplotlib in /usr/local/lib/python3.7/dist-packages (from imgaug) (3.2.2)\n",
            "Requirement already satisfied: imageio in /usr/local/lib/python3.7/dist-packages (from imgaug) (2.4.1)\n",
            "Requirement already satisfied: six in /usr/local/lib/python3.7/dist-packages (from imgaug) (1.15.0)\n",
            "Requirement already satisfied: PyWavelets>=1.1.1 in /usr/local/lib/python3.7/dist-packages (from scikit-image>=0.11.0->imgaug) (1.3.0)\n",
            "Requirement already satisfied: networkx>=2.0 in /usr/local/lib/python3.7/dist-packages (from scikit-image>=0.11.0->imgaug) (2.6.3)\n",
            "Requirement already satisfied: tifffile>=2019.7.26 in /usr/local/lib/python3.7/dist-packages (from scikit-image>=0.11.0->imgaug) (2021.11.2)\n",
            "Requirement already satisfied: python-dateutil>=2.1 in /usr/local/lib/python3.7/dist-packages (from matplotlib->imgaug) (2.8.2)\n",
            "Requirement already satisfied: kiwisolver>=1.0.1 in /usr/local/lib/python3.7/dist-packages (from matplotlib->imgaug) (1.4.2)\n",
            "Requirement already satisfied: pyparsing!=2.0.4,!=2.1.2,!=2.1.6,>=2.0.1 in /usr/local/lib/python3.7/dist-packages (from matplotlib->imgaug) (3.0.9)\n",
            "Requirement already satisfied: cycler>=0.10 in /usr/local/lib/python3.7/dist-packages (from matplotlib->imgaug) (0.11.0)\n",
            "Requirement already satisfied: typing-extensions in /usr/local/lib/python3.7/dist-packages (from kiwisolver>=1.0.1->matplotlib->imgaug) (4.2.0)\n",
            "Looking in indexes: https://pypi.org/simple, https://us-python.pkg.dev/colab-wheels/public/simple/\n",
            "Requirement already satisfied: opencv-python in /usr/local/lib/python3.7/dist-packages (4.5.5.64)\n",
            "Requirement already satisfied: numpy>=1.14.5 in /usr/local/lib/python3.7/dist-packages (from opencv-python) (1.21.6)\n",
            "/usr/local/lib/python3.7/dist-packages/gdown/cli.py:131: FutureWarning: Option `--id` was deprecated in version 4.3.1 and will be removed in 5.0. You don't need to pass it anymore to use a file ID.\n",
            "  category=FutureWarning,\n",
            "Downloading...\n",
            "From: https://drive.google.com/uc?id=12WOvX4IDbmJUTDOdWbV3wWAc4lr5GGmO\n",
            "To: /content/Challenge2_Training_Task3_Images_GT.zip\n",
            "100% 83.9M/83.9M [00:00<00:00, 346MB/s]\n",
            "/usr/local/lib/python3.7/dist-packages/gdown/cli.py:131: FutureWarning: Option `--id` was deprecated in version 4.3.1 and will be removed in 5.0. You don't need to pass it anymore to use a file ID.\n",
            "  category=FutureWarning,\n",
            "Downloading...\n",
            "From: https://drive.google.com/uc?id=1xCeveu2CyYLNyTeXfsRRTABPwGRYpI82\n",
            "To: /content/Challenge2_Test_Task3_Images_GT.zip\n",
            "100% 82.8M/82.8M [00:00<00:00, 335MB/s]\n",
            "/usr/local/lib/python3.7/dist-packages/gdown/cli.py:131: FutureWarning: Option `--id` was deprecated in version 4.3.1 and will be removed in 5.0. You don't need to pass it anymore to use a file ID.\n",
            "  category=FutureWarning,\n",
            "Downloading...\n",
            "From: https://drive.google.com/uc?id=1CoHp2jck0GK8ogkazgaACV5o4F0SoMCD\n",
            "To: /content/recognizer_icdar2013.h5\n",
            "100% 70.6M/70.6M [00:00<00:00, 297MB/s]\n"
          ]
        }
      ],
      "source": [
        "!pip install -U git+https://github.com/suryaanthony2/keras-ocr.git\n",
        "!pip install imgaug\n",
        "!pip install -U opencv-python\n",
        "%tensorflow_version 2.x\n",
        "\n",
        "!gdown --id 12WOvX4IDbmJUTDOdWbV3wWAc4lr5GGmO\n",
        "!gdown --id 1xCeveu2CyYLNyTeXfsRRTABPwGRYpI82\n",
        "!gdown --id 1CoHp2jck0GK8ogkazgaACV5o4F0SoMCD #download recognizer weights"
      ]
    },
    {
      "cell_type": "code",
      "source": [
        "import random\n",
        "import string\n",
        "import math\n",
        "import itertools\n",
        "import os\n",
        "import zipfile\n",
        "import typing\n",
        "\n",
        "import numpy as np\n",
        "\n",
        "import imgaug\n",
        "import matplotlib.pyplot as plt\n",
        "import tensorflow as tf\n",
        "import sklearn.model_selection\n",
        "\n",
        "import keras_ocr\n",
        "\n",
        "dir = \".\""
      ],
      "metadata": {
        "id": "qNRucnyf_UGq"
      },
      "execution_count": null,
      "outputs": []
    },
    {
      "cell_type": "code",
      "source": [
        "def extract_train_dataset(main_dir=\".\"):\n",
        "  if not os.path.isdir(main_dir):\n",
        "    os.mkdir(main_dir)\n",
        "  train_image_dir = os.path.join(main_dir, \"train_images\")\n",
        "  if not os.path.isdir(train_image_dir):\n",
        "    os.mkdir(train_image_dir)\n",
        "  training_zip_images_path = os.path.join(\".\", \"Challenge2_Training_Task3_Images_GT.zip\")\n",
        "  if len(os.listdir(train_image_dir)) != 849:\n",
        "    with zipfile.ZipFile(training_zip_images_path, 'r') as zip_ref:\n",
        "      zip_ref.extractall(train_image_dir)"
      ],
      "metadata": {
        "id": "4C4XvrTP_Qy3"
      },
      "execution_count": null,
      "outputs": []
    },
    {
      "cell_type": "code",
      "source": [
        "def extract_test_dataset(main_dir=\".\"):\n",
        "  if not os.path.isdir(main_dir):\n",
        "    os.mkdir(main_dir)\n",
        "  test_image_dir = os.path.join(main_dir, \"test_images\")\n",
        "  if not os.path.isdir(test_image_dir):\n",
        "    os.mkdir(test_image_dir)\n",
        "  training_zip_images_path = os.path.join(\".\", \"Challenge2_Test_Task3_Images_GT.zip\")\n",
        "  if len(os.listdir(test_image_dir)) != 1095:\n",
        "    with zipfile.ZipFile(training_zip_images_path, 'r') as zip_ref:\n",
        "      zip_ref.extractall(test_image_dir)"
      ],
      "metadata": {
        "id": "D7UDz7LKyxOr"
      },
      "execution_count": null,
      "outputs": []
    },
    {
      "cell_type": "code",
      "source": [
        "def preprocess_train_dataset(dir=\".\"):\n",
        "  main_dir = os.path.join(dir, \"icdar2013\")\n",
        "  extract_train_dataset(main_dir)\n",
        "  dataset = []\n",
        "\n",
        "  train_image_dir = os.path.join(main_dir, \"train_images\")\n",
        "  train_gt_path = os.path.join(train_image_dir, \"gt.txt\")\n",
        "\n",
        "  dataset = []\n",
        "\n",
        "  with open(train_gt_path, \"r\", encoding=\"utf8\") as f:\n",
        "    for line in f:\n",
        "      image_id, text = line.split(\".png,\")\n",
        "      text = text.strip(\"\\\"\\n \").lower()\n",
        "      image_path = os.path.join(train_image_dir, image_id + \".png\")\n",
        "      dataset.append((image_path, None, text))\n",
        "      \n",
        "  return dataset"
      ],
      "metadata": {
        "id": "GQnVhf2DSlKn"
      },
      "execution_count": null,
      "outputs": []
    },
    {
      "cell_type": "code",
      "source": [
        "def preprocess_test_dataset(dir=\".\"):\n",
        "  main_dir = os.path.join(dir, \"icdar2013\")\n",
        "  extract_test_dataset(main_dir)\n",
        "  dataset = []\n",
        "\n",
        "  test_image_dir = os.path.join(main_dir, \"test_images\")\n",
        "  test_gt_path = os.path.join(test_image_dir, \"gt.txt\")\n",
        "\n",
        "  dataset = []\n",
        "\n",
        "  with open(test_gt_path, \"r\", encoding=\"utf8\") as f:\n",
        "    for line in f:\n",
        "      image_id, text = line.split(\".png,\")\n",
        "      text = text.strip(\"\\\"\\n \").lower()\n",
        "      image_path = os.path.join(test_image_dir, image_id + \".png\")\n",
        "      dataset.append((image_path, None, text))\n",
        "      \n",
        "  return dataset"
      ],
      "metadata": {
        "id": "isX0szEL0xHO"
      },
      "execution_count": null,
      "outputs": []
    },
    {
      "cell_type": "code",
      "source": [
        "train_dataset = preprocess_train_dataset(dir)\n",
        "test_dataset = preprocess_test_dataset(dir)\n",
        "train_labels = [(filepath, box, word.lower()) for filepath, box, word in train_dataset]\n",
        "test = [(filepath, box, word.lower()) for filepath, box, word in test_dataset]\n",
        "\n",
        "train_labels.extend(test)"
      ],
      "metadata": {
        "id": "eG7XxiiyaFI7"
      },
      "execution_count": null,
      "outputs": []
    },
    {
      "cell_type": "code",
      "source": [
        "print(len(train_labels))"
      ],
      "metadata": {
        "colab": {
          "base_uri": "https://localhost:8080/"
        },
        "id": "koBI-zoi40J3",
        "outputId": "5b966796-b163-494b-d18f-90d54bf20c02"
      },
      "execution_count": null,
      "outputs": [
        {
          "output_type": "stream",
          "name": "stdout",
          "text": [
            "1943\n"
          ]
        }
      ]
    },
    {
      "cell_type": "code",
      "source": [
        "alphabet = string.digits + string.ascii_letters\n",
        "recognizer_alphabet = ''.join(sorted(set(alphabet.lower())))"
      ],
      "metadata": {
        "id": "v4aowCkR29ol"
      },
      "execution_count": null,
      "outputs": []
    },
    {
      "cell_type": "code",
      "source": [
        "BUILD_PARAMS = {\n",
        "    \"height\": 31,\n",
        "    \"width\": 200,\n",
        "    \"color\": False,\n",
        "    \"filters\": (64, 128, 256, 256, 512, 512, 512),\n",
        "    \"rnn_units\": (128, 128),\n",
        "    \"dropout\": 0.25,\n",
        "    \"rnn_steps_to_discard\": 2,\n",
        "    \"pool_size\": 2,\n",
        "    \"stn\": True,\n",
        "}"
      ],
      "metadata": {
        "id": "-pulboqyo68O"
      },
      "execution_count": null,
      "outputs": []
    },
    {
      "cell_type": "code",
      "source": [
        "detector = keras_ocr.detection.Detector(weights='clovaai_general')\n",
        "recognizer = keras_ocr.recognition.Recognizer(\n",
        "    alphabet=recognizer_alphabet,\n",
        "    weights='kurapan',\n",
        "    build_params=BUILD_PARAMS\n",
        ")\n",
        "recognizer.compile(metrics=[\"acc\"])\n",
        "for layer in recognizer.backbone.layers:\n",
        "    layer.trainable = False"
      ],
      "metadata": {
        "colab": {
          "base_uri": "https://localhost:8080/"
        },
        "id": "5WwUSuJVEG5V",
        "outputId": "0c49958d-40cc-468a-b3ae-c757cd55277e"
      },
      "execution_count": null,
      "outputs": [
        {
          "output_type": "stream",
          "name": "stdout",
          "text": [
            "Looking for /root/.keras-ocr/craft_mlt_25k.h5\n",
            "Loading backbone weights only.\n",
            "Looking for /root/.keras-ocr/crnn_kurapan_notop.h5\n",
            "Downloading /root/.keras-ocr/crnn_kurapan_notop.h5\n"
          ]
        }
      ]
    },
    {
      "cell_type": "code",
      "source": [
        "recognizer.prediction_model.summary()"
      ],
      "metadata": {
        "colab": {
          "base_uri": "https://localhost:8080/"
        },
        "id": "gQ-g8CpapyM4",
        "outputId": "3d06d0cc-b4f5-414c-bb90-19e6d1babf0f"
      },
      "execution_count": null,
      "outputs": [
        {
          "output_type": "stream",
          "name": "stdout",
          "text": [
            "Model: \"model_5\"\n",
            "__________________________________________________________________________________________________\n",
            " Layer (type)                   Output Shape         Param #     Connected to                     \n",
            "==================================================================================================\n",
            " input_2 (InputLayer)           [(None, 31, 200, 1)  0           []                               \n",
            "                                ]                                                                 \n",
            "                                                                                                  \n",
            " permute (Permute)              (None, 200, 31, 1)   0           ['input_2[0][0]']                \n",
            "                                                                                                  \n",
            " lambda (Lambda)                (None, 200, 31, 1)   0           ['permute[0][0]']                \n",
            "                                                                                                  \n",
            " conv_1 (Conv2D)                (None, 200, 31, 64)  640         ['lambda[0][0]']                 \n",
            "                                                                                                  \n",
            " conv_2 (Conv2D)                (None, 200, 31, 128  73856       ['conv_1[0][0]']                 \n",
            "                                )                                                                 \n",
            "                                                                                                  \n",
            " conv_3 (Conv2D)                (None, 200, 31, 256  295168      ['conv_2[0][0]']                 \n",
            "                                )                                                                 \n",
            "                                                                                                  \n",
            " bn_3 (BatchNormalization)      (None, 200, 31, 256  1024        ['conv_3[0][0]']                 \n",
            "                                )                                                                 \n",
            "                                                                                                  \n",
            " maxpool_3 (MaxPooling2D)       (None, 100, 15, 256  0           ['bn_3[0][0]']                   \n",
            "                                )                                                                 \n",
            "                                                                                                  \n",
            " conv_4 (Conv2D)                (None, 100, 15, 256  590080      ['maxpool_3[0][0]']              \n",
            "                                )                                                                 \n",
            "                                                                                                  \n",
            " conv_5 (Conv2D)                (None, 100, 15, 512  1180160     ['conv_4[0][0]']                 \n",
            "                                )                                                                 \n",
            "                                                                                                  \n",
            " bn_5 (BatchNormalization)      (None, 100, 15, 512  2048        ['conv_5[0][0]']                 \n",
            "                                )                                                                 \n",
            "                                                                                                  \n",
            " maxpool_5 (MaxPooling2D)       (None, 50, 7, 512)   0           ['bn_5[0][0]']                   \n",
            "                                                                                                  \n",
            " conv_6 (Conv2D)                (None, 50, 7, 512)   2359808     ['maxpool_5[0][0]']              \n",
            "                                                                                                  \n",
            " conv_7 (Conv2D)                (None, 50, 7, 512)   2359808     ['conv_6[0][0]']                 \n",
            "                                                                                                  \n",
            " bn_7 (BatchNormalization)      (None, 50, 7, 512)   2048        ['conv_7[0][0]']                 \n",
            "                                                                                                  \n",
            " model_2 (Functional)           (None, 6)            934902      ['bn_7[0][0]']                   \n",
            "                                                                                                  \n",
            " lambda_1 (Lambda)              (None, 50, 7, 512)   0           ['bn_7[0][0]',                   \n",
            "                                                                  'model_2[0][0]']                \n",
            "                                                                                                  \n",
            " reshape (Reshape)              (None, 50, 3584)     0           ['lambda_1[0][0]']               \n",
            "                                                                                                  \n",
            " fc_9 (Dense)                   (None, 50, 128)      458880      ['reshape[0][0]']                \n",
            "                                                                                                  \n",
            " lstm_10 (LSTM)                 (None, 50, 128)      131584      ['fc_9[0][0]']                   \n",
            "                                                                                                  \n",
            " lstm_10_back (LSTM)            (None, 50, 128)      131584      ['fc_9[0][0]']                   \n",
            "                                                                                                  \n",
            " add (Add)                      (None, 50, 128)      0           ['lstm_10[0][0]',                \n",
            "                                                                  'lstm_10_back[0][0]']           \n",
            "                                                                                                  \n",
            " lstm_11 (LSTM)                 (None, 50, 128)      131584      ['add[0][0]']                    \n",
            "                                                                                                  \n",
            " lstm_11_back (LSTM)            (None, 50, 128)      131584      ['add[0][0]']                    \n",
            "                                                                                                  \n",
            " concatenate_4 (Concatenate)    (None, 50, 256)      0           ['lstm_11[0][0]',                \n",
            "                                                                  'lstm_11_back[0][0]']           \n",
            "                                                                                                  \n",
            " dropout (Dropout)              (None, 50, 256)      0           ['concatenate_4[0][0]']          \n",
            "                                                                                                  \n",
            " fc_12 (Dense)                  (None, 50, 37)       9509        ['dropout[0][0]']                \n",
            "                                                                                                  \n",
            " lambda_2 (Lambda)              (None, 48, 37)       0           ['fc_12[0][0]']                  \n",
            "                                                                                                  \n",
            " decode (Lambda)                (None, 48)           0           ['lambda_2[0][0]']               \n",
            "                                                                                                  \n",
            "==================================================================================================\n",
            "Total params: 8,794,267\n",
            "Trainable params: 9,509\n",
            "Non-trainable params: 8,784,758\n",
            "__________________________________________________________________________________________________\n"
          ]
        }
      ]
    },
    {
      "cell_type": "code",
      "source": [
        "def make_generators(train_labels, validation_labels, augmenter, batch_size):\n",
        "  (training_image_gen, training_steps), (validation_image_gen, validation_steps) = [\n",
        "      (\n",
        "          keras_ocr.datasets.get_recognizer_image_generator(\n",
        "              labels=labels,\n",
        "              height=recognizer.model.input_shape[1],\n",
        "              width=recognizer.model.input_shape[2],\n",
        "              alphabet=recognizer.alphabet,\n",
        "              augmenter=augmenter\n",
        "          ),\n",
        "          len(labels) // batch_size\n",
        "      ) for labels, augmenter in [(train_labels, augmenter), (validation_labels, None)]     \n",
        "  ]\n",
        "  training_gen, validation_gen = [\n",
        "      recognizer.get_batch_generator(\n",
        "          image_generator=image_generator,\n",
        "          batch_size=batch_size\n",
        "      )\n",
        "      for image_generator in [training_image_gen, validation_image_gen]\n",
        "  ]\n",
        "  return training_gen, validation_gen, training_steps, validation_steps"
      ],
      "metadata": {
        "id": "nsexSFnvW3AG"
      },
      "execution_count": null,
      "outputs": []
    },
    {
      "cell_type": "code",
      "source": [
        "def train_recognizer_kfold(training_labels, augmenter, batch_size, callbacks=None, k=10, epochs=100):\n",
        "  all_scores = []\n",
        "  num_val_samples = len(training_labels) // k\n",
        "  for i in range(k):\n",
        "    print(\"Processing fold #\", i+1)\n",
        "    val = training_labels[i * num_val_samples: (i + 1) * num_val_samples]\n",
        "    train = training_labels[:i * num_val_samples]\n",
        "    train.extend(\n",
        "        training_labels[(i + 1) * num_val_samples:]\n",
        "    )\n",
        "    training_gen, validation_gen, training_steps, validation_steps = make_generators(\n",
        "        train, val, augmenter, batch_size\n",
        "    )\n",
        "    history = recognizer.training_model.fit(\n",
        "          x=training_gen,\n",
        "          steps_per_epoch=training_steps,\n",
        "          callbacks=callbacks,\n",
        "          epochs=epochs,\n",
        "          verbose=1\n",
        "    )\n",
        "    val_loss, val_acc = recognizer.training_model.evaluate(\n",
        "        x=validation_gen,\n",
        "        steps=validation_steps,\n",
        "        verbose=1\n",
        "    )\n",
        "    all_scores.append(val_loss)\n",
        "  val_loss_mean = np.mean(all_scores)\n",
        "  return val_loss_mean"
      ],
      "metadata": {
        "id": "DO1Gi09DIFOj"
      },
      "execution_count": null,
      "outputs": []
    },
    {
      "cell_type": "code",
      "source": [
        "batch_size = 8\n",
        "augmenter = imgaug.augmenters.Sequential([\n",
        "    imgaug.augmenters.GammaContrast(gamma=(0.25, 3.0)),\n",
        "])\n",
        "val_loss = train_recognizer_kfold(\n",
        "    train_labels,\n",
        "    augmenter,\n",
        "    batch_size,\n",
        "    k=10,\n",
        "    epochs=10\n",
        ")"
      ],
      "metadata": {
        "id": "zq5v6ZYvHdOa",
        "colab": {
          "base_uri": "https://localhost:8080/"
        },
        "outputId": "6e636d3c-9738-4803-f52d-2faf6b1eaec1"
      },
      "execution_count": null,
      "outputs": [
        {
          "output_type": "stream",
          "name": "stdout",
          "text": [
            "Processing fold # 1\n",
            "142 / 1749 instances have illegal characters.\n",
            "Epoch 1/10\n",
            "218/218 [==============================] - 30s 86ms/step - loss: 9.3349 - acc: 0.0499\n",
            "Epoch 2/10\n",
            "218/218 [==============================] - 19s 87ms/step - loss: 3.0799 - acc: 0.3612\n",
            "Epoch 3/10\n",
            "218/218 [==============================] - 19s 89ms/step - loss: 2.0954 - acc: 0.5407\n",
            "Epoch 4/10\n",
            "218/218 [==============================] - 19s 88ms/step - loss: 1.6231 - acc: 0.6325\n",
            "Epoch 5/10\n",
            "218/218 [==============================] - 19s 87ms/step - loss: 1.3690 - acc: 0.6909\n",
            "Epoch 6/10\n",
            "218/218 [==============================] - 19s 87ms/step - loss: 1.1153 - acc: 0.7087\n",
            "Epoch 7/10\n",
            "218/218 [==============================] - 19s 88ms/step - loss: 0.9930 - acc: 0.7494\n",
            "Epoch 8/10\n",
            "218/218 [==============================] - 19s 87ms/step - loss: 0.7646 - acc: 0.7701\n",
            "Epoch 9/10\n",
            "218/218 [==============================] - 19s 88ms/step - loss: 0.6622 - acc: 0.7964\n",
            "Epoch 10/10\n",
            "218/218 [==============================] - 19s 88ms/step - loss: 0.6604 - acc: 0.8228\n",
            "22 / 194 instances have illegal characters.\n",
            "24/24 [==============================] - 4s 34ms/step - loss: 3.0616 - acc: 0.5417\n",
            "Processing fold # 2\n",
            "146 / 1749 instances have illegal characters.\n",
            "Epoch 1/10\n",
            "218/218 [==============================] - 19s 88ms/step - loss: 0.7590 - acc: 0.8154\n",
            "Epoch 2/10\n",
            "218/218 [==============================] - 19s 88ms/step - loss: 0.5488 - acc: 0.8308\n",
            "Epoch 3/10\n",
            "218/218 [==============================] - 19s 88ms/step - loss: 0.5004 - acc: 0.8572\n",
            "Epoch 4/10\n",
            "218/218 [==============================] - 19s 88ms/step - loss: 0.4971 - acc: 0.8641\n",
            "Epoch 5/10\n",
            "218/218 [==============================] - 19s 88ms/step - loss: 0.4683 - acc: 0.8687\n",
            "Epoch 6/10\n",
            "218/218 [==============================] - 19s 88ms/step - loss: 0.4365 - acc: 0.8710\n",
            "Epoch 7/10\n",
            "218/218 [==============================] - 19s 88ms/step - loss: 0.4762 - acc: 0.8509\n",
            "Epoch 8/10\n",
            "218/218 [==============================] - 19s 87ms/step - loss: 0.5357 - acc: 0.8509\n",
            "Epoch 9/10\n",
            "218/218 [==============================] - 19s 87ms/step - loss: 3.0104 - acc: 0.5912\n",
            "Epoch 10/10\n",
            "218/218 [==============================] - 19s 88ms/step - loss: 0.9761 - acc: 0.7695\n",
            "18 / 194 instances have illegal characters.\n",
            "24/24 [==============================] - 1s 39ms/step - loss: 2.8364 - acc: 0.2031\n",
            "Processing fold # 3\n",
            "146 / 1749 instances have illegal characters.\n",
            "Epoch 1/10\n",
            "218/218 [==============================] - 19s 88ms/step - loss: 0.9263 - acc: 0.7907\n",
            "Epoch 2/10\n",
            "218/218 [==============================] - 19s 89ms/step - loss: 0.4794 - acc: 0.8515\n",
            "Epoch 3/10\n",
            "218/218 [==============================] - 19s 88ms/step - loss: 1.1108 - acc: 0.8022\n",
            "Epoch 4/10\n",
            "218/218 [==============================] - 19s 88ms/step - loss: 0.4514 - acc: 0.8607\n",
            "Epoch 5/10\n",
            "218/218 [==============================] - 19s 88ms/step - loss: 0.3420 - acc: 0.8802\n",
            "Epoch 6/10\n",
            "218/218 [==============================] - 19s 88ms/step - loss: 0.3115 - acc: 0.9060\n",
            "Epoch 7/10\n",
            "218/218 [==============================] - 19s 88ms/step - loss: 0.3222 - acc: 0.9083\n",
            "Epoch 8/10\n",
            "218/218 [==============================] - 19s 88ms/step - loss: 0.2303 - acc: 0.9243\n",
            "Epoch 9/10\n",
            "218/218 [==============================] - 19s 88ms/step - loss: 0.2864 - acc: 0.9186\n",
            "Epoch 10/10\n",
            "218/218 [==============================] - 19s 89ms/step - loss: 0.3725 - acc: 0.9255\n",
            "18 / 194 instances have illegal characters.\n",
            "24/24 [==============================] - 1s 40ms/step - loss: 0.7186 - acc: 0.8698\n",
            "Processing fold # 4\n",
            "146 / 1749 instances have illegal characters.\n",
            "Epoch 1/10\n",
            "218/218 [==============================] - 20s 90ms/step - loss: 0.3062 - acc: 0.9128\n",
            "Epoch 2/10\n",
            "218/218 [==============================] - 19s 89ms/step - loss: 0.2311 - acc: 0.9278\n",
            "Epoch 3/10\n",
            "218/218 [==============================] - 19s 89ms/step - loss: 0.1813 - acc: 0.9409\n",
            "Epoch 4/10\n",
            "218/218 [==============================] - 19s 88ms/step - loss: 0.1681 - acc: 0.9472\n",
            "Epoch 5/10\n",
            "218/218 [==============================] - 19s 88ms/step - loss: 0.1337 - acc: 0.9530\n",
            "Epoch 6/10\n",
            "218/218 [==============================] - 19s 87ms/step - loss: 0.1754 - acc: 0.9415\n",
            "Epoch 7/10\n",
            "218/218 [==============================] - 19s 88ms/step - loss: 0.2056 - acc: 0.9490\n",
            "Epoch 8/10\n",
            "218/218 [==============================] - 19s 88ms/step - loss: 0.1562 - acc: 0.9530\n",
            "Epoch 9/10\n",
            "218/218 [==============================] - 19s 88ms/step - loss: 0.2320 - acc: 0.9369\n",
            "Epoch 10/10\n",
            "218/218 [==============================] - 20s 90ms/step - loss: 0.1530 - acc: 0.9495\n",
            "18 / 194 instances have illegal characters.\n",
            "24/24 [==============================] - 1s 38ms/step - loss: 0.5287 - acc: 0.8802\n",
            "Processing fold # 5\n",
            "145 / 1749 instances have illegal characters.\n",
            "Epoch 1/10\n",
            "218/218 [==============================] - 19s 89ms/step - loss: 0.2295 - acc: 0.9432\n",
            "Epoch 2/10\n",
            "218/218 [==============================] - 19s 89ms/step - loss: 1.6864 - acc: 0.7317\n",
            "Epoch 3/10\n",
            "218/218 [==============================] - 19s 89ms/step - loss: 1.4910 - acc: 0.7494\n",
            "Epoch 4/10\n",
            "218/218 [==============================] - 19s 89ms/step - loss: 0.5720 - acc: 0.8658\n",
            "Epoch 5/10\n",
            "218/218 [==============================] - 19s 89ms/step - loss: 0.3594 - acc: 0.9220\n",
            "Epoch 6/10\n",
            "218/218 [==============================] - 19s 89ms/step - loss: 0.1736 - acc: 0.9438\n",
            "Epoch 7/10\n",
            "218/218 [==============================] - 19s 89ms/step - loss: 0.1615 - acc: 0.9484\n",
            "Epoch 8/10\n",
            "218/218 [==============================] - 19s 89ms/step - loss: 0.1246 - acc: 0.9541\n",
            "Epoch 9/10\n",
            "218/218 [==============================] - 19s 89ms/step - loss: 0.2254 - acc: 0.9455\n",
            "Epoch 10/10\n",
            "218/218 [==============================] - 19s 89ms/step - loss: 0.1959 - acc: 0.9558\n",
            "19 / 194 instances have illegal characters.\n",
            "24/24 [==============================] - 1s 43ms/step - loss: 0.4550 - acc: 0.8385\n",
            "Processing fold # 6\n",
            "140 / 1749 instances have illegal characters.\n",
            "Epoch 1/10\n",
            "218/218 [==============================] - 19s 89ms/step - loss: 0.4560 - acc: 0.9226\n",
            "Epoch 2/10\n",
            "218/218 [==============================] - 19s 89ms/step - loss: 0.1788 - acc: 0.9386\n",
            "Epoch 3/10\n",
            "218/218 [==============================] - 19s 89ms/step - loss: 0.1382 - acc: 0.9576\n",
            "Epoch 4/10\n",
            "218/218 [==============================] - 19s 89ms/step - loss: 0.0957 - acc: 0.9604\n",
            "Epoch 5/10\n",
            "218/218 [==============================] - 19s 89ms/step - loss: 0.1749 - acc: 0.9507\n",
            "Epoch 6/10\n",
            "218/218 [==============================] - 19s 89ms/step - loss: 0.1324 - acc: 0.9616\n",
            "Epoch 7/10\n",
            "218/218 [==============================] - 19s 89ms/step - loss: 0.1953 - acc: 0.9513\n",
            "Epoch 8/10\n",
            "218/218 [==============================] - 19s 89ms/step - loss: 0.1402 - acc: 0.9570\n",
            "Epoch 9/10\n",
            "218/218 [==============================] - 19s 89ms/step - loss: 0.1188 - acc: 0.9650\n",
            "Epoch 10/10\n",
            "218/218 [==============================] - 19s 89ms/step - loss: 0.1209 - acc: 0.9599\n",
            "24 / 194 instances have illegal characters.\n",
            "24/24 [==============================] - 1s 42ms/step - loss: 0.4382 - acc: 0.8646\n",
            "Processing fold # 7\n",
            "156 / 1749 instances have illegal characters.\n",
            "Epoch 1/10\n",
            "218/218 [==============================] - 19s 89ms/step - loss: 0.2460 - acc: 0.9364\n",
            "Epoch 2/10\n",
            "218/218 [==============================] - 19s 89ms/step - loss: 0.1451 - acc: 0.9490\n",
            "Epoch 3/10\n",
            "218/218 [==============================] - 19s 89ms/step - loss: 0.1311 - acc: 0.9616\n",
            "Epoch 4/10\n",
            "218/218 [==============================] - 19s 89ms/step - loss: 0.0957 - acc: 0.9725\n",
            "Epoch 5/10\n",
            "218/218 [==============================] - 20s 90ms/step - loss: 0.1034 - acc: 0.9685\n",
            "Epoch 6/10\n",
            "218/218 [==============================] - 19s 89ms/step - loss: 0.1191 - acc: 0.9599\n",
            "Epoch 7/10\n",
            "218/218 [==============================] - 19s 89ms/step - loss: 0.1132 - acc: 0.9673\n",
            "Epoch 8/10\n",
            "218/218 [==============================] - 19s 89ms/step - loss: 0.0379 - acc: 0.9880\n",
            "Epoch 9/10\n",
            "218/218 [==============================] - 19s 89ms/step - loss: 0.0874 - acc: 0.9725\n",
            "Epoch 10/10\n",
            "218/218 [==============================] - 19s 89ms/step - loss: 0.0892 - acc: 0.9696\n",
            "8 / 194 instances have illegal characters.\n",
            "24/24 [==============================] - 1s 36ms/step - loss: 0.1549 - acc: 0.9375\n",
            "Processing fold # 8\n",
            "148 / 1749 instances have illegal characters.\n",
            "Epoch 1/10\n",
            "218/218 [==============================] - 19s 89ms/step - loss: 0.1461 - acc: 0.9576\n",
            "Epoch 2/10\n",
            "218/218 [==============================] - 19s 89ms/step - loss: 0.1102 - acc: 0.9679\n",
            "Epoch 3/10\n",
            "218/218 [==============================] - 19s 89ms/step - loss: 0.1179 - acc: 0.9702\n",
            "Epoch 4/10\n",
            "218/218 [==============================] - 19s 89ms/step - loss: 0.0943 - acc: 0.9725\n",
            "Epoch 5/10\n",
            "218/218 [==============================] - 20s 90ms/step - loss: 0.1271 - acc: 0.9610\n",
            "Epoch 6/10\n",
            "218/218 [==============================] - 19s 89ms/step - loss: 0.1095 - acc: 0.9696\n",
            "Epoch 7/10\n",
            "218/218 [==============================] - 19s 89ms/step - loss: 0.1077 - acc: 0.9639\n",
            "Epoch 8/10\n",
            "218/218 [==============================] - 19s 89ms/step - loss: 0.1096 - acc: 0.9656\n",
            "Epoch 9/10\n",
            "218/218 [==============================] - 19s 89ms/step - loss: 0.1031 - acc: 0.9731\n",
            "Epoch 10/10\n",
            "218/218 [==============================] - 20s 91ms/step - loss: 0.1103 - acc: 0.9753\n",
            "16 / 194 instances have illegal characters.\n",
            "24/24 [==============================] - 1s 36ms/step - loss: 0.5386 - acc: 0.9323\n",
            "Processing fold # 9\n",
            "156 / 1749 instances have illegal characters.\n",
            "Epoch 1/10\n",
            "218/218 [==============================] - 19s 89ms/step - loss: 0.0925 - acc: 0.9719\n",
            "Epoch 2/10\n",
            "218/218 [==============================] - 19s 89ms/step - loss: 0.1075 - acc: 0.9685\n",
            "Epoch 3/10\n",
            "218/218 [==============================] - 19s 89ms/step - loss: 0.1592 - acc: 0.9616\n",
            "Epoch 4/10\n",
            "218/218 [==============================] - 19s 89ms/step - loss: 0.0815 - acc: 0.9765\n",
            "Epoch 5/10\n",
            "218/218 [==============================] - 20s 90ms/step - loss: 0.0789 - acc: 0.9753\n",
            "Epoch 6/10\n",
            "218/218 [==============================] - 20s 91ms/step - loss: 0.0877 - acc: 0.9639\n",
            "Epoch 7/10\n",
            "218/218 [==============================] - 20s 91ms/step - loss: 0.0668 - acc: 0.9782\n",
            "Epoch 8/10\n",
            "218/218 [==============================] - 20s 90ms/step - loss: 0.1893 - acc: 0.9558\n",
            "Epoch 9/10\n",
            "218/218 [==============================] - 20s 90ms/step - loss: 0.3426 - acc: 0.9627\n",
            "Epoch 10/10\n",
            "218/218 [==============================] - 19s 89ms/step - loss: 0.2839 - acc: 0.9507\n",
            "8 / 194 instances have illegal characters.\n",
            "24/24 [==============================] - 1s 35ms/step - loss: 0.9329 - acc: 0.8854\n",
            "Processing fold # 10\n",
            "152 / 1749 instances have illegal characters.\n",
            "Epoch 1/10\n",
            "218/218 [==============================] - 20s 90ms/step - loss: 0.2249 - acc: 0.9438\n",
            "Epoch 2/10\n",
            "218/218 [==============================] - 19s 89ms/step - loss: 0.1645 - acc: 0.9633\n",
            "Epoch 3/10\n",
            "218/218 [==============================] - 19s 89ms/step - loss: 0.1193 - acc: 0.9633\n",
            "Epoch 4/10\n",
            "218/218 [==============================] - 19s 88ms/step - loss: 0.1089 - acc: 0.9725\n",
            "Epoch 5/10\n",
            "218/218 [==============================] - 19s 89ms/step - loss: 0.0778 - acc: 0.9794\n",
            "Epoch 6/10\n",
            "218/218 [==============================] - 20s 90ms/step - loss: 0.0973 - acc: 0.9805\n",
            "Epoch 7/10\n",
            "218/218 [==============================] - 19s 89ms/step - loss: 0.1526 - acc: 0.9662\n",
            "Epoch 8/10\n",
            "218/218 [==============================] - 19s 89ms/step - loss: 0.6089 - acc: 0.9117\n",
            "Epoch 9/10\n",
            "218/218 [==============================] - 19s 88ms/step - loss: 0.2470 - acc: 0.9513\n",
            "Epoch 10/10\n",
            "218/218 [==============================] - 19s 89ms/step - loss: 0.1065 - acc: 0.9650\n",
            "12 / 194 instances have illegal characters.\n",
            "24/24 [==============================] - 1s 38ms/step - loss: 0.0917 - acc: 0.9635\n"
          ]
        }
      ]
    },
    {
      "cell_type": "code",
      "source": [
        "recognizer.training_model.save(\"recognizer_icdar2013.h5\")"
      ],
      "metadata": {
        "id": "9f9dZo4get33"
      },
      "execution_count": null,
      "outputs": []
    },
    {
      "cell_type": "code",
      "source": [
        "print(val_loss)"
      ],
      "metadata": {
        "colab": {
          "base_uri": "https://localhost:8080/"
        },
        "id": "p-B-iPWlrgrI",
        "outputId": "e797f842-4cde-4dcf-a4c2-8b7fdb61bdd2"
      },
      "execution_count": null,
      "outputs": [
        {
          "output_type": "stream",
          "name": "stdout",
          "text": [
            "0.9756792478263379\n"
          ]
        }
      ]
    },
    {
      "cell_type": "code",
      "source": [
        "from google.colab import files\n",
        "files.download('/content/recognizer_icdar2013.h5') "
      ],
      "metadata": {
        "id": "4OM4w-5IIvPF",
        "colab": {
          "base_uri": "https://localhost:8080/",
          "height": 17
        },
        "outputId": "86d155ba-500c-4758-ce9c-2c03cbf4405a"
      },
      "execution_count": null,
      "outputs": [
        {
          "output_type": "display_data",
          "data": {
            "text/plain": [
              "<IPython.core.display.Javascript object>"
            ],
            "application/javascript": [
              "\n",
              "    async function download(id, filename, size) {\n",
              "      if (!google.colab.kernel.accessAllowed) {\n",
              "        return;\n",
              "      }\n",
              "      const div = document.createElement('div');\n",
              "      const label = document.createElement('label');\n",
              "      label.textContent = `Downloading \"${filename}\": `;\n",
              "      div.appendChild(label);\n",
              "      const progress = document.createElement('progress');\n",
              "      progress.max = size;\n",
              "      div.appendChild(progress);\n",
              "      document.body.appendChild(div);\n",
              "\n",
              "      const buffers = [];\n",
              "      let downloaded = 0;\n",
              "\n",
              "      const channel = await google.colab.kernel.comms.open(id);\n",
              "      // Send a message to notify the kernel that we're ready.\n",
              "      channel.send({})\n",
              "\n",
              "      for await (const message of channel.messages) {\n",
              "        // Send a message to notify the kernel that we're ready.\n",
              "        channel.send({})\n",
              "        if (message.buffers) {\n",
              "          for (const buffer of message.buffers) {\n",
              "            buffers.push(buffer);\n",
              "            downloaded += buffer.byteLength;\n",
              "            progress.value = downloaded;\n",
              "          }\n",
              "        }\n",
              "      }\n",
              "      const blob = new Blob(buffers, {type: 'application/binary'});\n",
              "      const a = document.createElement('a');\n",
              "      a.href = window.URL.createObjectURL(blob);\n",
              "      a.download = filename;\n",
              "      div.appendChild(a);\n",
              "      a.click();\n",
              "      div.remove();\n",
              "    }\n",
              "  "
            ]
          },
          "metadata": {}
        },
        {
          "output_type": "display_data",
          "data": {
            "text/plain": [
              "<IPython.core.display.Javascript object>"
            ],
            "application/javascript": [
              "download(\"download_b567cd5d-be6a-4dde-8938-0a38afa822f1\", \"recognizer_icdar2013.h5\", 70553312)"
            ]
          },
          "metadata": {}
        }
      ]
    },
    {
      "cell_type": "code",
      "source": [
        ""
      ],
      "metadata": {
        "id": "QaQh5BkP65Vu"
      },
      "execution_count": null,
      "outputs": []
    }
  ]
}