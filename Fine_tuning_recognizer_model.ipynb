{
  "nbformat": 4,
  "nbformat_minor": 0,
  "metadata": {
    "colab": {
      "name": "Fine_tuning_recognizer_model.ipynb",
      "provenance": [],
      "collapsed_sections": []
    },
    "kernelspec": {
      "name": "python3",
      "display_name": "Python 3"
    },
    "language_info": {
      "name": "python"
    },
    "accelerator": "GPU"
  },
  "cells": [
    {
      "cell_type": "code",
      "execution_count": 1,
      "metadata": {
        "colab": {
          "base_uri": "https://localhost:8080/"
        },
        "id": "TLbAMutZsy9_",
        "outputId": "bf9e72a5-0b22-40db-d050-c5f271d0ed8b"
      },
      "outputs": [
        {
          "output_type": "stream",
          "name": "stdout",
          "text": [
            "Looking in indexes: https://pypi.org/simple, https://us-python.pkg.dev/colab-wheels/public/simple/\n",
            "Collecting git+https://github.com/faustomorales/keras-ocr.git\n",
            "  Cloning https://github.com/faustomorales/keras-ocr.git to /tmp/pip-req-build-9v_d8v1g\n",
            "  Running command git clone -q https://github.com/faustomorales/keras-ocr.git /tmp/pip-req-build-9v_d8v1g\n",
            "  Installing build dependencies ... \u001b[?25l\u001b[?25hdone\n",
            "  Getting requirements to build wheel ... \u001b[?25l\u001b[?25hdone\n",
            "    Preparing wheel metadata ... \u001b[?25l\u001b[?25hdone\n",
            "Collecting fonttools\n",
            "  Downloading fonttools-4.33.3-py3-none-any.whl (930 kB)\n",
            "\u001b[K     |████████████████████████████████| 930 kB 8.8 MB/s \n",
            "\u001b[?25hRequirement already satisfied: imgaug in /usr/local/lib/python3.7/dist-packages (from keras-ocr==0.9.0.post2+40bb9bd) (0.2.9)\n",
            "Requirement already satisfied: editdistance in /usr/local/lib/python3.7/dist-packages (from keras-ocr==0.9.0.post2+40bb9bd) (0.5.3)\n",
            "Collecting efficientnet==1.0.0\n",
            "  Downloading efficientnet-1.0.0-py3-none-any.whl (17 kB)\n",
            "Collecting essential_generators\n",
            "  Downloading essential_generators-1.0-py3-none-any.whl (9.5 MB)\n",
            "\u001b[K     |████████████████████████████████| 9.5 MB 50.5 MB/s \n",
            "\u001b[?25hCollecting validators\n",
            "  Downloading validators-0.19.0.tar.gz (30 kB)\n",
            "Requirement already satisfied: tqdm in /usr/local/lib/python3.7/dist-packages (from keras-ocr==0.9.0.post2+40bb9bd) (4.64.0)\n",
            "Collecting pyclipper\n",
            "  Downloading pyclipper-1.3.0.post2-cp37-cp37m-manylinux_2_5_x86_64.manylinux1_x86_64.whl (603 kB)\n",
            "\u001b[K     |████████████████████████████████| 603 kB 60.7 MB/s \n",
            "\u001b[?25hRequirement already satisfied: shapely in /usr/local/lib/python3.7/dist-packages (from keras-ocr==0.9.0.post2+40bb9bd) (1.8.2)\n",
            "Collecting keras-applications<=1.0.8,>=1.0.7\n",
            "  Downloading Keras_Applications-1.0.8-py3-none-any.whl (50 kB)\n",
            "\u001b[K     |████████████████████████████████| 50 kB 7.9 MB/s \n",
            "\u001b[?25hRequirement already satisfied: scikit-image in /usr/local/lib/python3.7/dist-packages (from efficientnet==1.0.0->keras-ocr==0.9.0.post2+40bb9bd) (0.18.3)\n",
            "Requirement already satisfied: h5py in /usr/local/lib/python3.7/dist-packages (from keras-applications<=1.0.8,>=1.0.7->efficientnet==1.0.0->keras-ocr==0.9.0.post2+40bb9bd) (3.1.0)\n",
            "Requirement already satisfied: numpy>=1.9.1 in /usr/local/lib/python3.7/dist-packages (from keras-applications<=1.0.8,>=1.0.7->efficientnet==1.0.0->keras-ocr==0.9.0.post2+40bb9bd) (1.21.6)\n",
            "Requirement already satisfied: cached-property in /usr/local/lib/python3.7/dist-packages (from h5py->keras-applications<=1.0.8,>=1.0.7->efficientnet==1.0.0->keras-ocr==0.9.0.post2+40bb9bd) (1.5.2)\n",
            "Requirement already satisfied: imageio in /usr/local/lib/python3.7/dist-packages (from imgaug->keras-ocr==0.9.0.post2+40bb9bd) (2.4.1)\n",
            "Requirement already satisfied: matplotlib in /usr/local/lib/python3.7/dist-packages (from imgaug->keras-ocr==0.9.0.post2+40bb9bd) (3.2.2)\n",
            "Requirement already satisfied: scipy in /usr/local/lib/python3.7/dist-packages (from imgaug->keras-ocr==0.9.0.post2+40bb9bd) (1.4.1)\n",
            "Requirement already satisfied: opencv-python in /usr/local/lib/python3.7/dist-packages (from imgaug->keras-ocr==0.9.0.post2+40bb9bd) (4.1.2.30)\n",
            "Requirement already satisfied: six in /usr/local/lib/python3.7/dist-packages (from imgaug->keras-ocr==0.9.0.post2+40bb9bd) (1.15.0)\n",
            "Requirement already satisfied: Pillow in /usr/local/lib/python3.7/dist-packages (from imgaug->keras-ocr==0.9.0.post2+40bb9bd) (7.1.2)\n",
            "Requirement already satisfied: networkx>=2.0 in /usr/local/lib/python3.7/dist-packages (from scikit-image->efficientnet==1.0.0->keras-ocr==0.9.0.post2+40bb9bd) (2.6.3)\n",
            "Requirement already satisfied: tifffile>=2019.7.26 in /usr/local/lib/python3.7/dist-packages (from scikit-image->efficientnet==1.0.0->keras-ocr==0.9.0.post2+40bb9bd) (2021.11.2)\n",
            "Requirement already satisfied: PyWavelets>=1.1.1 in /usr/local/lib/python3.7/dist-packages (from scikit-image->efficientnet==1.0.0->keras-ocr==0.9.0.post2+40bb9bd) (1.3.0)\n",
            "Requirement already satisfied: python-dateutil>=2.1 in /usr/local/lib/python3.7/dist-packages (from matplotlib->imgaug->keras-ocr==0.9.0.post2+40bb9bd) (2.8.2)\n",
            "Requirement already satisfied: kiwisolver>=1.0.1 in /usr/local/lib/python3.7/dist-packages (from matplotlib->imgaug->keras-ocr==0.9.0.post2+40bb9bd) (1.4.2)\n",
            "Requirement already satisfied: pyparsing!=2.0.4,!=2.1.2,!=2.1.6,>=2.0.1 in /usr/local/lib/python3.7/dist-packages (from matplotlib->imgaug->keras-ocr==0.9.0.post2+40bb9bd) (3.0.9)\n",
            "Requirement already satisfied: cycler>=0.10 in /usr/local/lib/python3.7/dist-packages (from matplotlib->imgaug->keras-ocr==0.9.0.post2+40bb9bd) (0.11.0)\n",
            "Requirement already satisfied: typing-extensions in /usr/local/lib/python3.7/dist-packages (from kiwisolver>=1.0.1->matplotlib->imgaug->keras-ocr==0.9.0.post2+40bb9bd) (4.2.0)\n",
            "Requirement already satisfied: decorator>=3.4.0 in /usr/local/lib/python3.7/dist-packages (from validators->keras-ocr==0.9.0.post2+40bb9bd) (4.4.2)\n",
            "Building wheels for collected packages: keras-ocr, validators\n",
            "  Building wheel for keras-ocr (PEP 517) ... \u001b[?25l\u001b[?25hdone\n",
            "  Created wheel for keras-ocr: filename=keras_ocr-0.9.0.post2+40bb9bd-py3-none-any.whl size=42441 sha256=395ed38f34cb967c37e2cf7ce5f322a5231d7070ae68addf74cc2ca4a5851340\n",
            "  Stored in directory: /tmp/pip-ephem-wheel-cache-r9pw2p4a/wheels/20/d0/06/ed290995144ec8dde71d3a91d0d590145445c01be60ea70c9b\n",
            "  Building wheel for validators (setup.py) ... \u001b[?25l\u001b[?25hdone\n",
            "  Created wheel for validators: filename=validators-0.19.0-py3-none-any.whl size=19553 sha256=fe88c1efe30904f5d10832067b5a185d0a95130045765959934c776db13d4c0a\n",
            "  Stored in directory: /root/.cache/pip/wheels/fe/5d/69/ff53a908b9f14fb7730a58fdede0fac4cdc99ef3624ec76d05\n",
            "Successfully built keras-ocr validators\n",
            "Installing collected packages: keras-applications, validators, pyclipper, fonttools, essential-generators, efficientnet, keras-ocr\n",
            "Successfully installed efficientnet-1.0.0 essential-generators-1.0 fonttools-4.33.3 keras-applications-1.0.8 keras-ocr-0.9.0.post2+40bb9bd pyclipper-1.3.0.post2 validators-0.19.0\n",
            "Looking in indexes: https://pypi.org/simple, https://us-python.pkg.dev/colab-wheels/public/simple/\n",
            "Requirement already satisfied: imgaug in /usr/local/lib/python3.7/dist-packages (0.2.9)\n",
            "Requirement already satisfied: numpy>=1.15.0 in /usr/local/lib/python3.7/dist-packages (from imgaug) (1.21.6)\n",
            "Requirement already satisfied: scikit-image>=0.11.0 in /usr/local/lib/python3.7/dist-packages (from imgaug) (0.18.3)\n",
            "Requirement already satisfied: imageio in /usr/local/lib/python3.7/dist-packages (from imgaug) (2.4.1)\n",
            "Requirement already satisfied: scipy in /usr/local/lib/python3.7/dist-packages (from imgaug) (1.4.1)\n",
            "Requirement already satisfied: opencv-python in /usr/local/lib/python3.7/dist-packages (from imgaug) (4.1.2.30)\n",
            "Requirement already satisfied: six in /usr/local/lib/python3.7/dist-packages (from imgaug) (1.15.0)\n",
            "Requirement already satisfied: Shapely in /usr/local/lib/python3.7/dist-packages (from imgaug) (1.8.2)\n",
            "Requirement already satisfied: Pillow in /usr/local/lib/python3.7/dist-packages (from imgaug) (7.1.2)\n",
            "Requirement already satisfied: matplotlib in /usr/local/lib/python3.7/dist-packages (from imgaug) (3.2.2)\n",
            "Requirement already satisfied: networkx>=2.0 in /usr/local/lib/python3.7/dist-packages (from scikit-image>=0.11.0->imgaug) (2.6.3)\n",
            "Requirement already satisfied: tifffile>=2019.7.26 in /usr/local/lib/python3.7/dist-packages (from scikit-image>=0.11.0->imgaug) (2021.11.2)\n",
            "Requirement already satisfied: PyWavelets>=1.1.1 in /usr/local/lib/python3.7/dist-packages (from scikit-image>=0.11.0->imgaug) (1.3.0)\n",
            "Requirement already satisfied: kiwisolver>=1.0.1 in /usr/local/lib/python3.7/dist-packages (from matplotlib->imgaug) (1.4.2)\n",
            "Requirement already satisfied: python-dateutil>=2.1 in /usr/local/lib/python3.7/dist-packages (from matplotlib->imgaug) (2.8.2)\n",
            "Requirement already satisfied: cycler>=0.10 in /usr/local/lib/python3.7/dist-packages (from matplotlib->imgaug) (0.11.0)\n",
            "Requirement already satisfied: pyparsing!=2.0.4,!=2.1.2,!=2.1.6,>=2.0.1 in /usr/local/lib/python3.7/dist-packages (from matplotlib->imgaug) (3.0.9)\n",
            "Requirement already satisfied: typing-extensions in /usr/local/lib/python3.7/dist-packages (from kiwisolver>=1.0.1->matplotlib->imgaug) (4.2.0)\n",
            "Looking in indexes: https://pypi.org/simple, https://us-python.pkg.dev/colab-wheels/public/simple/\n",
            "Requirement already satisfied: opencv-python in /usr/local/lib/python3.7/dist-packages (4.1.2.30)\n",
            "Collecting opencv-python\n",
            "  Downloading opencv_python-4.5.5.64-cp36-abi3-manylinux_2_17_x86_64.manylinux2014_x86_64.whl (60.5 MB)\n",
            "\u001b[K     |████████████████████████████████| 60.5 MB 1.3 MB/s \n",
            "\u001b[?25hRequirement already satisfied: numpy>=1.14.5 in /usr/local/lib/python3.7/dist-packages (from opencv-python) (1.21.6)\n",
            "Installing collected packages: opencv-python\n",
            "  Attempting uninstall: opencv-python\n",
            "    Found existing installation: opencv-python 4.1.2.30\n",
            "    Uninstalling opencv-python-4.1.2.30:\n",
            "      Successfully uninstalled opencv-python-4.1.2.30\n",
            "\u001b[31mERROR: pip's dependency resolver does not currently take into account all the packages that are installed. This behaviour is the source of the following dependency conflicts.\n",
            "albumentations 0.1.12 requires imgaug<0.2.7,>=0.2.5, but you have imgaug 0.2.9 which is incompatible.\u001b[0m\n",
            "Successfully installed opencv-python-4.5.5.64\n",
            "/usr/local/lib/python3.7/dist-packages/gdown/cli.py:131: FutureWarning: Option `--id` was deprecated in version 4.3.1 and will be removed in 5.0. You don't need to pass it anymore to use a file ID.\n",
            "  category=FutureWarning,\n",
            "Downloading...\n",
            "From: https://drive.google.com/uc?id=12WOvX4IDbmJUTDOdWbV3wWAc4lr5GGmO\n",
            "To: /content/Challenge2_Training_Task3_Images_GT.zip\n",
            "100% 83.9M/83.9M [00:00<00:00, 356MB/s]\n"
          ]
        }
      ],
      "source": [
        "!pip install -U git+https://github.com/faustomorales/keras-ocr.git\n",
        "!pip install imgaug\n",
        "!pip install -U opencv-python\n",
        "%tensorflow_version 2.x\n",
        "\n",
        "!gdown --id 12WOvX4IDbmJUTDOdWbV3wWAc4lr5GGmO"
      ]
    },
    {
      "cell_type": "code",
      "source": [
        "import random\n",
        "import string\n",
        "import math\n",
        "import itertools\n",
        "import os\n",
        "import zipfile\n",
        "import typing\n",
        "\n",
        "import numpy as np\n",
        "\n",
        "import imgaug\n",
        "import matplotlib.pyplot as plt\n",
        "import tensorflow as tf\n",
        "import sklearn.model_selection\n",
        "\n",
        "import keras_ocr\n",
        "\n",
        "dir = \".\""
      ],
      "metadata": {
        "id": "qNRucnyf_UGq"
      },
      "execution_count": 2,
      "outputs": []
    },
    {
      "cell_type": "code",
      "source": [
        "def extract_train_dataset(main_dir=\".\"):\n",
        "  if not os.path.isdir(main_dir):\n",
        "    os.mkdir(main_dir)\n",
        "  train_image_dir = os.path.join(main_dir, \"train_images\")\n",
        "  if not os.path.isdir(train_image_dir):\n",
        "    os.mkdir(train_image_dir)\n",
        "  training_zip_images_path = os.path.join(\".\", \"Challenge2_Training_Task3_Images_GT.zip\")\n",
        "  if len(os.listdir(train_image_dir)) != 849:\n",
        "    with zipfile.ZipFile(training_zip_images_path, 'r') as zip_ref:\n",
        "      zip_ref.extractall(train_image_dir)"
      ],
      "metadata": {
        "id": "4C4XvrTP_Qy3"
      },
      "execution_count": 3,
      "outputs": []
    },
    {
      "cell_type": "code",
      "source": [
        "def preprocess_train_dataset(dir=\".\"):\n",
        "  main_dir = os.path.join(dir, \"icdar2013\")\n",
        "  extract_train_dataset(main_dir)\n",
        "  dataset = []\n",
        "\n",
        "  train_image_dir = os.path.join(main_dir, \"train_images\")\n",
        "  train_gt_path = os.path.join(train_image_dir, \"gt.txt\")\n",
        "\n",
        "  dataset = []\n",
        "\n",
        "  with open(train_gt_path, \"r\", encoding=\"utf8\") as f:\n",
        "    for line in f:\n",
        "      image_id, text = line.split(\".png,\")\n",
        "      text = text.strip(\"\\\"\\n \").lower()\n",
        "      image_path = os.path.join(train_image_dir, image_id + \".png\")\n",
        "      dataset.append((image_path, None, text))\n",
        "      \n",
        "  return dataset"
      ],
      "metadata": {
        "id": "GQnVhf2DSlKn"
      },
      "execution_count": 4,
      "outputs": []
    },
    {
      "cell_type": "code",
      "source": [
        "dataset = preprocess_train_dataset(dir)\n",
        "train_labels = [(filepath, box, word.lower()) for filepath, box, word in dataset]"
      ],
      "metadata": {
        "id": "eG7XxiiyaFI7"
      },
      "execution_count": 5,
      "outputs": []
    },
    {
      "cell_type": "code",
      "source": [
        "recognizer = keras_ocr.recognition.Recognizer()\n",
        "recognizer.compile()"
      ],
      "metadata": {
        "colab": {
          "base_uri": "https://localhost:8080/"
        },
        "id": "5WwUSuJVEG5V",
        "outputId": "9d69d7e7-d46f-4886-ff9e-6d77a2d5ea93"
      },
      "execution_count": 6,
      "outputs": [
        {
          "output_type": "stream",
          "name": "stdout",
          "text": [
            "Looking for /root/.keras-ocr/crnn_kurapan.h5\n",
            "Downloading /root/.keras-ocr/crnn_kurapan.h5\n"
          ]
        }
      ]
    },
    {
      "cell_type": "code",
      "source": [
        "batch_size = 8\n",
        "augmenter = imgaug.augmenters.Sequential([\n",
        "    imgaug.augmenters.GammaContrast(gamma=(0.25, 3.0)),\n",
        "])\n",
        "\n",
        "train_labels, validation_labels = sklearn.model_selection.train_test_split(train_labels, train_size=0.8, random_state=42)\n",
        "\n",
        "(training_image_gen, training_steps), (validation_image_gen, validation_steps) = [\n",
        "    (\n",
        "        keras_ocr.datasets.get_recognizer_image_generator(\n",
        "            labels=labels,\n",
        "            height=recognizer.model.input_shape[1],\n",
        "            width=recognizer.model.input_shape[2],\n",
        "            alphabet=recognizer.alphabet,\n",
        "            augmenter=augmenter\n",
        "        ),\n",
        "        len(labels) // batch_size\n",
        "    ) for labels, augmenter in [(train_labels, augmenter), (validation_labels, None)]     \n",
        "]\n",
        "training_gen, validation_gen = [\n",
        "    recognizer.get_batch_generator(\n",
        "        image_generator=image_generator,\n",
        "        batch_size=batch_size\n",
        "    )\n",
        "    for image_generator in [training_image_gen, validation_image_gen]\n",
        "]"
      ],
      "metadata": {
        "id": "zq5v6ZYvHdOa"
      },
      "execution_count": 10,
      "outputs": []
    },
    {
      "cell_type": "code",
      "source": [
        "callbacks = [\n",
        "    tf.keras.callbacks.EarlyStopping(monitor='val_loss', patience=10, restore_best_weights=False),\n",
        "    tf.keras.callbacks.ModelCheckpoint('recognizer_icdar2013.h5', monitor='val_loss', save_best_only=True),\n",
        "]\n",
        "recognizer.training_model.fit(\n",
        "    x=training_gen,\n",
        "    steps_per_epoch=training_steps,\n",
        "    validation_steps=validation_steps,\n",
        "    validation_data=validation_gen,\n",
        "    callbacks=callbacks,\n",
        "    epochs=50,\n",
        "    verbose=1\n",
        ")"
      ],
      "metadata": {
        "colab": {
          "base_uri": "https://localhost:8080/"
        },
        "id": "DO1Gi09DIFOj",
        "outputId": "99c8a991-3da1-4682-c595-fe75a2f4424e"
      },
      "execution_count": 11,
      "outputs": [
        {
          "output_type": "stream",
          "name": "stdout",
          "text": [
            "55 / 542 instances have illegal characters.\n",
            "Epoch 1/50\n",
            "67/67 [==============================] - ETA: 0s - loss: 3.30916 / 136 instances have illegal characters.\n",
            "67/67 [==============================] - 11s 141ms/step - loss: 3.3091 - val_loss: 6.8293\n",
            "Epoch 2/50\n",
            "67/67 [==============================] - 7s 101ms/step - loss: 1.4146 - val_loss: 2.7407\n",
            "Epoch 3/50\n",
            "67/67 [==============================] - 7s 101ms/step - loss: 1.1770 - val_loss: 2.6569\n",
            "Epoch 4/50\n",
            "67/67 [==============================] - 6s 97ms/step - loss: 1.2884 - val_loss: 3.3323\n",
            "Epoch 5/50\n",
            "67/67 [==============================] - 7s 104ms/step - loss: 0.9084 - val_loss: 1.9994\n",
            "Epoch 6/50\n",
            "67/67 [==============================] - 7s 99ms/step - loss: 0.6966 - val_loss: 2.5109\n",
            "Epoch 7/50\n",
            "67/67 [==============================] - 7s 98ms/step - loss: 0.7671 - val_loss: 4.2591\n",
            "Epoch 8/50\n",
            "67/67 [==============================] - 7s 99ms/step - loss: 0.6334 - val_loss: 3.0481\n",
            "Epoch 9/50\n",
            "67/67 [==============================] - 7s 101ms/step - loss: 0.6178 - val_loss: 3.3749\n",
            "Epoch 10/50\n",
            "67/67 [==============================] - 7s 103ms/step - loss: 0.4296 - val_loss: 1.9466\n",
            "Epoch 11/50\n",
            "67/67 [==============================] - 7s 104ms/step - loss: 0.4406 - val_loss: 3.3375\n",
            "Epoch 12/50\n",
            "67/67 [==============================] - 7s 100ms/step - loss: 0.6018 - val_loss: 2.2845\n",
            "Epoch 13/50\n",
            "67/67 [==============================] - 7s 99ms/step - loss: 0.5221 - val_loss: 4.9044\n",
            "Epoch 14/50\n",
            "67/67 [==============================] - 7s 102ms/step - loss: 0.3273 - val_loss: 1.8747\n",
            "Epoch 15/50\n",
            "67/67 [==============================] - 7s 101ms/step - loss: 0.3327 - val_loss: 2.8649\n",
            "Epoch 16/50\n",
            "67/67 [==============================] - 7s 99ms/step - loss: 0.3172 - val_loss: 3.4140\n",
            "Epoch 17/50\n",
            "67/67 [==============================] - 7s 99ms/step - loss: 0.3697 - val_loss: 2.6865\n",
            "Epoch 18/50\n",
            "67/67 [==============================] - 7s 99ms/step - loss: 0.3834 - val_loss: 2.7691\n",
            "Epoch 19/50\n",
            "67/67 [==============================] - 7s 99ms/step - loss: 0.3132 - val_loss: 2.6058\n",
            "Epoch 20/50\n",
            "67/67 [==============================] - 7s 98ms/step - loss: 0.3591 - val_loss: 2.2190\n",
            "Epoch 21/50\n",
            "67/67 [==============================] - 7s 100ms/step - loss: 0.3553 - val_loss: 2.2785\n",
            "Epoch 22/50\n",
            "67/67 [==============================] - 7s 99ms/step - loss: 0.2522 - val_loss: 2.4498\n",
            "Epoch 23/50\n",
            "67/67 [==============================] - 7s 100ms/step - loss: 0.1923 - val_loss: 2.8532\n",
            "Epoch 24/50\n",
            "67/67 [==============================] - 7s 100ms/step - loss: 0.4441 - val_loss: 2.9060\n"
          ]
        },
        {
          "output_type": "execute_result",
          "data": {
            "text/plain": [
              "<keras.callbacks.History at 0x7fe8e3e8d090>"
            ]
          },
          "metadata": {},
          "execution_count": 11
        }
      ]
    },
    {
      "cell_type": "code",
      "source": [
        "from google.colab import files\n",
        "files.download('/content/recognizer_icdar2013.h5') "
      ],
      "metadata": {
        "id": "4OM4w-5IIvPF",
        "colab": {
          "base_uri": "https://localhost:8080/",
          "height": 17
        },
        "outputId": "f8102b78-0ee6-46b3-9f97-99b7fd30b6fd"
      },
      "execution_count": 12,
      "outputs": [
        {
          "output_type": "display_data",
          "data": {
            "text/plain": [
              "<IPython.core.display.Javascript object>"
            ],
            "application/javascript": [
              "\n",
              "    async function download(id, filename, size) {\n",
              "      if (!google.colab.kernel.accessAllowed) {\n",
              "        return;\n",
              "      }\n",
              "      const div = document.createElement('div');\n",
              "      const label = document.createElement('label');\n",
              "      label.textContent = `Downloading \"${filename}\": `;\n",
              "      div.appendChild(label);\n",
              "      const progress = document.createElement('progress');\n",
              "      progress.max = size;\n",
              "      div.appendChild(progress);\n",
              "      document.body.appendChild(div);\n",
              "\n",
              "      const buffers = [];\n",
              "      let downloaded = 0;\n",
              "\n",
              "      const channel = await google.colab.kernel.comms.open(id);\n",
              "      // Send a message to notify the kernel that we're ready.\n",
              "      channel.send({})\n",
              "\n",
              "      for await (const message of channel.messages) {\n",
              "        // Send a message to notify the kernel that we're ready.\n",
              "        channel.send({})\n",
              "        if (message.buffers) {\n",
              "          for (const buffer of message.buffers) {\n",
              "            buffers.push(buffer);\n",
              "            downloaded += buffer.byteLength;\n",
              "            progress.value = downloaded;\n",
              "          }\n",
              "        }\n",
              "      }\n",
              "      const blob = new Blob(buffers, {type: 'application/binary'});\n",
              "      const a = document.createElement('a');\n",
              "      a.href = window.URL.createObjectURL(blob);\n",
              "      a.download = filename;\n",
              "      div.appendChild(a);\n",
              "      a.click();\n",
              "      div.remove();\n",
              "    }\n",
              "  "
            ]
          },
          "metadata": {}
        },
        {
          "output_type": "display_data",
          "data": {
            "text/plain": [
              "<IPython.core.display.Javascript object>"
            ],
            "application/javascript": [
              "download(\"download_fae98564-e66f-4ef3-b82b-c0a97578e9ac\", \"recognizer_icdar2013.h5\", 70553232)"
            ]
          },
          "metadata": {}
        }
      ]
    },
    {
      "cell_type": "code",
      "source": [
        ""
      ],
      "metadata": {
        "id": "L8337P68b0mq"
      },
      "execution_count": null,
      "outputs": []
    }
  ]
}