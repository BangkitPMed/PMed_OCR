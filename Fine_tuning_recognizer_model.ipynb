{
  "nbformat": 4,
  "nbformat_minor": 0,
  "metadata": {
    "colab": {
      "name": "Fine_tuning_recognizer_model.ipynb",
      "provenance": [],
      "collapsed_sections": []
    },
    "kernelspec": {
      "name": "python3",
      "display_name": "Python 3"
    },
    "language_info": {
      "name": "python"
    },
    "accelerator": "GPU"
  },
  "cells": [
    {
      "cell_type": "code",
      "execution_count": 1,
      "metadata": {
        "colab": {
          "base_uri": "https://localhost:8080/"
        },
        "id": "TLbAMutZsy9_",
        "outputId": "a7197be6-093d-425b-a511-bd0854e56e4a"
      },
      "outputs": [
        {
          "output_type": "stream",
          "name": "stdout",
          "text": [
            "Looking in indexes: https://pypi.org/simple, https://us-python.pkg.dev/colab-wheels/public/simple/\n",
            "Collecting git+https://github.com/faustomorales/keras-ocr.git\n",
            "  Cloning https://github.com/faustomorales/keras-ocr.git to /tmp/pip-req-build-5zg0jk8x\n",
            "  Running command git clone -q https://github.com/faustomorales/keras-ocr.git /tmp/pip-req-build-5zg0jk8x\n",
            "  Installing build dependencies ... \u001b[?25l\u001b[?25hdone\n",
            "  Getting requirements to build wheel ... \u001b[?25l\u001b[?25hdone\n",
            "    Preparing wheel metadata ... \u001b[?25l\u001b[?25hdone\n",
            "Collecting efficientnet==1.0.0\n",
            "  Downloading efficientnet-1.0.0-py3-none-any.whl (17 kB)\n",
            "Collecting fonttools\n",
            "  Downloading fonttools-4.33.3-py3-none-any.whl (930 kB)\n",
            "\u001b[K     |████████████████████████████████| 930 kB 4.2 MB/s \n",
            "\u001b[?25hCollecting pyclipper\n",
            "  Downloading pyclipper-1.3.0.post2-cp37-cp37m-manylinux_2_5_x86_64.manylinux1_x86_64.whl (603 kB)\n",
            "\u001b[K     |████████████████████████████████| 603 kB 48.7 MB/s \n",
            "\u001b[?25hRequirement already satisfied: shapely in /usr/local/lib/python3.7/dist-packages (from keras-ocr==0.9.0.post2+40bb9bd) (1.8.2)\n",
            "Collecting validators\n",
            "  Downloading validators-0.19.0.tar.gz (30 kB)\n",
            "Collecting essential_generators\n",
            "  Downloading essential_generators-1.0-py3-none-any.whl (9.5 MB)\n",
            "\u001b[K     |████████████████████████████████| 9.5 MB 46.5 MB/s \n",
            "\u001b[?25hRequirement already satisfied: editdistance in /usr/local/lib/python3.7/dist-packages (from keras-ocr==0.9.0.post2+40bb9bd) (0.5.3)\n",
            "Requirement already satisfied: tqdm in /usr/local/lib/python3.7/dist-packages (from keras-ocr==0.9.0.post2+40bb9bd) (4.64.0)\n",
            "Requirement already satisfied: imgaug in /usr/local/lib/python3.7/dist-packages (from keras-ocr==0.9.0.post2+40bb9bd) (0.2.9)\n",
            "Requirement already satisfied: scikit-image in /usr/local/lib/python3.7/dist-packages (from efficientnet==1.0.0->keras-ocr==0.9.0.post2+40bb9bd) (0.18.3)\n",
            "Collecting keras-applications<=1.0.8,>=1.0.7\n",
            "  Downloading Keras_Applications-1.0.8-py3-none-any.whl (50 kB)\n",
            "\u001b[K     |████████████████████████████████| 50 kB 7.7 MB/s \n",
            "\u001b[?25hRequirement already satisfied: h5py in /usr/local/lib/python3.7/dist-packages (from keras-applications<=1.0.8,>=1.0.7->efficientnet==1.0.0->keras-ocr==0.9.0.post2+40bb9bd) (3.1.0)\n",
            "Requirement already satisfied: numpy>=1.9.1 in /usr/local/lib/python3.7/dist-packages (from keras-applications<=1.0.8,>=1.0.7->efficientnet==1.0.0->keras-ocr==0.9.0.post2+40bb9bd) (1.21.6)\n",
            "Requirement already satisfied: cached-property in /usr/local/lib/python3.7/dist-packages (from h5py->keras-applications<=1.0.8,>=1.0.7->efficientnet==1.0.0->keras-ocr==0.9.0.post2+40bb9bd) (1.5.2)\n",
            "Requirement already satisfied: Pillow in /usr/local/lib/python3.7/dist-packages (from imgaug->keras-ocr==0.9.0.post2+40bb9bd) (7.1.2)\n",
            "Requirement already satisfied: six in /usr/local/lib/python3.7/dist-packages (from imgaug->keras-ocr==0.9.0.post2+40bb9bd) (1.15.0)\n",
            "Requirement already satisfied: matplotlib in /usr/local/lib/python3.7/dist-packages (from imgaug->keras-ocr==0.9.0.post2+40bb9bd) (3.2.2)\n",
            "Requirement already satisfied: opencv-python in /usr/local/lib/python3.7/dist-packages (from imgaug->keras-ocr==0.9.0.post2+40bb9bd) (4.1.2.30)\n",
            "Requirement already satisfied: scipy in /usr/local/lib/python3.7/dist-packages (from imgaug->keras-ocr==0.9.0.post2+40bb9bd) (1.4.1)\n",
            "Requirement already satisfied: imageio in /usr/local/lib/python3.7/dist-packages (from imgaug->keras-ocr==0.9.0.post2+40bb9bd) (2.4.1)\n",
            "Requirement already satisfied: networkx>=2.0 in /usr/local/lib/python3.7/dist-packages (from scikit-image->efficientnet==1.0.0->keras-ocr==0.9.0.post2+40bb9bd) (2.6.3)\n",
            "Requirement already satisfied: tifffile>=2019.7.26 in /usr/local/lib/python3.7/dist-packages (from scikit-image->efficientnet==1.0.0->keras-ocr==0.9.0.post2+40bb9bd) (2021.11.2)\n",
            "Requirement already satisfied: PyWavelets>=1.1.1 in /usr/local/lib/python3.7/dist-packages (from scikit-image->efficientnet==1.0.0->keras-ocr==0.9.0.post2+40bb9bd) (1.3.0)\n",
            "Requirement already satisfied: kiwisolver>=1.0.1 in /usr/local/lib/python3.7/dist-packages (from matplotlib->imgaug->keras-ocr==0.9.0.post2+40bb9bd) (1.4.2)\n",
            "Requirement already satisfied: python-dateutil>=2.1 in /usr/local/lib/python3.7/dist-packages (from matplotlib->imgaug->keras-ocr==0.9.0.post2+40bb9bd) (2.8.2)\n",
            "Requirement already satisfied: cycler>=0.10 in /usr/local/lib/python3.7/dist-packages (from matplotlib->imgaug->keras-ocr==0.9.0.post2+40bb9bd) (0.11.0)\n",
            "Requirement already satisfied: pyparsing!=2.0.4,!=2.1.2,!=2.1.6,>=2.0.1 in /usr/local/lib/python3.7/dist-packages (from matplotlib->imgaug->keras-ocr==0.9.0.post2+40bb9bd) (3.0.9)\n",
            "Requirement already satisfied: typing-extensions in /usr/local/lib/python3.7/dist-packages (from kiwisolver>=1.0.1->matplotlib->imgaug->keras-ocr==0.9.0.post2+40bb9bd) (4.2.0)\n",
            "Requirement already satisfied: decorator>=3.4.0 in /usr/local/lib/python3.7/dist-packages (from validators->keras-ocr==0.9.0.post2+40bb9bd) (4.4.2)\n",
            "Building wheels for collected packages: keras-ocr, validators\n",
            "  Building wheel for keras-ocr (PEP 517) ... \u001b[?25l\u001b[?25hdone\n",
            "  Created wheel for keras-ocr: filename=keras_ocr-0.9.0.post2+40bb9bd-py3-none-any.whl size=42441 sha256=395ed38f34cb967c37e2cf7ce5f322a5231d7070ae68addf74cc2ca4a5851340\n",
            "  Stored in directory: /tmp/pip-ephem-wheel-cache-lu8z5_to/wheels/20/d0/06/ed290995144ec8dde71d3a91d0d590145445c01be60ea70c9b\n",
            "  Building wheel for validators (setup.py) ... \u001b[?25l\u001b[?25hdone\n",
            "  Created wheel for validators: filename=validators-0.19.0-py3-none-any.whl size=19553 sha256=028f0563180e308e92be35d17a6082115d19bc448723d9c5b9bf8b5ff8d278d3\n",
            "  Stored in directory: /root/.cache/pip/wheels/fe/5d/69/ff53a908b9f14fb7730a58fdede0fac4cdc99ef3624ec76d05\n",
            "Successfully built keras-ocr validators\n",
            "Installing collected packages: keras-applications, validators, pyclipper, fonttools, essential-generators, efficientnet, keras-ocr\n",
            "Successfully installed efficientnet-1.0.0 essential-generators-1.0 fonttools-4.33.3 keras-applications-1.0.8 keras-ocr-0.9.0.post2+40bb9bd pyclipper-1.3.0.post2 validators-0.19.0\n",
            "Looking in indexes: https://pypi.org/simple, https://us-python.pkg.dev/colab-wheels/public/simple/\n",
            "Requirement already satisfied: imgaug in /usr/local/lib/python3.7/dist-packages (0.2.9)\n",
            "Requirement already satisfied: Pillow in /usr/local/lib/python3.7/dist-packages (from imgaug) (7.1.2)\n",
            "Requirement already satisfied: numpy>=1.15.0 in /usr/local/lib/python3.7/dist-packages (from imgaug) (1.21.6)\n",
            "Requirement already satisfied: scipy in /usr/local/lib/python3.7/dist-packages (from imgaug) (1.4.1)\n",
            "Requirement already satisfied: matplotlib in /usr/local/lib/python3.7/dist-packages (from imgaug) (3.2.2)\n",
            "Requirement already satisfied: scikit-image>=0.11.0 in /usr/local/lib/python3.7/dist-packages (from imgaug) (0.18.3)\n",
            "Requirement already satisfied: opencv-python in /usr/local/lib/python3.7/dist-packages (from imgaug) (4.1.2.30)\n",
            "Requirement already satisfied: six in /usr/local/lib/python3.7/dist-packages (from imgaug) (1.15.0)\n",
            "Requirement already satisfied: imageio in /usr/local/lib/python3.7/dist-packages (from imgaug) (2.4.1)\n",
            "Requirement already satisfied: Shapely in /usr/local/lib/python3.7/dist-packages (from imgaug) (1.8.2)\n",
            "Requirement already satisfied: PyWavelets>=1.1.1 in /usr/local/lib/python3.7/dist-packages (from scikit-image>=0.11.0->imgaug) (1.3.0)\n",
            "Requirement already satisfied: networkx>=2.0 in /usr/local/lib/python3.7/dist-packages (from scikit-image>=0.11.0->imgaug) (2.6.3)\n",
            "Requirement already satisfied: tifffile>=2019.7.26 in /usr/local/lib/python3.7/dist-packages (from scikit-image>=0.11.0->imgaug) (2021.11.2)\n",
            "Requirement already satisfied: python-dateutil>=2.1 in /usr/local/lib/python3.7/dist-packages (from matplotlib->imgaug) (2.8.2)\n",
            "Requirement already satisfied: pyparsing!=2.0.4,!=2.1.2,!=2.1.6,>=2.0.1 in /usr/local/lib/python3.7/dist-packages (from matplotlib->imgaug) (3.0.9)\n",
            "Requirement already satisfied: kiwisolver>=1.0.1 in /usr/local/lib/python3.7/dist-packages (from matplotlib->imgaug) (1.4.2)\n",
            "Requirement already satisfied: cycler>=0.10 in /usr/local/lib/python3.7/dist-packages (from matplotlib->imgaug) (0.11.0)\n",
            "Requirement already satisfied: typing-extensions in /usr/local/lib/python3.7/dist-packages (from kiwisolver>=1.0.1->matplotlib->imgaug) (4.2.0)\n",
            "Looking in indexes: https://pypi.org/simple, https://us-python.pkg.dev/colab-wheels/public/simple/\n",
            "Requirement already satisfied: opencv-python in /usr/local/lib/python3.7/dist-packages (4.1.2.30)\n",
            "Collecting opencv-python\n",
            "  Downloading opencv_python-4.5.5.64-cp36-abi3-manylinux_2_17_x86_64.manylinux2014_x86_64.whl (60.5 MB)\n",
            "\u001b[K     |████████████████████████████████| 60.5 MB 1.1 MB/s \n",
            "\u001b[?25hRequirement already satisfied: numpy>=1.14.5 in /usr/local/lib/python3.7/dist-packages (from opencv-python) (1.21.6)\n",
            "Installing collected packages: opencv-python\n",
            "  Attempting uninstall: opencv-python\n",
            "    Found existing installation: opencv-python 4.1.2.30\n",
            "    Uninstalling opencv-python-4.1.2.30:\n",
            "      Successfully uninstalled opencv-python-4.1.2.30\n",
            "\u001b[31mERROR: pip's dependency resolver does not currently take into account all the packages that are installed. This behaviour is the source of the following dependency conflicts.\n",
            "albumentations 0.1.12 requires imgaug<0.2.7,>=0.2.5, but you have imgaug 0.2.9 which is incompatible.\u001b[0m\n",
            "Successfully installed opencv-python-4.5.5.64\n"
          ]
        }
      ],
      "source": [
        "!pip install -U git+https://github.com/faustomorales/keras-ocr.git\n",
        "!pip install imgaug\n",
        "!pip install -U opencv-python\n",
        "%tensorflow_version 2.x"
      ]
    },
    {
      "cell_type": "code",
      "source": [
        "import random\n",
        "import string\n",
        "import math\n",
        "import itertools\n",
        "import os\n",
        "\n",
        "import numpy as np\n",
        "\n",
        "import imgaug\n",
        "import matplotlib.pyplot as plt\n",
        "import tensorflow as tf\n",
        "import sklearn.model_selection\n",
        "\n",
        "import keras_ocr\n",
        "\n",
        "train_labels = keras_ocr.datasets.get_icdar_2013_recognizer_dataset(\n",
        "    cache_dir='.'\n",
        ")"
      ],
      "metadata": {
        "colab": {
          "base_uri": "https://localhost:8080/"
        },
        "id": "qNRucnyf_UGq",
        "outputId": "9b8b3216-fd9b-4cef-f3f9-dc6732dbc90c"
      },
      "execution_count": 2,
      "outputs": [
        {
          "output_type": "stream",
          "name": "stdout",
          "text": [
            "Looking for ./icdar2013/Challenge2_Training_Task12_Images.zip\n",
            "Downloading ./icdar2013/Challenge2_Training_Task12_Images.zip\n",
            "Looking for ./icdar2013/Challenge2_Training_Task2_GT.zip\n",
            "Downloading ./icdar2013/Challenge2_Training_Task2_GT.zip\n"
          ]
        }
      ]
    },
    {
      "cell_type": "code",
      "source": [
        "train_labels = [(filepath, box, word.lower()) for filepath, box, word in train_labels]"
      ],
      "metadata": {
        "id": "4C4XvrTP_Qy3"
      },
      "execution_count": 3,
      "outputs": []
    },
    {
      "cell_type": "markdown",
      "source": [
        ""
      ],
      "metadata": {
        "id": "8y1MnmkSuB_o"
      }
    },
    {
      "cell_type": "code",
      "source": [
        "recognizer = keras_ocr.recognition.Recognizer()\n",
        "recognizer.compile()"
      ],
      "metadata": {
        "colab": {
          "base_uri": "https://localhost:8080/"
        },
        "id": "5WwUSuJVEG5V",
        "outputId": "d9b81307-c938-4425-bb0a-0102b6c6138c"
      },
      "execution_count": 4,
      "outputs": [
        {
          "output_type": "stream",
          "name": "stdout",
          "text": [
            "Looking for /root/.keras-ocr/crnn_kurapan.h5\n",
            "Downloading /root/.keras-ocr/crnn_kurapan.h5\n"
          ]
        }
      ]
    },
    {
      "cell_type": "code",
      "source": [
        "batch_size = 8\n",
        "augmenter = imgaug.augmenters.Sequential([\n",
        "    imgaug.augmenters.GammaContrast(gamma=(0.25, 3.0)),\n",
        "])\n",
        "\n",
        "train_labels, validation_labels = sklearn.model_selection.train_test_split(train_labels, train_size=0.8, random_state=42)\n",
        "\n",
        "(training_image_gen, training_steps), (validation_image_gen, validation_steps) = [\n",
        "    (\n",
        "        keras_ocr.datasets.get_recognizer_image_generator(\n",
        "            labels=labels,\n",
        "            height=recognizer.model.input_shape[1],\n",
        "            width=recognizer.model.input_shape[2],\n",
        "            alphabet=recognizer.alphabet,\n",
        "            augmenter=augmenter\n",
        "        ),\n",
        "        len(labels) // batch_size\n",
        "    ) for labels, augmenter in [(train_labels, augmenter), (validation_labels, None)]     \n",
        "]\n",
        "training_gen, validation_gen = [\n",
        "    recognizer.get_batch_generator(\n",
        "        image_generator=image_generator,\n",
        "        batch_size=batch_size\n",
        "    )\n",
        "    for image_generator in [training_image_gen, validation_image_gen]\n",
        "]"
      ],
      "metadata": {
        "id": "zq5v6ZYvHdOa"
      },
      "execution_count": 5,
      "outputs": []
    },
    {
      "cell_type": "code",
      "source": [
        "callbacks = [\n",
        "    tf.keras.callbacks.EarlyStopping(monitor='val_loss', patience=10, restore_best_weights=False),\n",
        "    tf.keras.callbacks.ModelCheckpoint('recognizer_icdar2013.h5', monitor='val_loss', save_best_only=True),\n",
        "]\n",
        "recognizer.training_model.fit(\n",
        "    x=training_gen,\n",
        "    steps_per_epoch=training_steps,\n",
        "    validation_steps=validation_steps,\n",
        "    validation_data=validation_gen,\n",
        "    callbacks=callbacks,\n",
        "    epochs=50,\n",
        "    verbose=1\n",
        ")"
      ],
      "metadata": {
        "colab": {
          "base_uri": "https://localhost:8080/"
        },
        "id": "DO1Gi09DIFOj",
        "outputId": "acfbf47a-110c-4e52-d8af-e03a5a02cb9e"
      },
      "execution_count": 6,
      "outputs": [
        {
          "output_type": "stream",
          "name": "stdout",
          "text": [
            "68 / 679 instances have illegal characters.\n",
            "Epoch 1/50\n",
            "84/84 [==============================] - ETA: 0s - loss: 4.110217 / 170 instances have illegal characters.\n",
            "84/84 [==============================] - 71s 572ms/step - loss: 4.1102 - val_loss: 5.1102\n",
            "Epoch 2/50\n",
            "84/84 [==============================] - 45s 535ms/step - loss: 2.1943 - val_loss: 5.1035\n",
            "Epoch 3/50\n",
            "84/84 [==============================] - 46s 550ms/step - loss: 1.8755 - val_loss: 3.6451\n",
            "Epoch 4/50\n",
            "84/84 [==============================] - 46s 552ms/step - loss: 1.3503 - val_loss: 4.2010\n",
            "Epoch 5/50\n",
            "84/84 [==============================] - 45s 538ms/step - loss: 1.3533 - val_loss: 2.0285\n",
            "Epoch 6/50\n",
            "84/84 [==============================] - 46s 548ms/step - loss: 1.1759 - val_loss: 3.0119\n",
            "Epoch 7/50\n",
            "84/84 [==============================] - 42s 508ms/step - loss: 1.0980 - val_loss: 4.1106\n",
            "Epoch 8/50\n",
            "84/84 [==============================] - 46s 554ms/step - loss: 0.7638 - val_loss: 3.0062\n",
            "Epoch 9/50\n",
            "84/84 [==============================] - 46s 547ms/step - loss: 0.6104 - val_loss: 2.6696\n",
            "Epoch 10/50\n",
            "84/84 [==============================] - 44s 523ms/step - loss: 0.7566 - val_loss: 3.1073\n",
            "Epoch 11/50\n",
            "84/84 [==============================] - 44s 534ms/step - loss: 0.6907 - val_loss: 3.4537\n",
            "Epoch 12/50\n",
            "84/84 [==============================] - 45s 539ms/step - loss: 0.6472 - val_loss: 2.2909\n",
            "Epoch 13/50\n",
            "84/84 [==============================] - 45s 541ms/step - loss: 0.4628 - val_loss: 2.4166\n",
            "Epoch 14/50\n",
            "84/84 [==============================] - 46s 547ms/step - loss: 0.4415 - val_loss: 2.3534\n",
            "Epoch 15/50\n",
            "84/84 [==============================] - 44s 534ms/step - loss: 0.7108 - val_loss: 2.0986\n"
          ]
        },
        {
          "output_type": "execute_result",
          "data": {
            "text/plain": [
              "<keras.callbacks.History at 0x7f9f10042310>"
            ]
          },
          "metadata": {},
          "execution_count": 6
        }
      ]
    },
    {
      "cell_type": "code",
      "source": [
        "from google.colab import files\n",
        "files.download('/content/recognizer_icdar2013.h5') "
      ],
      "metadata": {
        "id": "4OM4w-5IIvPF"
      },
      "execution_count": null,
      "outputs": []
    },
    {
      "cell_type": "code",
      "source": [
        ""
      ],
      "metadata": {
        "id": "L8337P68b0mq"
      },
      "execution_count": null,
      "outputs": []
    }
  ]
}