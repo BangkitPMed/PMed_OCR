{
  "nbformat": 4,
  "nbformat_minor": 0,
  "metadata": {
    "colab": {
      "name": "Fine_tuning_detector_model .ipynb",
      "provenance": [],
      "collapsed_sections": []
    },
    "kernelspec": {
      "name": "python3",
      "display_name": "Python 3"
    },
    "language_info": {
      "name": "python"
    },
    "accelerator": "GPU"
  },
  "cells": [
    {
      "cell_type": "code",
      "execution_count": 1,
      "metadata": {
        "colab": {
          "base_uri": "https://localhost:8080/"
        },
        "id": "DQH9UwKuMX_4",
        "outputId": "c593e89c-f9fc-4645-a864-55ad81697087"
      },
      "outputs": [
        {
          "output_type": "stream",
          "name": "stdout",
          "text": [
            "Looking in indexes: https://pypi.org/simple, https://us-python.pkg.dev/colab-wheels/public/simple/\n",
            "Collecting git+https://github.com/faustomorales/keras-ocr.git\n",
            "  Cloning https://github.com/faustomorales/keras-ocr.git to /tmp/pip-req-build-75was4aw\n",
            "  Running command git clone -q https://github.com/faustomorales/keras-ocr.git /tmp/pip-req-build-75was4aw\n",
            "  Installing build dependencies ... \u001b[?25l\u001b[?25hdone\n",
            "  Getting requirements to build wheel ... \u001b[?25l\u001b[?25hdone\n",
            "    Preparing wheel metadata ... \u001b[?25l\u001b[?25hdone\n",
            "Collecting pyclipper\n",
            "  Downloading pyclipper-1.3.0.post2-cp37-cp37m-manylinux_2_5_x86_64.manylinux1_x86_64.whl (603 kB)\n",
            "\u001b[K     |████████████████████████████████| 603 kB 7.2 MB/s \n",
            "\u001b[?25hCollecting efficientnet==1.0.0\n",
            "  Downloading efficientnet-1.0.0-py3-none-any.whl (17 kB)\n",
            "Requirement already satisfied: tqdm in /usr/local/lib/python3.7/dist-packages (from keras-ocr==0.9.0.post2+40bb9bd) (4.64.0)\n",
            "Collecting essential_generators\n",
            "  Downloading essential_generators-1.0-py3-none-any.whl (9.5 MB)\n",
            "\u001b[K     |████████████████████████████████| 9.5 MB 55.7 MB/s \n",
            "\u001b[?25hCollecting fonttools\n",
            "  Downloading fonttools-4.33.3-py3-none-any.whl (930 kB)\n",
            "\u001b[K     |████████████████████████████████| 930 kB 62.2 MB/s \n",
            "\u001b[?25hRequirement already satisfied: editdistance in /usr/local/lib/python3.7/dist-packages (from keras-ocr==0.9.0.post2+40bb9bd) (0.5.3)\n",
            "Requirement already satisfied: imgaug in /usr/local/lib/python3.7/dist-packages (from keras-ocr==0.9.0.post2+40bb9bd) (0.2.9)\n",
            "Requirement already satisfied: shapely in /usr/local/lib/python3.7/dist-packages (from keras-ocr==0.9.0.post2+40bb9bd) (1.8.2)\n",
            "Collecting validators\n",
            "  Downloading validators-0.19.0.tar.gz (30 kB)\n",
            "Collecting keras-applications<=1.0.8,>=1.0.7\n",
            "  Downloading Keras_Applications-1.0.8-py3-none-any.whl (50 kB)\n",
            "\u001b[K     |████████████████████████████████| 50 kB 8.3 MB/s \n",
            "\u001b[?25hRequirement already satisfied: scikit-image in /usr/local/lib/python3.7/dist-packages (from efficientnet==1.0.0->keras-ocr==0.9.0.post2+40bb9bd) (0.18.3)\n",
            "Requirement already satisfied: h5py in /usr/local/lib/python3.7/dist-packages (from keras-applications<=1.0.8,>=1.0.7->efficientnet==1.0.0->keras-ocr==0.9.0.post2+40bb9bd) (3.1.0)\n",
            "Requirement already satisfied: numpy>=1.9.1 in /usr/local/lib/python3.7/dist-packages (from keras-applications<=1.0.8,>=1.0.7->efficientnet==1.0.0->keras-ocr==0.9.0.post2+40bb9bd) (1.21.6)\n",
            "Requirement already satisfied: cached-property in /usr/local/lib/python3.7/dist-packages (from h5py->keras-applications<=1.0.8,>=1.0.7->efficientnet==1.0.0->keras-ocr==0.9.0.post2+40bb9bd) (1.5.2)\n",
            "Requirement already satisfied: Pillow in /usr/local/lib/python3.7/dist-packages (from imgaug->keras-ocr==0.9.0.post2+40bb9bd) (7.1.2)\n",
            "Requirement already satisfied: matplotlib in /usr/local/lib/python3.7/dist-packages (from imgaug->keras-ocr==0.9.0.post2+40bb9bd) (3.2.2)\n",
            "Requirement already satisfied: six in /usr/local/lib/python3.7/dist-packages (from imgaug->keras-ocr==0.9.0.post2+40bb9bd) (1.15.0)\n",
            "Requirement already satisfied: scipy in /usr/local/lib/python3.7/dist-packages (from imgaug->keras-ocr==0.9.0.post2+40bb9bd) (1.4.1)\n",
            "Requirement already satisfied: imageio in /usr/local/lib/python3.7/dist-packages (from imgaug->keras-ocr==0.9.0.post2+40bb9bd) (2.4.1)\n",
            "Requirement already satisfied: opencv-python in /usr/local/lib/python3.7/dist-packages (from imgaug->keras-ocr==0.9.0.post2+40bb9bd) (4.1.2.30)\n",
            "Requirement already satisfied: tifffile>=2019.7.26 in /usr/local/lib/python3.7/dist-packages (from scikit-image->efficientnet==1.0.0->keras-ocr==0.9.0.post2+40bb9bd) (2021.11.2)\n",
            "Requirement already satisfied: networkx>=2.0 in /usr/local/lib/python3.7/dist-packages (from scikit-image->efficientnet==1.0.0->keras-ocr==0.9.0.post2+40bb9bd) (2.6.3)\n",
            "Requirement already satisfied: PyWavelets>=1.1.1 in /usr/local/lib/python3.7/dist-packages (from scikit-image->efficientnet==1.0.0->keras-ocr==0.9.0.post2+40bb9bd) (1.3.0)\n",
            "Requirement already satisfied: kiwisolver>=1.0.1 in /usr/local/lib/python3.7/dist-packages (from matplotlib->imgaug->keras-ocr==0.9.0.post2+40bb9bd) (1.4.2)\n",
            "Requirement already satisfied: python-dateutil>=2.1 in /usr/local/lib/python3.7/dist-packages (from matplotlib->imgaug->keras-ocr==0.9.0.post2+40bb9bd) (2.8.2)\n",
            "Requirement already satisfied: pyparsing!=2.0.4,!=2.1.2,!=2.1.6,>=2.0.1 in /usr/local/lib/python3.7/dist-packages (from matplotlib->imgaug->keras-ocr==0.9.0.post2+40bb9bd) (3.0.9)\n",
            "Requirement already satisfied: cycler>=0.10 in /usr/local/lib/python3.7/dist-packages (from matplotlib->imgaug->keras-ocr==0.9.0.post2+40bb9bd) (0.11.0)\n",
            "Requirement already satisfied: typing-extensions in /usr/local/lib/python3.7/dist-packages (from kiwisolver>=1.0.1->matplotlib->imgaug->keras-ocr==0.9.0.post2+40bb9bd) (4.2.0)\n",
            "Requirement already satisfied: decorator>=3.4.0 in /usr/local/lib/python3.7/dist-packages (from validators->keras-ocr==0.9.0.post2+40bb9bd) (4.4.2)\n",
            "Building wheels for collected packages: keras-ocr, validators\n",
            "  Building wheel for keras-ocr (PEP 517) ... \u001b[?25l\u001b[?25hdone\n",
            "  Created wheel for keras-ocr: filename=keras_ocr-0.9.0.post2+40bb9bd-py3-none-any.whl size=42441 sha256=395ed38f34cb967c37e2cf7ce5f322a5231d7070ae68addf74cc2ca4a5851340\n",
            "  Stored in directory: /tmp/pip-ephem-wheel-cache-yo0535cs/wheels/20/d0/06/ed290995144ec8dde71d3a91d0d590145445c01be60ea70c9b\n",
            "  Building wheel for validators (setup.py) ... \u001b[?25l\u001b[?25hdone\n",
            "  Created wheel for validators: filename=validators-0.19.0-py3-none-any.whl size=19553 sha256=351e52852479071b51d50d3f720c631978e8d27bb76d5a8eda6dec874d0562cc\n",
            "  Stored in directory: /root/.cache/pip/wheels/fe/5d/69/ff53a908b9f14fb7730a58fdede0fac4cdc99ef3624ec76d05\n",
            "Successfully built keras-ocr validators\n",
            "Installing collected packages: keras-applications, validators, pyclipper, fonttools, essential-generators, efficientnet, keras-ocr\n",
            "Successfully installed efficientnet-1.0.0 essential-generators-1.0 fonttools-4.33.3 keras-applications-1.0.8 keras-ocr-0.9.0.post2+40bb9bd pyclipper-1.3.0.post2 validators-0.19.0\n",
            "Looking in indexes: https://pypi.org/simple, https://us-python.pkg.dev/colab-wheels/public/simple/\n",
            "Requirement already satisfied: imgaug in /usr/local/lib/python3.7/dist-packages (0.2.9)\n",
            "Requirement already satisfied: opencv-python in /usr/local/lib/python3.7/dist-packages (from imgaug) (4.1.2.30)\n",
            "Requirement already satisfied: imageio in /usr/local/lib/python3.7/dist-packages (from imgaug) (2.4.1)\n",
            "Requirement already satisfied: scikit-image>=0.11.0 in /usr/local/lib/python3.7/dist-packages (from imgaug) (0.18.3)\n",
            "Requirement already satisfied: numpy>=1.15.0 in /usr/local/lib/python3.7/dist-packages (from imgaug) (1.21.6)\n",
            "Requirement already satisfied: matplotlib in /usr/local/lib/python3.7/dist-packages (from imgaug) (3.2.2)\n",
            "Requirement already satisfied: six in /usr/local/lib/python3.7/dist-packages (from imgaug) (1.15.0)\n",
            "Requirement already satisfied: Pillow in /usr/local/lib/python3.7/dist-packages (from imgaug) (7.1.2)\n",
            "Requirement already satisfied: Shapely in /usr/local/lib/python3.7/dist-packages (from imgaug) (1.8.2)\n",
            "Requirement already satisfied: scipy in /usr/local/lib/python3.7/dist-packages (from imgaug) (1.4.1)\n",
            "Requirement already satisfied: PyWavelets>=1.1.1 in /usr/local/lib/python3.7/dist-packages (from scikit-image>=0.11.0->imgaug) (1.3.0)\n",
            "Requirement already satisfied: tifffile>=2019.7.26 in /usr/local/lib/python3.7/dist-packages (from scikit-image>=0.11.0->imgaug) (2021.11.2)\n",
            "Requirement already satisfied: networkx>=2.0 in /usr/local/lib/python3.7/dist-packages (from scikit-image>=0.11.0->imgaug) (2.6.3)\n",
            "Requirement already satisfied: python-dateutil>=2.1 in /usr/local/lib/python3.7/dist-packages (from matplotlib->imgaug) (2.8.2)\n",
            "Requirement already satisfied: cycler>=0.10 in /usr/local/lib/python3.7/dist-packages (from matplotlib->imgaug) (0.11.0)\n",
            "Requirement already satisfied: kiwisolver>=1.0.1 in /usr/local/lib/python3.7/dist-packages (from matplotlib->imgaug) (1.4.2)\n",
            "Requirement already satisfied: pyparsing!=2.0.4,!=2.1.2,!=2.1.6,>=2.0.1 in /usr/local/lib/python3.7/dist-packages (from matplotlib->imgaug) (3.0.9)\n",
            "Requirement already satisfied: typing-extensions in /usr/local/lib/python3.7/dist-packages (from kiwisolver>=1.0.1->matplotlib->imgaug) (4.2.0)\n",
            "Looking in indexes: https://pypi.org/simple, https://us-python.pkg.dev/colab-wheels/public/simple/\n",
            "Requirement already satisfied: opencv-python in /usr/local/lib/python3.7/dist-packages (4.1.2.30)\n",
            "Collecting opencv-python\n",
            "  Downloading opencv_python-4.5.5.64-cp36-abi3-manylinux_2_17_x86_64.manylinux2014_x86_64.whl (60.5 MB)\n",
            "\u001b[K     |████████████████████████████████| 60.5 MB 1.2 MB/s \n",
            "\u001b[?25hRequirement already satisfied: numpy>=1.14.5 in /usr/local/lib/python3.7/dist-packages (from opencv-python) (1.21.6)\n",
            "Installing collected packages: opencv-python\n",
            "  Attempting uninstall: opencv-python\n",
            "    Found existing installation: opencv-python 4.1.2.30\n",
            "    Uninstalling opencv-python-4.1.2.30:\n",
            "      Successfully uninstalled opencv-python-4.1.2.30\n",
            "\u001b[31mERROR: pip's dependency resolver does not currently take into account all the packages that are installed. This behaviour is the source of the following dependency conflicts.\n",
            "albumentations 0.1.12 requires imgaug<0.2.7,>=0.2.5, but you have imgaug 0.2.9 which is incompatible.\u001b[0m\n",
            "Successfully installed opencv-python-4.5.5.64\n"
          ]
        }
      ],
      "source": [
        "!pip install -U git+https://github.com/faustomorales/keras-ocr.git\n",
        "!pip install imgaug\n",
        "!pip install -U opencv-python\n",
        "%tensorflow_version 2.x"
      ]
    },
    {
      "cell_type": "code",
      "source": [
        "data_dir = '.'\n",
        "\n",
        "import os\n",
        "import math\n",
        "import imgaug\n",
        "import numpy as np\n",
        "import matplotlib.pyplot as plt\n",
        "import sklearn.model_selection\n",
        "import tensorflow as tf\n",
        "\n",
        "import keras_ocr\n",
        "train_labels = keras_ocr.datasets.get_icdar_2013_detector_dataset(\n",
        "    cache_dir='.',\n",
        "    skip_illegible=False\n",
        ")"
      ],
      "metadata": {
        "colab": {
          "base_uri": "https://localhost:8080/"
        },
        "id": "3pEbSm9MMggg",
        "outputId": "a535e3fa-e665-43e8-801a-483ff42fa74f"
      },
      "execution_count": 2,
      "outputs": [
        {
          "output_type": "stream",
          "name": "stdout",
          "text": [
            "Looking for ./icdar2013/Challenge2_Training_Task12_Images.zip\n",
            "Downloading ./icdar2013/Challenge2_Training_Task12_Images.zip\n",
            "Looking for ./icdar2013/Challenge2_Training_Task2_GT.zip\n",
            "Downloading ./icdar2013/Challenge2_Training_Task2_GT.zip\n"
          ]
        }
      ]
    },
    {
      "cell_type": "code",
      "source": [
        "train_labels, validation_labels = sklearn.model_selection.train_test_split(train_labels, train_size=0.8, random_state=42)\n",
        "\n",
        "augmenter = imgaug.augmenters.Sequential([\n",
        "    imgaug.augmenters.Affine(\n",
        "      scale=(1.0, 1.2),\n",
        "      rotate=(-5, 5)\n",
        "    ),\n",
        "    imgaug.augmenters.GaussianBlur(sigma=(0, 0.5)),\n",
        "    imgaug.augmenters.Multiply((0.8, 1.2), per_channel=0.2)\n",
        "])\n",
        "\n",
        "generator_kwargs = {'width': 640, 'height': 640}\n",
        "training_image_generator = keras_ocr.datasets.get_detector_image_generator(\n",
        "    labels=train_labels,\n",
        "    augmenter=augmenter,\n",
        "    **generator_kwargs\n",
        ")\n",
        "validation_image_generator = keras_ocr.datasets.get_detector_image_generator(\n",
        "    labels=validation_labels,\n",
        "    **generator_kwargs\n",
        ")"
      ],
      "metadata": {
        "id": "BICl8XoXMrMt"
      },
      "execution_count": 3,
      "outputs": []
    },
    {
      "cell_type": "code",
      "source": [
        "detector = keras_ocr.detection.Detector()\n",
        "detector.model.compile(loss=\"mse\", optimizer=\"adam\", metrics=[\"acc\"])"
      ],
      "metadata": {
        "colab": {
          "base_uri": "https://localhost:8080/"
        },
        "id": "jnKiQYoQNSfN",
        "outputId": "fa957c1c-af4d-46d5-80b4-f7fcbd859d3e"
      },
      "execution_count": 4,
      "outputs": [
        {
          "output_type": "stream",
          "name": "stdout",
          "text": [
            "Looking for /root/.keras-ocr/craft_mlt_25k.h5\n",
            "Downloading /root/.keras-ocr/craft_mlt_25k.h5\n"
          ]
        }
      ]
    },
    {
      "cell_type": "code",
      "source": [
        "batch_size = 1\n",
        "training_generator, validation_generator = [\n",
        "    detector.get_batch_generator(\n",
        "        image_generator=image_generator, batch_size=batch_size\n",
        "    ) for image_generator in\n",
        "    [training_image_generator, validation_image_generator]\n",
        "]"
      ],
      "metadata": {
        "id": "D4XbIorCNWXS"
      },
      "execution_count": 5,
      "outputs": []
    },
    {
      "cell_type": "code",
      "source": [
        "detector.model.fit(\n",
        "    x=training_generator,\n",
        "    steps_per_epoch=math.ceil(len(train_labels) / batch_size),\n",
        "    epochs=1000,\n",
        "    callbacks=[\n",
        "        tf.keras.callbacks.EarlyStopping(restore_best_weights=True, patience=5),\n",
        "        tf.keras.callbacks.ModelCheckpoint(filepath=os.path.join(data_dir, 'detector_icdar2013.h5'))\n",
        "    ],\n",
        "    validation_data=validation_generator,\n",
        "    validation_steps=math.ceil(len(validation_labels) / batch_size),\n",
        "    verbose=1\n",
        ")"
      ],
      "metadata": {
        "colab": {
          "base_uri": "https://localhost:8080/"
        },
        "id": "PBc6koQXNy4R",
        "outputId": "de5505cf-f29f-4e13-d421-c31033755016"
      },
      "execution_count": 6,
      "outputs": [
        {
          "output_type": "stream",
          "name": "stdout",
          "text": [
            "Epoch 1/1000\n",
            "183/183 [==============================] - ETA: 0s - loss: 0.0145 - acc: 0.8874"
          ]
        },
        {
          "output_type": "stream",
          "name": "stderr",
          "text": [
            "/usr/local/lib/python3.7/dist-packages/keras_ocr/tools.py:580: RuntimeWarning: invalid value encountered in long_scalars\n",
            "  rotation = np.arctan((tl[0] - bl[0]) / (tl[1] - bl[1]))\n"
          ]
        },
        {
          "output_type": "stream",
          "name": "stdout",
          "text": [
            "\b\b\b\b\b\b\b\b\b\b\b\b\b\b\b\b\b\b\b\b\b\b\b\b\b\b\b\b\b\b\b\b\b\b\b\b\b\b\b\b\b\b\b\b\b\b\b\b\b\b\b\b\b\b\b\b\b\b\b\b\b\b\b\b\b\b\b\b\b\b\b\b\b\b\b\b\b\b\b\r183/183 [==============================] - 87s 364ms/step - loss: 0.0145 - acc: 0.8874 - val_loss: 0.0139 - val_acc: 0.3470\n",
            "Epoch 2/1000\n",
            "183/183 [==============================] - 64s 353ms/step - loss: 0.0131 - acc: 0.9018 - val_loss: 0.0101 - val_acc: 0.9880\n",
            "Epoch 3/1000\n",
            "183/183 [==============================] - 66s 362ms/step - loss: 0.0112 - acc: 0.9822 - val_loss: 0.0579 - val_acc: 0.9884\n",
            "Epoch 4/1000\n",
            "183/183 [==============================] - 65s 354ms/step - loss: 0.0102 - acc: 0.9807 - val_loss: 0.0092 - val_acc: 0.9834\n",
            "Epoch 5/1000\n",
            "183/183 [==============================] - 65s 357ms/step - loss: 0.0099 - acc: 0.9812 - val_loss: 0.0222 - val_acc: 0.9832\n",
            "Epoch 6/1000\n",
            "183/183 [==============================] - 66s 361ms/step - loss: 0.0080 - acc: 0.8964 - val_loss: 0.0107 - val_acc: 0.9876\n",
            "Epoch 7/1000\n",
            "183/183 [==============================] - 65s 358ms/step - loss: 0.0066 - acc: 0.8165 - val_loss: 0.0069 - val_acc: 0.9923\n",
            "Epoch 8/1000\n",
            "183/183 [==============================] - 66s 360ms/step - loss: 0.0048 - acc: 0.8643 - val_loss: 0.0060 - val_acc: 0.9894\n",
            "Epoch 9/1000\n",
            "183/183 [==============================] - 65s 357ms/step - loss: 0.0053 - acc: 0.9447 - val_loss: 0.0080 - val_acc: 0.9910\n",
            "Epoch 10/1000\n",
            "183/183 [==============================] - 65s 357ms/step - loss: 0.0068 - acc: 0.8686 - val_loss: 0.0067 - val_acc: 0.9900\n",
            "Epoch 11/1000\n",
            "183/183 [==============================] - 65s 359ms/step - loss: 0.0047 - acc: 0.9459 - val_loss: 0.0108 - val_acc: 0.9893\n",
            "Epoch 12/1000\n",
            "183/183 [==============================] - 65s 358ms/step - loss: 0.0038 - acc: 0.9861 - val_loss: 0.0093 - val_acc: 0.9895\n",
            "Epoch 13/1000\n",
            "183/183 [==============================] - 65s 357ms/step - loss: 0.0039 - acc: 0.9597 - val_loss: 0.0090 - val_acc: 0.9912\n"
          ]
        },
        {
          "output_type": "execute_result",
          "data": {
            "text/plain": [
              "<keras.callbacks.History at 0x7f24bbedae90>"
            ]
          },
          "metadata": {},
          "execution_count": 6
        }
      ]
    },
    {
      "cell_type": "code",
      "source": [
        "from google.colab import files\n",
        "files.download('/content/detector_icdar2013.h5') "
      ],
      "metadata": {
        "id": "MPTy9EOrN3_T",
        "colab": {
          "base_uri": "https://localhost:8080/",
          "height": 17
        },
        "outputId": "1206303a-c9f4-41c3-a32f-b67e7db860f4"
      },
      "execution_count": 7,
      "outputs": [
        {
          "output_type": "display_data",
          "data": {
            "text/plain": [
              "<IPython.core.display.Javascript object>"
            ],
            "application/javascript": [
              "\n",
              "    async function download(id, filename, size) {\n",
              "      if (!google.colab.kernel.accessAllowed) {\n",
              "        return;\n",
              "      }\n",
              "      const div = document.createElement('div');\n",
              "      const label = document.createElement('label');\n",
              "      label.textContent = `Downloading \"${filename}\": `;\n",
              "      div.appendChild(label);\n",
              "      const progress = document.createElement('progress');\n",
              "      progress.max = size;\n",
              "      div.appendChild(progress);\n",
              "      document.body.appendChild(div);\n",
              "\n",
              "      const buffers = [];\n",
              "      let downloaded = 0;\n",
              "\n",
              "      const channel = await google.colab.kernel.comms.open(id);\n",
              "      // Send a message to notify the kernel that we're ready.\n",
              "      channel.send({})\n",
              "\n",
              "      for await (const message of channel.messages) {\n",
              "        // Send a message to notify the kernel that we're ready.\n",
              "        channel.send({})\n",
              "        if (message.buffers) {\n",
              "          for (const buffer of message.buffers) {\n",
              "            buffers.push(buffer);\n",
              "            downloaded += buffer.byteLength;\n",
              "            progress.value = downloaded;\n",
              "          }\n",
              "        }\n",
              "      }\n",
              "      const blob = new Blob(buffers, {type: 'application/binary'});\n",
              "      const a = document.createElement('a');\n",
              "      a.href = window.URL.createObjectURL(blob);\n",
              "      a.download = filename;\n",
              "      div.appendChild(a);\n",
              "      a.click();\n",
              "      div.remove();\n",
              "    }\n",
              "  "
            ]
          },
          "metadata": {}
        },
        {
          "output_type": "display_data",
          "data": {
            "text/plain": [
              "<IPython.core.display.Javascript object>"
            ],
            "application/javascript": [
              "download(\"download_a44c10ba-d945-430c-8dbb-62555f9f1d1c\", \"detector_icdar2013.h5\", 249742232)"
            ]
          },
          "metadata": {}
        }
      ]
    }
  ]
}