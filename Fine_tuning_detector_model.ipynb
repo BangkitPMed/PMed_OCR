{
  "nbformat": 4,
  "nbformat_minor": 0,
  "metadata": {
    "colab": {
      "name": "Fine_tuning_detector_model .ipynb",
      "provenance": [],
      "collapsed_sections": []
    },
    "kernelspec": {
      "name": "python3",
      "display_name": "Python 3"
    },
    "language_info": {
      "name": "python"
    },
    "accelerator": "GPU"
  },
  "cells": [
    {
      "cell_type": "code",
      "execution_count": 1,
      "metadata": {
        "colab": {
          "base_uri": "https://localhost:8080/"
        },
        "id": "DQH9UwKuMX_4",
        "outputId": "9d5bcf43-f369-4219-bdd4-26ab360f0be7"
      },
      "outputs": [
        {
          "output_type": "stream",
          "name": "stdout",
          "text": [
            "Looking in indexes: https://pypi.org/simple, https://us-python.pkg.dev/colab-wheels/public/simple/\n",
            "Collecting git+https://github.com/faustomorales/keras-ocr.git\n",
            "  Cloning https://github.com/faustomorales/keras-ocr.git to /tmp/pip-req-build-qiimra23\n",
            "  Running command git clone -q https://github.com/faustomorales/keras-ocr.git /tmp/pip-req-build-qiimra23\n",
            "  Installing build dependencies ... \u001b[?25l\u001b[?25hdone\n",
            "  Getting requirements to build wheel ... \u001b[?25l\u001b[?25hdone\n",
            "    Preparing wheel metadata ... \u001b[?25l\u001b[?25hdone\n",
            "Requirement already satisfied: tqdm in /usr/local/lib/python3.7/dist-packages (from keras-ocr==0.9.0.post2+40bb9bd) (4.64.0)\n",
            "Collecting validators\n",
            "  Downloading validators-0.19.0.tar.gz (30 kB)\n",
            "Requirement already satisfied: editdistance in /usr/local/lib/python3.7/dist-packages (from keras-ocr==0.9.0.post2+40bb9bd) (0.5.3)\n",
            "Collecting pyclipper\n",
            "  Downloading pyclipper-1.3.0.post2-cp37-cp37m-manylinux_2_5_x86_64.manylinux1_x86_64.whl (603 kB)\n",
            "\u001b[K     |████████████████████████████████| 603 kB 55.6 MB/s \n",
            "\u001b[?25hRequirement already satisfied: shapely in /usr/local/lib/python3.7/dist-packages (from keras-ocr==0.9.0.post2+40bb9bd) (1.8.2)\n",
            "Collecting fonttools\n",
            "  Downloading fonttools-4.33.3-py3-none-any.whl (930 kB)\n",
            "\u001b[K     |████████████████████████████████| 930 kB 52.9 MB/s \n",
            "\u001b[?25hCollecting essential_generators\n",
            "  Downloading essential_generators-1.0-py3-none-any.whl (9.5 MB)\n",
            "\u001b[K     |████████████████████████████████| 9.5 MB 16.8 MB/s \n",
            "\u001b[?25hCollecting efficientnet==1.0.0\n",
            "  Downloading efficientnet-1.0.0-py3-none-any.whl (17 kB)\n",
            "Requirement already satisfied: imgaug in /usr/local/lib/python3.7/dist-packages (from keras-ocr==0.9.0.post2+40bb9bd) (0.2.9)\n",
            "Collecting keras-applications<=1.0.8,>=1.0.7\n",
            "  Downloading Keras_Applications-1.0.8-py3-none-any.whl (50 kB)\n",
            "\u001b[K     |████████████████████████████████| 50 kB 8.0 MB/s \n",
            "\u001b[?25hRequirement already satisfied: scikit-image in /usr/local/lib/python3.7/dist-packages (from efficientnet==1.0.0->keras-ocr==0.9.0.post2+40bb9bd) (0.18.3)\n",
            "Requirement already satisfied: numpy>=1.9.1 in /usr/local/lib/python3.7/dist-packages (from keras-applications<=1.0.8,>=1.0.7->efficientnet==1.0.0->keras-ocr==0.9.0.post2+40bb9bd) (1.21.6)\n",
            "Requirement already satisfied: h5py in /usr/local/lib/python3.7/dist-packages (from keras-applications<=1.0.8,>=1.0.7->efficientnet==1.0.0->keras-ocr==0.9.0.post2+40bb9bd) (3.1.0)\n",
            "Requirement already satisfied: cached-property in /usr/local/lib/python3.7/dist-packages (from h5py->keras-applications<=1.0.8,>=1.0.7->efficientnet==1.0.0->keras-ocr==0.9.0.post2+40bb9bd) (1.5.2)\n",
            "Requirement already satisfied: six in /usr/local/lib/python3.7/dist-packages (from imgaug->keras-ocr==0.9.0.post2+40bb9bd) (1.15.0)\n",
            "Requirement already satisfied: scipy in /usr/local/lib/python3.7/dist-packages (from imgaug->keras-ocr==0.9.0.post2+40bb9bd) (1.4.1)\n",
            "Requirement already satisfied: matplotlib in /usr/local/lib/python3.7/dist-packages (from imgaug->keras-ocr==0.9.0.post2+40bb9bd) (3.2.2)\n",
            "Requirement already satisfied: opencv-python in /usr/local/lib/python3.7/dist-packages (from imgaug->keras-ocr==0.9.0.post2+40bb9bd) (4.1.2.30)\n",
            "Requirement already satisfied: imageio in /usr/local/lib/python3.7/dist-packages (from imgaug->keras-ocr==0.9.0.post2+40bb9bd) (2.4.1)\n",
            "Requirement already satisfied: Pillow in /usr/local/lib/python3.7/dist-packages (from imgaug->keras-ocr==0.9.0.post2+40bb9bd) (7.1.2)\n",
            "Requirement already satisfied: tifffile>=2019.7.26 in /usr/local/lib/python3.7/dist-packages (from scikit-image->efficientnet==1.0.0->keras-ocr==0.9.0.post2+40bb9bd) (2021.11.2)\n",
            "Requirement already satisfied: PyWavelets>=1.1.1 in /usr/local/lib/python3.7/dist-packages (from scikit-image->efficientnet==1.0.0->keras-ocr==0.9.0.post2+40bb9bd) (1.3.0)\n",
            "Requirement already satisfied: networkx>=2.0 in /usr/local/lib/python3.7/dist-packages (from scikit-image->efficientnet==1.0.0->keras-ocr==0.9.0.post2+40bb9bd) (2.6.3)\n",
            "Requirement already satisfied: cycler>=0.10 in /usr/local/lib/python3.7/dist-packages (from matplotlib->imgaug->keras-ocr==0.9.0.post2+40bb9bd) (0.11.0)\n",
            "Requirement already satisfied: pyparsing!=2.0.4,!=2.1.2,!=2.1.6,>=2.0.1 in /usr/local/lib/python3.7/dist-packages (from matplotlib->imgaug->keras-ocr==0.9.0.post2+40bb9bd) (3.0.9)\n",
            "Requirement already satisfied: kiwisolver>=1.0.1 in /usr/local/lib/python3.7/dist-packages (from matplotlib->imgaug->keras-ocr==0.9.0.post2+40bb9bd) (1.4.2)\n",
            "Requirement already satisfied: python-dateutil>=2.1 in /usr/local/lib/python3.7/dist-packages (from matplotlib->imgaug->keras-ocr==0.9.0.post2+40bb9bd) (2.8.2)\n",
            "Requirement already satisfied: typing-extensions in /usr/local/lib/python3.7/dist-packages (from kiwisolver>=1.0.1->matplotlib->imgaug->keras-ocr==0.9.0.post2+40bb9bd) (4.2.0)\n",
            "Requirement already satisfied: decorator>=3.4.0 in /usr/local/lib/python3.7/dist-packages (from validators->keras-ocr==0.9.0.post2+40bb9bd) (4.4.2)\n",
            "Building wheels for collected packages: keras-ocr, validators\n",
            "  Building wheel for keras-ocr (PEP 517) ... \u001b[?25l\u001b[?25hdone\n",
            "  Created wheel for keras-ocr: filename=keras_ocr-0.9.0.post2+40bb9bd-py3-none-any.whl size=42441 sha256=395ed38f34cb967c37e2cf7ce5f322a5231d7070ae68addf74cc2ca4a5851340\n",
            "  Stored in directory: /tmp/pip-ephem-wheel-cache-a6d4nupn/wheels/20/d0/06/ed290995144ec8dde71d3a91d0d590145445c01be60ea70c9b\n",
            "  Building wheel for validators (setup.py) ... \u001b[?25l\u001b[?25hdone\n",
            "  Created wheel for validators: filename=validators-0.19.0-py3-none-any.whl size=19553 sha256=6b1b7b2f57baaf82ba54c4b283e6526c015ebc2b44aa1229b7b4d7f2bdddcd39\n",
            "  Stored in directory: /root/.cache/pip/wheels/fe/5d/69/ff53a908b9f14fb7730a58fdede0fac4cdc99ef3624ec76d05\n",
            "Successfully built keras-ocr validators\n",
            "Installing collected packages: keras-applications, validators, pyclipper, fonttools, essential-generators, efficientnet, keras-ocr\n",
            "Successfully installed efficientnet-1.0.0 essential-generators-1.0 fonttools-4.33.3 keras-applications-1.0.8 keras-ocr-0.9.0.post2+40bb9bd pyclipper-1.3.0.post2 validators-0.19.0\n",
            "Looking in indexes: https://pypi.org/simple, https://us-python.pkg.dev/colab-wheels/public/simple/\n",
            "Requirement already satisfied: imgaug in /usr/local/lib/python3.7/dist-packages (0.2.9)\n",
            "Requirement already satisfied: numpy>=1.15.0 in /usr/local/lib/python3.7/dist-packages (from imgaug) (1.21.6)\n",
            "Requirement already satisfied: opencv-python in /usr/local/lib/python3.7/dist-packages (from imgaug) (4.1.2.30)\n",
            "Requirement already satisfied: six in /usr/local/lib/python3.7/dist-packages (from imgaug) (1.15.0)\n",
            "Requirement already satisfied: Shapely in /usr/local/lib/python3.7/dist-packages (from imgaug) (1.8.2)\n",
            "Requirement already satisfied: scipy in /usr/local/lib/python3.7/dist-packages (from imgaug) (1.4.1)\n",
            "Requirement already satisfied: imageio in /usr/local/lib/python3.7/dist-packages (from imgaug) (2.4.1)\n",
            "Requirement already satisfied: scikit-image>=0.11.0 in /usr/local/lib/python3.7/dist-packages (from imgaug) (0.18.3)\n",
            "Requirement already satisfied: matplotlib in /usr/local/lib/python3.7/dist-packages (from imgaug) (3.2.2)\n",
            "Requirement already satisfied: Pillow in /usr/local/lib/python3.7/dist-packages (from imgaug) (7.1.2)\n",
            "Requirement already satisfied: networkx>=2.0 in /usr/local/lib/python3.7/dist-packages (from scikit-image>=0.11.0->imgaug) (2.6.3)\n",
            "Requirement already satisfied: PyWavelets>=1.1.1 in /usr/local/lib/python3.7/dist-packages (from scikit-image>=0.11.0->imgaug) (1.3.0)\n",
            "Requirement already satisfied: tifffile>=2019.7.26 in /usr/local/lib/python3.7/dist-packages (from scikit-image>=0.11.0->imgaug) (2021.11.2)\n",
            "Requirement already satisfied: kiwisolver>=1.0.1 in /usr/local/lib/python3.7/dist-packages (from matplotlib->imgaug) (1.4.2)\n",
            "Requirement already satisfied: python-dateutil>=2.1 in /usr/local/lib/python3.7/dist-packages (from matplotlib->imgaug) (2.8.2)\n",
            "Requirement already satisfied: cycler>=0.10 in /usr/local/lib/python3.7/dist-packages (from matplotlib->imgaug) (0.11.0)\n",
            "Requirement already satisfied: pyparsing!=2.0.4,!=2.1.2,!=2.1.6,>=2.0.1 in /usr/local/lib/python3.7/dist-packages (from matplotlib->imgaug) (3.0.9)\n",
            "Requirement already satisfied: typing-extensions in /usr/local/lib/python3.7/dist-packages (from kiwisolver>=1.0.1->matplotlib->imgaug) (4.2.0)\n",
            "Looking in indexes: https://pypi.org/simple, https://us-python.pkg.dev/colab-wheels/public/simple/\n",
            "Requirement already satisfied: opencv-python in /usr/local/lib/python3.7/dist-packages (4.1.2.30)\n",
            "Collecting opencv-python\n",
            "  Downloading opencv_python-4.5.5.64-cp36-abi3-manylinux_2_17_x86_64.manylinux2014_x86_64.whl (60.5 MB)\n",
            "\u001b[K     |████████████████████████████████| 60.5 MB 1.2 MB/s \n",
            "\u001b[?25hRequirement already satisfied: numpy>=1.14.5 in /usr/local/lib/python3.7/dist-packages (from opencv-python) (1.21.6)\n",
            "Installing collected packages: opencv-python\n",
            "  Attempting uninstall: opencv-python\n",
            "    Found existing installation: opencv-python 4.1.2.30\n",
            "    Uninstalling opencv-python-4.1.2.30:\n",
            "      Successfully uninstalled opencv-python-4.1.2.30\n",
            "\u001b[31mERROR: pip's dependency resolver does not currently take into account all the packages that are installed. This behaviour is the source of the following dependency conflicts.\n",
            "albumentations 0.1.12 requires imgaug<0.2.7,>=0.2.5, but you have imgaug 0.2.9 which is incompatible.\u001b[0m\n",
            "Successfully installed opencv-python-4.5.5.64\n",
            "/usr/local/lib/python3.7/dist-packages/gdown/cli.py:131: FutureWarning: Option `--id` was deprecated in version 4.3.1 and will be removed in 5.0. You don't need to pass it anymore to use a file ID.\n",
            "  category=FutureWarning,\n",
            "Downloading...\n",
            "From: https://drive.google.com/uc?id=1BEOWSoIbzXgPnxtaKdCuP9qxYuOgCwSd\n",
            "To: /content/Challenge2_Test_Task12_Images.zip\n",
            "100% 115M/115M [00:00<00:00, 210MB/s]\n",
            "/usr/local/lib/python3.7/dist-packages/gdown/cli.py:131: FutureWarning: Option `--id` was deprecated in version 4.3.1 and will be removed in 5.0. You don't need to pass it anymore to use a file ID.\n",
            "  category=FutureWarning,\n",
            "Downloading...\n",
            "From: https://drive.google.com/uc?id=12JOXOOHnK8LIbzwxKHTZsLVyZVAGs2kE\n",
            "To: /content/Challenge2_Test_Task1_GT.zip\n",
            "100% 46.9k/46.9k [00:00<00:00, 55.2MB/s]\n",
            "/usr/local/lib/python3.7/dist-packages/gdown/cli.py:131: FutureWarning: Option `--id` was deprecated in version 4.3.1 and will be removed in 5.0. You don't need to pass it anymore to use a file ID.\n",
            "  category=FutureWarning,\n",
            "Downloading...\n",
            "From: https://drive.google.com/uc?id=1dhn30gRDRKWiF24Gi8dd4bhEMxvVXi3_\n",
            "To: /content/Challenge2_Training_Task1_GT.zip\n",
            "100% 39.4k/39.4k [00:00<00:00, 55.9MB/s]\n",
            "/usr/local/lib/python3.7/dist-packages/gdown/cli.py:131: FutureWarning: Option `--id` was deprecated in version 4.3.1 and will be removed in 5.0. You don't need to pass it anymore to use a file ID.\n",
            "  category=FutureWarning,\n",
            "Downloading...\n",
            "From: https://drive.google.com/uc?id=1Yq2LgCgstCSD9S1Hvz2y5EviucbIOX9o\n",
            "To: /content/Challenge2_Training_Task12_Images.zip\n",
            "100% 149M/149M [00:00<00:00, 227MB/s]\n"
          ]
        }
      ],
      "source": [
        "!pip install -U git+https://github.com/faustomorales/keras-ocr.git\n",
        "!pip install imgaug\n",
        "!pip install -U opencv-python\n",
        "\n",
        "!gdown --id 1BEOWSoIbzXgPnxtaKdCuP9qxYuOgCwSd\n",
        "!gdown --id 12JOXOOHnK8LIbzwxKHTZsLVyZVAGs2kE\n",
        "!gdown --id 1dhn30gRDRKWiF24Gi8dd4bhEMxvVXi3_\n",
        "!gdown --id 1Yq2LgCgstCSD9S1Hvz2y5EviucbIOX9o\n",
        "%tensorflow_version 2.x"
      ]
    },
    {
      "cell_type": "code",
      "source": [
        "import os\n",
        "import math\n",
        "import imgaug\n",
        "import numpy as np\n",
        "import matplotlib.pyplot as plt\n",
        "import sklearn.model_selection\n",
        "import tensorflow as tf\n",
        "import zipfile\n",
        "import typing\n",
        "\n",
        "import keras_ocr\n",
        "\n",
        "dir = \".\""
      ],
      "metadata": {
        "id": "3pEbSm9MMggg"
      },
      "execution_count": 2,
      "outputs": []
    },
    {
      "cell_type": "code",
      "source": [
        "def extract_train_dataset(main_dir=\".\"):\n",
        "  if not os.path.isdir(main_dir):\n",
        "    os.mkdir(main_dir)\n",
        "  train_image_dir = os.path.join(main_dir, \"train_images\")\n",
        "  if not os.path.isdir(train_image_dir):\n",
        "    os.mkdir(train_image_dir)\n",
        "  training_zip_images_path = os.path.join(\".\", \"Challenge2_Training_Task12_Images.zip\")\n",
        "  if len(os.listdir(train_image_dir)) != 229:\n",
        "    with zipfile.ZipFile(training_zip_images_path, 'r') as zip_ref:\n",
        "      zip_ref.extractall(train_image_dir)\n",
        "\n",
        "  train_gt_dir = os.path.join(main_dir, \"train_gt\")\n",
        "  if not os.path.isdir(train_gt_dir):\n",
        "    os.mkdir(train_gt_dir)\n",
        "  training_zip_gt_path = os.path.join(\".\", \"Challenge2_Training_Task1_GT.zip\")\n",
        "  if len(os.listdir(train_gt_dir)) != 229:\n",
        "      with zipfile.ZipFile(training_zip_gt_path) as zfile:\n",
        "          zfile.extractall(train_gt_dir)"
      ],
      "metadata": {
        "id": "FCrRtfEsavwR"
      },
      "execution_count": 13,
      "outputs": []
    },
    {
      "cell_type": "code",
      "source": [
        "def extract_test_dataset(main_dir=\".\"):\n",
        "  if not os.path.isdir(main_dir):\n",
        "    os.mkdir(main_dir)\n",
        "  test_image_dir = os.path.join(main_dir, \"test_images\")\n",
        "  if not os.path.isdir(test_image_dir):\n",
        "    os.mkdir(test_image_dir)\n",
        "  test_zip_images_path = os.path.join(\".\", \"Challenge2_Test_Task12_Images.zip\")\n",
        "  if len(os.listdir(test_image_dir)) != 233:\n",
        "    with zipfile.ZipFile(test_zip_images_path, 'r') as zip_ref:\n",
        "      zip_ref.extractall(test_image_dir)\n",
        "\n",
        "  test_gt_dir = os.path.join(main_dir, \"test_gt\")\n",
        "  if not os.path.isdir(test_gt_dir):\n",
        "    os.mkdir(test_gt_dir)\n",
        "  test_zip_gt_path = os.path.join(\".\", \"Challenge2_Test_Task1_GT.zip\")\n",
        "  if len(os.listdir(test_gt_dir)) != 233:\n",
        "      with zipfile.ZipFile(test_zip_gt_path) as zfile:\n",
        "          zfile.extractall(test_gt_dir)"
      ],
      "metadata": {
        "id": "n1o78CwfbQUr"
      },
      "execution_count": 14,
      "outputs": []
    },
    {
      "cell_type": "code",
      "source": [
        "def preprocess_train_dataset(dir=\".\"):\n",
        "  main_dir = os.path.join(dir, \"icdar2013\")\n",
        "  extract_train_dataset(main_dir)\n",
        "  dataset = []\n",
        "\n",
        "  train_gt_dir = os.path.join(main_dir, \"train_gt\")\n",
        "  train_image_dir = os.path.join(main_dir, \"train_images\")\n",
        "\n",
        "  for filename in os.listdir(train_gt_dir):\n",
        "    file_path = os.path.join(train_gt_dir, filename)\n",
        "    image_id = filename.split(\"_\")[1].split(\".\")[0]\n",
        "    image_path = os.path.join(train_image_dir, image_id + \".jpg\")\n",
        "    lines = []\n",
        "    with open(file_path, \"r\", encoding=\"utf8\") as f:\n",
        "      current_line: typing.List[typing.Tuple[np.ndarray, str]] = []\n",
        "      for row in f.read().split(\"\\n\"):\n",
        "        if row == \"\":\n",
        "          lines.append(current_line)\n",
        "          current_line = []\n",
        "        else:\n",
        "          line_row = row.split(\" \")\n",
        "          text = line_row[-1].strip(\"\\\"\")\n",
        "          x1, y1, x2, y2 = map(int, line_row[:4])\n",
        "          current_line.append(\n",
        "              (np.array([[x1, y1], [x2, y1], [x2, y2], [x1, y2]]), text)\n",
        "          )\n",
        "      lines = [line for line in lines if line]\n",
        "      dataset.append((image_path, lines, 1)) \n",
        "\n",
        "  return dataset"
      ],
      "metadata": {
        "id": "9yZUjAjrQ1aW"
      },
      "execution_count": 115,
      "outputs": []
    },
    {
      "cell_type": "code",
      "source": [
        "def preprocess_test_dataset(dir=\".\"):\n",
        "  main_dir = os.path.join(dir, \"icdar2013\")\n",
        "  extract_test_dataset(main_dir)\n",
        "  dataset = []\n",
        "\n",
        "  test_gt_dir = os.path.join(main_dir, \"test_gt\")\n",
        "  test_image_dir = os.path.join(main_dir, \"test_images\")\n",
        "\n",
        "  for filename in os.listdir(test_gt_dir):\n",
        "    file_path = os.path.join(test_gt_dir, filename)\n",
        "    image_id = filename.split(\"_\")[2].split(\".\")[0]\n",
        "    image_path = os.path.join(test_image_dir, \"img_\" + image_id + \".jpg\")\n",
        "    lines = []\n",
        "    with open(file_path, \"r\", encoding=\"utf8\") as f:\n",
        "      current_line: typing.List[typing.Tuple[np.ndarray, str]] = []\n",
        "      for row in f.read().split(\"\\n\"):\n",
        "        if row == \"\":\n",
        "          lines.append(current_line)\n",
        "          current_line = []\n",
        "        else:\n",
        "          line_row = row.split(\", \")\n",
        "          text = line_row[-1].strip(\"\\\"\")\n",
        "          x1, y1, x2, y2 = map(int, line_row[:4])\n",
        "          current_line.append(\n",
        "              (np.array([[x1, y1], [x2, y1], [x2, y2], [x1, y2]]), text)\n",
        "          )\n",
        "      lines = [line for line in lines if line]\n",
        "      dataset.append((image_path, lines, 1)) \n",
        "\n",
        "  return dataset"
      ],
      "metadata": {
        "id": "BwzZq_IC4auX"
      },
      "execution_count": 114,
      "outputs": []
    },
    {
      "cell_type": "code",
      "source": [
        "train_labels = preprocess_train_dataset(dir)\n",
        "test_labels = preprocess_test_dataset(dir)"
      ],
      "metadata": {
        "id": "oPYBLvhPbzpB"
      },
      "execution_count": 116,
      "outputs": []
    },
    {
      "cell_type": "code",
      "source": [
        "print(train_labels[0])"
      ],
      "metadata": {
        "colab": {
          "base_uri": "https://localhost:8080/"
        },
        "id": "7nrgchlBVWcw",
        "outputId": "332f4b39-01b3-45a2-ff95-8354baf81263"
      },
      "execution_count": 117,
      "outputs": [
        {
          "output_type": "stream",
          "name": "stdout",
          "text": [
            "('./icdar2013/train_images/189.jpg', [[(array([[129,  74],\n",
            "       [390,  74],\n",
            "       [390, 114],\n",
            "       [129, 114]]), 'WALLACE'), (array([[107, 588],\n",
            "       [423, 588],\n",
            "       [423, 629],\n",
            "       [107, 629]]), 'MONUMENT')]], 1)\n"
          ]
        }
      ]
    },
    {
      "cell_type": "code",
      "source": [
        "train_labels, validation_labels = sklearn.model_selection.train_test_split(train_labels, train_size=0.8, random_state=42)\n",
        "\n",
        "augmenter = imgaug.augmenters.Sequential([\n",
        "    imgaug.augmenters.Affine(\n",
        "      scale=(1.0, 1.2),\n",
        "      rotate=(-5, 5)\n",
        "    ),\n",
        "    imgaug.augmenters.GaussianBlur(sigma=(0, 0.5)),\n",
        "    imgaug.augmenters.Multiply((0.8, 1.2), per_channel=0.2)\n",
        "])\n",
        "\n",
        "generator_kwargs = {'width': 640, 'height': 640}\n",
        "training_image_generator = keras_ocr.datasets.get_detector_image_generator(\n",
        "    labels=train_labels,\n",
        "    augmenter=augmenter,\n",
        "    **generator_kwargs\n",
        ")\n",
        "validation_image_generator = keras_ocr.datasets.get_detector_image_generator(\n",
        "    labels=validation_labels,\n",
        "    **generator_kwargs\n",
        ")\n",
        "\n",
        "test_image_generator = keras_ocr.datasets.get_detector_image_generator(\n",
        "    labels=test_labels,\n",
        "    **generator_kwargs\n",
        ")"
      ],
      "metadata": {
        "id": "BICl8XoXMrMt"
      },
      "execution_count": 118,
      "outputs": []
    },
    {
      "cell_type": "code",
      "source": [
        "detector = keras_ocr.detection.Detector()"
      ],
      "metadata": {
        "colab": {
          "base_uri": "https://localhost:8080/"
        },
        "id": "jnKiQYoQNSfN",
        "outputId": "35d215d9-11b0-4e53-97fc-f32c9f9306b1"
      },
      "execution_count": 124,
      "outputs": [
        {
          "output_type": "stream",
          "name": "stdout",
          "text": [
            "Looking for /root/.keras-ocr/craft_mlt_25k.h5\n"
          ]
        }
      ]
    },
    {
      "cell_type": "code",
      "source": [
        "batch_size = 1\n",
        "training_generator, validation_generator, test_generator = [\n",
        "    detector.get_batch_generator(\n",
        "        image_generator=image_generator, batch_size=batch_size\n",
        "    ) for image_generator in\n",
        "    [training_image_generator, validation_image_generator, test_image_generator]\n",
        "]"
      ],
      "metadata": {
        "id": "D4XbIorCNWXS"
      },
      "execution_count": 120,
      "outputs": []
    },
    {
      "cell_type": "code",
      "source": [
        "detector.model.fit(\n",
        "    x=training_generator,\n",
        "    steps_per_epoch=math.ceil(len(train_labels) / batch_size),\n",
        "    epochs=1000,\n",
        "    callbacks=[\n",
        "        tf.keras.callbacks.EarlyStopping(restore_best_weights=True, patience=5),\n",
        "        tf.keras.callbacks.ModelCheckpoint(filepath=os.path.join(dir, 'detector_icdar2013.h5'))\n",
        "    ],\n",
        "    validation_data=validation_generator,\n",
        "    validation_steps=math.ceil(len(validation_labels) / batch_size),\n",
        "    verbose=1\n",
        ")"
      ],
      "metadata": {
        "colab": {
          "base_uri": "https://localhost:8080/"
        },
        "id": "PBc6koQXNy4R",
        "outputId": "e8c19b96-2ae0-4096-a12d-c73c6b441505"
      },
      "execution_count": 125,
      "outputs": [
        {
          "output_type": "stream",
          "name": "stdout",
          "text": [
            "Epoch 1/1000\n",
            "183/183 [==============================] - 54s 280ms/step - loss: 0.0135 - val_loss: 0.0131\n",
            "Epoch 2/1000\n",
            "183/183 [==============================] - 53s 289ms/step - loss: 0.0113 - val_loss: 0.0173\n",
            "Epoch 3/1000\n",
            "183/183 [==============================] - 53s 289ms/step - loss: 0.0095 - val_loss: 0.0131\n",
            "Epoch 4/1000\n",
            "183/183 [==============================] - 52s 287ms/step - loss: 0.0095 - val_loss: 0.0172\n",
            "Epoch 5/1000\n",
            "183/183 [==============================] - 53s 289ms/step - loss: 0.0093 - val_loss: 0.0137\n",
            "Epoch 6/1000\n",
            "183/183 [==============================] - 52s 285ms/step - loss: 0.0083 - val_loss: 0.0113\n",
            "Epoch 7/1000\n",
            "183/183 [==============================] - 52s 287ms/step - loss: 0.0081 - val_loss: 0.0144\n",
            "Epoch 8/1000\n",
            "183/183 [==============================] - 53s 291ms/step - loss: 0.0082 - val_loss: 0.0098\n",
            "Epoch 9/1000\n",
            "183/183 [==============================] - 53s 288ms/step - loss: 0.0064 - val_loss: 0.0124\n",
            "Epoch 10/1000\n",
            "183/183 [==============================] - 52s 284ms/step - loss: 0.0055 - val_loss: 0.0093\n",
            "Epoch 11/1000\n",
            "183/183 [==============================] - 53s 289ms/step - loss: 0.0068 - val_loss: 0.0141\n",
            "Epoch 12/1000\n",
            "183/183 [==============================] - 52s 287ms/step - loss: 0.0053 - val_loss: 0.0121\n",
            "Epoch 13/1000\n",
            "183/183 [==============================] - 52s 286ms/step - loss: 0.0069 - val_loss: 0.0180\n",
            "Epoch 14/1000\n",
            "183/183 [==============================] - 53s 289ms/step - loss: 0.0056 - val_loss: 0.0110\n",
            "Epoch 15/1000\n",
            "183/183 [==============================] - 53s 291ms/step - loss: 0.0054 - val_loss: 0.0081\n",
            "Epoch 16/1000\n",
            "183/183 [==============================] - 52s 285ms/step - loss: 0.0051 - val_loss: 0.0101\n",
            "Epoch 17/1000\n",
            "183/183 [==============================] - 52s 286ms/step - loss: 0.0060 - val_loss: 0.0189\n",
            "Epoch 18/1000\n",
            "183/183 [==============================] - 53s 288ms/step - loss: 0.0048 - val_loss: 0.0133\n",
            "Epoch 19/1000\n",
            "183/183 [==============================] - 53s 288ms/step - loss: 0.0056 - val_loss: 0.0114\n",
            "Epoch 20/1000\n",
            "183/183 [==============================] - 52s 283ms/step - loss: 0.0054 - val_loss: 0.0200\n"
          ]
        },
        {
          "output_type": "execute_result",
          "data": {
            "text/plain": [
              "<keras.callbacks.History at 0x7fc82eb90290>"
            ]
          },
          "metadata": {},
          "execution_count": 125
        }
      ]
    },
    {
      "cell_type": "code",
      "source": [
        "from google.colab import files\n",
        "files.download('/content/detector_icdar2013.h5') "
      ],
      "metadata": {
        "id": "MPTy9EOrN3_T",
        "colab": {
          "base_uri": "https://localhost:8080/",
          "height": 34
        },
        "outputId": "e51f74fb-3889-430f-f7e0-7e6634162bb6"
      },
      "execution_count": 126,
      "outputs": [
        {
          "output_type": "display_data",
          "data": {
            "text/plain": [
              "<IPython.core.display.Javascript object>"
            ],
            "application/javascript": [
              "\n",
              "    async function download(id, filename, size) {\n",
              "      if (!google.colab.kernel.accessAllowed) {\n",
              "        return;\n",
              "      }\n",
              "      const div = document.createElement('div');\n",
              "      const label = document.createElement('label');\n",
              "      label.textContent = `Downloading \"${filename}\": `;\n",
              "      div.appendChild(label);\n",
              "      const progress = document.createElement('progress');\n",
              "      progress.max = size;\n",
              "      div.appendChild(progress);\n",
              "      document.body.appendChild(div);\n",
              "\n",
              "      const buffers = [];\n",
              "      let downloaded = 0;\n",
              "\n",
              "      const channel = await google.colab.kernel.comms.open(id);\n",
              "      // Send a message to notify the kernel that we're ready.\n",
              "      channel.send({})\n",
              "\n",
              "      for await (const message of channel.messages) {\n",
              "        // Send a message to notify the kernel that we're ready.\n",
              "        channel.send({})\n",
              "        if (message.buffers) {\n",
              "          for (const buffer of message.buffers) {\n",
              "            buffers.push(buffer);\n",
              "            downloaded += buffer.byteLength;\n",
              "            progress.value = downloaded;\n",
              "          }\n",
              "        }\n",
              "      }\n",
              "      const blob = new Blob(buffers, {type: 'application/binary'});\n",
              "      const a = document.createElement('a');\n",
              "      a.href = window.URL.createObjectURL(blob);\n",
              "      a.download = filename;\n",
              "      div.appendChild(a);\n",
              "      a.click();\n",
              "      div.remove();\n",
              "    }\n",
              "  "
            ]
          },
          "metadata": {}
        },
        {
          "output_type": "display_data",
          "data": {
            "text/plain": [
              "<IPython.core.display.Javascript object>"
            ],
            "application/javascript": [
              "download(\"download_49f61853-530d-4a99-8900-877c88d5c01e\", \"detector_icdar2013.h5\", 249742264)"
            ]
          },
          "metadata": {}
        }
      ]
    }
  ]
}